{
 "cells": [
  {
   "cell_type": "code",
   "execution_count": null,
   "id": "dee5ad57",
   "metadata": {},
   "outputs": [],
   "source": [
    "from math import log2\n",
    "import js"
   ]
  },
  {
   "cell_type": "code",
   "execution_count": null,
   "id": "2876476a",
   "metadata": {},
   "outputs": [],
   "source": [
    "def tester_presence_par_type(mot,type_symboles):\n",
    "    \"\"\"\n",
    "    Tester si un mot contient l'un des symboles de type_symboles\n",
    "    \n",
    "    PARAM\n",
    "    -----\n",
    "    mot(str) : un mot de passe\n",
    "    type_symboles(str) : symboles recherchés\n",
    "    \n",
    "    RETURN\n",
    "    -------\n",
    "    (bool)  : vrai si le mot contient l'un des symboles recherchés, faux sinon \n",
    "    \n",
    "    EXAMPLES\n",
    "    --------\n",
    "    >>> tester_presence_par_type(\"monTest\",\"abcdefghijklmnopqrstuvwxyz\")\n",
    "    True\n",
    "    (à compléter)\n",
    "    \"\"\"\n",
    "    "
   ]
  },
  {
   "cell_type": "markdown",
   "id": "7b216ff7",
   "metadata": {},
   "source": [
    "Tester votre fonction `tester_presence_par_type` sur deux exemples."
   ]
  },
  {
   "cell_type": "code",
   "execution_count": null,
   "id": "e634422c",
   "metadata": {},
   "outputs": [],
   "source": []
  },
  {
   "cell_type": "code",
   "execution_count": null,
   "id": "8c05ac50",
   "metadata": {},
   "outputs": [],
   "source": []
  },
  {
   "cell_type": "code",
   "execution_count": null,
   "id": "ec3940a1",
   "metadata": {},
   "outputs": [],
   "source": [
    "def estimer_force_mot_de_passe(mot) :\n",
    "    \"\"\"\n",
    "    Estimer la force d'un mot de passe en fonction de son entropie E\n",
    "    https://fr.wikipedia.org/wiki/Robustesse_d%27un_mot_de_passe#Entropie_des_mots_de_passe_al%C3%A9atoires\n",
    "    E = L*log_2(N) avec\n",
    "    « N » est le nombre de symboles possibles et « L » est le nombre de symboles du mot de passe\n",
    "    \n",
    "    # il y a 26 lettres minuscules,  26 lettres majuscules, 10 chiffres et 11 caractères spéciaux\n",
    "    alphabet_minuscule = 'abcdefghijklmnopqrstuvwxyz' \n",
    "    alphabet_majuscule = 'ABCDEFGHIJKLMNOPQRSTUVWXYZ'\n",
    "    nombre = '0123456789'\n",
    "    caracteres_speciaux=' -!#$%&()*?' \n",
    "    \n",
    "    PARAM\n",
    "    -----\n",
    "    mot(str) : un mot de passe\n",
    "    \n",
    "    RETURN\n",
    "    -------\n",
    "    (int)  : entropie E du mot de passe en supposant que les caractères sont aléatoires\n",
    "             \n",
    "    EXAMPLES\n",
    "    --------\n",
    "    >>> estimer_force_mot_de_passe(\"monTest\")\n",
    "    39\n",
    "    >>> estimer_force_mot_de_passe(\"monTest1\")\n",
    "    47\n",
    "    >>> estimer_force_mot_de_passe(\"mon#Test1\")\n",
    "    55\n",
    "    \"\"\"\n",
    "    # le nombre de symboles est converti en son log en base 2\n",
    "    # il y a 26 lettres minuscules,  26 lettres majuscules, 10 chiffres et 11 caractères spéciaux\n",
    "    alphabet_minuscule = 'abcdefghijklmnopqrstuvwxyz' # pb avec les accents\n",
    "    alphabet_majuscule = 'ABCDEFGHIJKLMNOPQRSTUVWXYZ'\n",
    "    nombre = '0123456789'\n",
    "    caracteres_speciaux=' -!#$%&()*?' # pb s'il ne sont pas dans la pré-liste\n",
    "\n",
    "    # détecter les 4 types de symboles \n",
    "    presences_types = [ tester_presence_par_type(mot,type) for type in (alphabet_minuscule, alphabet_majuscule, nombre, caracteres_speciaux)]\n",
    "\n",
    "\n",
    "    # déterminer le nombre de symboles possibles\n",
    "\n",
    "\n",
    "    # calculer la taille de la clé\n",
    "    \n",
    "    \n",
    "    return taille_cle, presences_types"
   ]
  },
  {
   "cell_type": "markdown",
   "id": "6fda8f9d",
   "metadata": {},
   "source": [
    "Tester votre fonction `estimer_force_mot_de_passe` sur deux exemples."
   ]
  },
  {
   "cell_type": "code",
   "execution_count": null,
   "id": "62cd6828",
   "metadata": {},
   "outputs": [],
   "source": []
  },
  {
   "cell_type": "code",
   "execution_count": null,
   "id": "5b190d47",
   "metadata": {},
   "outputs": [],
   "source": []
  },
  {
   "cell_type": "markdown",
   "id": "122012fb",
   "metadata": {},
   "source": [
    "Donner deux limites de cette fonction c'est-à-dire des cas où elle ne fonctionne pas bien. Proposer des idées pour y remédier ( sans le mettre en oeuvre).\n",
    "\n",
    "\n"
   ]
  },
  {
   "cell_type": "code",
   "execution_count": null,
   "id": "9510ffa8",
   "metadata": {},
   "outputs": [],
   "source": [
    "def estimer_niveau(nb) :\n",
    "    \"\"\"\n",
    "    Estimer le niveau de sensibilté d'un mot de passe selon les préconisations de l'ANSSI : page 28 de ce document\n",
    "    https://cyber.gouv.fr/publications/recommandations-relatives-lauthentification-multifacteur-et-aux-mots-de-passe    \n",
    "    \n",
    "    PARAM\n",
    "    -----\n",
    "    nb(int) : entropie d'un mot de passe\n",
    "    \n",
    "    RETURN\n",
    "    -------\n",
    "    (str)  : 'faible' , 'moyen' ou 'fort'\n",
    "    \n",
    "    EXAMPLES\n",
    "    --------\n",
    "    à compléter\n",
    "    \"\"\"\n",
    "\n",
    "    \n",
    "    \n",
    "    \n",
    "    \n",
    "    return niveau"
   ]
  },
  {
   "cell_type": "markdown",
   "id": "78dd9564",
   "metadata": {},
   "source": [
    "Tester votre fonction `estimer_niveau` sur deux exemples."
   ]
  },
  {
   "cell_type": "code",
   "execution_count": null,
   "id": "a0832d3e",
   "metadata": {},
   "outputs": [],
   "source": []
  },
  {
   "cell_type": "code",
   "execution_count": null,
   "id": "11339264",
   "metadata": {},
   "outputs": [],
   "source": []
  },
  {
   "cell_type": "code",
   "execution_count": null,
   "id": "fadc9d34",
   "metadata": {},
   "outputs": [],
   "source": [
    "def lister_conseils(type) :\n",
    "    \"\"\"\n",
    "    Liste de conseils pour améliorer son mot de passe selon le type de caractères qu'il contient\n",
    "    \n",
    "    PARAM\n",
    "    -----\n",
    "    type_caracteres(list) : liste de booléens selon que le mot de passe contient ou pas dans l'ordre : \n",
    "                                des minuscules, des majuscules, des chiffres ou des caracteres speciaux\n",
    "                            par exemple : [True, False, False, False] signifie que le mot de passe contient\n",
    "                            des minuscules et ne contient ni majuscules, ni chiffres ni caracteres spéciaux.\n",
    "    RETURN\n",
    "    -------\n",
    "    (list)  : liste de chaines de caractères contenant chacun un conseil\n",
    "    \n",
    "    EXAMPLES\n",
    "    --------\n",
    "    à compléter\n",
    "    \"\"\"\n",
    "    liste_conseils = [\"Allongez votre mot de passe.\"]\n",
    "    if not type[0] : # si le mot de passe ne contient pas de minuscules\n",
    "        # alors on ajoute un conseil préconisant la présence de minuscules.\n",
    "    \n",
    "    # à compléter"
   ]
  },
  {
   "cell_type": "markdown",
   "id": "48b1bf84",
   "metadata": {},
   "source": [
    "Tester votre fonction `lister_conseils` sur deux exemples."
   ]
  },
  {
   "cell_type": "code",
   "execution_count": null,
   "id": "cc216eac",
   "metadata": {},
   "outputs": [],
   "source": []
  },
  {
   "cell_type": "code",
   "execution_count": null,
   "id": "6eee98f2",
   "metadata": {},
   "outputs": [],
   "source": []
  },
  {
   "cell_type": "markdown",
   "id": "b5e3de38",
   "metadata": {},
   "source": [
    "Ci-dessous, le programme principal qui appelle toutes ces fonctions pour produire le résultat."
   ]
  },
  {
   "cell_type": "code",
   "execution_count": null,
   "id": "38caba1d",
   "metadata": {},
   "outputs": [],
   "source": [
    "# mot_de_passe = js.mot_de_passe.value  # affecte la valeur de la variable js \"mot de passe\" à la variable python \"mot de passe\"\n",
    "mot_de_passe = input(\"Entrer votre de passe pour en connaître la force :\")\n",
    "force, presences_types = estimer_force_mot_de_passe(mot_de_passe)\n",
    "print(\"presences_types python principal\",presences_types)\n",
    "niveau = estimer_niveau(force)\n",
    "print(niveau)\n",
    "liste_conseils = lister_conseils(presences_types)\n",
    "print(liste_conseils)"
   ]
  },
  {
   "cell_type": "markdown",
   "id": "1de8c4ff",
   "metadata": {},
   "source": [
    "## Transférer votre code dans la page `mot_de_passe.js`\n",
    "Dans la fonction `pyodide.runPython` après les 2 lignes de code :  \n",
    "```Python\n",
    "from math import log2  \n",
    "import js  \n",
    "``` \n",
    "- copier-coller toutes les fonctions du bloc notes\n",
    "- copier-coller le programme principal en enlevant les \"print\"\n"
   ]
  },
  {
   "cell_type": "code",
   "execution_count": null,
   "id": "aae0b93f",
   "metadata": {},
   "outputs": [],
   "source": []
  }
 ],
 "metadata": {
  "kernelspec": {
   "display_name": "Python 3 (ipykernel)",
   "language": "python",
   "name": "python3"
  },
  "language_info": {
   "codemirror_mode": {
    "name": "ipython",
    "version": 3
   },
   "file_extension": ".py",
   "mimetype": "text/x-python",
   "name": "python",
   "nbconvert_exporter": "python",
   "pygments_lexer": "ipython3",
   "version": "3.9.13"
  }
 },
 "nbformat": 4,
 "nbformat_minor": 5
}

{
 "cells": [
  {
   "cell_type": "markdown",
   "metadata": {
    "slideshow": {
     "slide_type": "slide"
    }
   },
   "source": [
    "##### TP :   JS\n"
   ]
  },
  {
   "cell_type": "markdown",
   "metadata": {
    "slideshow": {
     "slide_type": "slide"
    }
   },
   "source": [
    "\n",
    "## étape 1 : `alert('bonjour')` pour une pop-up\n",
    "Voici un script qui affiche une pop-up, dès le chargement de la page web :\n",
    "\n",
    "````html\n",
    "<script>\n",
    "     alert(\"Bonjour !\")\n",
    "</script>\n",
    "````"
   ]
  },
  {
   "cell_type": "markdown",
   "metadata": {
    "slideshow": {
     "slide_type": "slide"
    }
   },
   "source": [
    "==> Modifier ce script pour que la pop-up affiche un nombre aléatoire en utilisant la fonction aléatoire ci-dessous :\n",
    "\n",
    "````js\n",
    "x = Math.floor(Math.random() * 10) // x est un nombre entier aléatoire entre 0 et 9\n",
    "````\n",
    "\n",
    "Math.random() : donne un flottant aléatoire compris entre 0 inclus et 1 exclu (donc l'intervalle [0,1[)  \n",
    "Math.floor() : est la fonction partie entière, `Math.floor(7.9)` = 7\n",
    "\n",
    "Insérez votre script ci-dessous :"
   ]
  },
  {
   "cell_type": "raw",
   "metadata": {
    "slideshow": {
     "slide_type": "slide"
    }
   },
   "source": [
    "````html\n",
    "<script>\n",
    "     \n",
    "    alert(Math.trunc(Math.floor(Math.random() * 10));\n",
    "    \n",
    "</script>\n",
    "````"
   ]
  },
  {
   "cell_type": "markdown",
   "metadata": {
    "slideshow": {
     "slide_type": "slide"
    }
   },
   "source": [
    "## étape 2 : `getElementById()` et `innerHTML` pour écrire dans la page\n",
    "* Insérez une balise vide `div` ou `p`.\n",
    "* Mettez un identifiant sur cette balise, par ex :  `<div id=\"mon_id\"></div>`\n",
    "* Créer un script en bas de page (juste avant la fermeture de `</body>`) et y insérer :\n",
    "\n",
    "````html\n",
    "<script>\n",
    "     document.getElementById(\"mon_id\").innerHTML = \"Bonjour !\"\n",
    "</script>\n",
    "````\n",
    "==> En réactualisant la page, le script s'exécute et le message 'Bonjour !' est inséré à l'intérieur de la balise vide."
   ]
  },
  {
   "cell_type": "markdown",
   "metadata": {
    "slideshow": {
     "slide_type": "slide"
    }
   },
   "source": [
    "**Très important :**\n",
    "Recommencez en plaçant le script à l'intérieur du `head`(donc tout en haut de la page).  \n",
    "==> On constate que cette fois rien ne s'affiche et la console montre une erreur :  \n",
    "*Uncaught TypeError: Cannot set property 'innerHTML' of null*\n",
    "\n",
    "**Explication :**\n",
    "Lorsque le script est tout en haut alors :  \n",
    "\\* C'est le script qui est exécuté en premier.  \n",
    "\\* Et l'affichage du 'body' est exécuté en 2ème.  \n",
    "Par conséquent, au moment où le script s'exécute, la balise `<div id=\"mon_id\"></div>` n'existe pas encore (donc `getElementById(\"mon_id\")` renvoie *null*).  \n",
    "Ainsi le script provoque une erreur !!"
   ]
  },
  {
   "cell_type": "markdown",
   "metadata": {
    "slideshow": {
     "slide_type": "slide"
    }
   },
   "source": [
    "## étape 2 : lancer le script lors d'un événement `onclick`\n",
    "````html\n",
    "<div >\n",
    "<button id=\"mon_id\">Lancer le script</button>\n",
    "</div>\n",
    "<script>\n",
    "    function affiche_bjr() {\n",
    "        document.getElementById(\"mon_id\").innerHTML = \"Bonjour !\"\n",
    "    }\n",
    "    \n",
    "    var mon_bouton = document.getElementById(\"mon_id\")\n",
    "    mon_bouton.addEventListener('click', affiche_bjr)\n",
    "    \n",
    "</script>\n",
    "````"
   ]
  },
  {
   "cell_type": "markdown",
   "metadata": {
    "slideshow": {
     "slide_type": "slide"
    }
   },
   "source": [
    "==> 1/ Modifier ce script pour qu'il change le style de cette balise :\n",
    "\n",
    "````js\n",
    "document.getElementById(\"mon_id\").style.backgroundColor = \"blue\"\n",
    "document.getElementById(\"mon_id\").style.color = \"#428bca\"\n",
    "````\n",
    "\n",
    "==> 2/ Puis, modifier ce script pour :  \n",
    "\\* qu'il choisisse deux entiers aléatoires x et y  \n",
    "\\* et qu'il affiche le résultat de leur somme  \n",
    "Donc le script affichera par exemple :  6 + 8 = 14\n",
    "\n",
    "Insérer votre code html et votre script ci-dessous :"
   ]
  },
  {
   "cell_type": "raw",
   "metadata": {
    "slideshow": {
     "slide_type": "slide"
    }
   },
   "source": [
    "````html\n",
    "<!-- insérer ici, les balises HTML utilisées par le script -->\n",
    "\n",
    "\n",
    "<!-- Puis insérer le script ci-dessous -->\n",
    "<body>\n",
    "        <h1 id=\"titre\"></h1>\n",
    "        <button id=\"a\">test</button>\n",
    "        <script>\n",
    "            function somme() {\n",
    "                let x = Math.trunc(Math.floor(Math.random() * 10));\n",
    "                let y = Math.trunc(Math.floor(Math.random() * 10));\n",
    "                document.getElementById(\"titre\").innerHTML = `${x} + ${y} = ${x+y}`\n",
    "            }\n",
    "    \n",
    "            var mon_bouton = document.getElementById(\"a\")\n",
    "            mon_bouton.addEventListener('click', somme)\n",
    "        </script>\n",
    "    </body>\n",
    "````"
   ]
  },
  {
   "cell_type": "markdown",
   "metadata": {},
   "source": [
    "## étape 3 : parcours de liste et affichage\n",
    "Compléter le script pour afficher une liste à puces des classes de la liste \"classes\" dans la div \"mon_id\":\n",
    "- créer un élément liste à puces \n",
    "- faire une boucle pour qui parcourt la liste par indice\n",
    "    - créer un élément item de liste\n",
    "    - ajouter la valeur de la liste à l'indice étudié dans cet item de liste\n",
    "    - ajouter cet item de liste comme nouveau noeud à la liste à puces\n",
    "- ajouter cette liste à puces comme nouveau noeud dans la div \"mon_id\"\n",
    "\n",
    "````html\n",
    "<div id=\"mon_id2\">\n",
    "</div>\n",
    "\n",
    "<script>\n",
    "    const classes = [\"première 1\", \"première 2\", \"première 3\", \"première 4\"];\n",
    "    var liste = document.getElementById('mon_id2');\n",
    "    liste_a_puce = document.createElement('ul');\n",
    "    for(i = 0; i < classes.length; i++){\n",
    "        var classe = classes[i];\n",
    "        var entry = document.createElement('li');\n",
    "        entry.innerHTML = classe\n",
    "        liste_a_puce.appendChild(entry);\n",
    "    }\n",
    "    liste.appendChild(liste_a_puce);\n",
    "</script>\n",
    "````"
   ]
  },
  {
   "cell_type": "markdown",
   "metadata": {
    "slideshow": {
     "slide_type": "slide"
    }
   },
   "source": [
    "## étape 4 : un champ de texte et le script récupère sa valeur\n",
    "````html\n",
    "<div id=\"mon_id3\"></div>\n",
    "<input id=\"champDeTexte\" type=\"text\">\n",
    "<button  id=\"mon_bouton\">Lancer le script</button> \n",
    "<script>      \n",
    "  function lit_la_reponse() {      \n",
    "       var reponse = document.getElementById(\"champDeTexte\").value       \n",
    "       document.getElementById(\"mon_id3\").innerHTML = \"Bonjour \"+ reponse.toUpperCase()+\",bienvenue sur mon site web !\"   \n",
    "    }\n",
    "    \n",
    "  function changerCSS(){\n",
    "     var reponse = document.getElementById(\"champDeTexte\")\n",
    "      reponse.style.backgroundColor = \"blue\"\n",
    " }\n",
    "    var mon_bouton = document.getElementById(\"mon_bouton\")\n",
    "    mon_bouton.addEventListener('click', lit_la_reponse)\n",
    "    champDeTexte = document.getElementById(\"champDeTexte\")\n",
    "    champDeTexte.addEventListener('onFocus', changerCSS)\n",
    "</script>  \n",
    "\n",
    "````"
   ]
  },
  {
   "cell_type": "code",
   "execution_count": null,
   "metadata": {},
   "outputs": [],
   "source": []
  },
  {
   "cell_type": "markdown",
   "metadata": {
    "slideshow": {
     "slide_type": "slide"
    }
   },
   "source": [
    "==> Ecrire un script qui demande le nom de l'utilisateur (ex : Kevin), puis le ré-écrit en majuscule dans cette phrase :  \n",
    "\"Bonjour KEVIN, bienvenue sur mon site web !\"  \n",
    "\n",
    "> `mon_nom.toUpperCase()` renvoie la variable 'mon_nom' en majuscule.\n",
    "\n",
    "==> Changer le CSS du champ de texte lorsque l'utilisateur commence à taper, c'est-à-dire lors d'un événement `onFocus`."
   ]
  },
  {
   "cell_type": "raw",
   "metadata": {
    "slideshow": {
     "slide_type": "slide"
    }
   },
   "source": [
    "````html\n",
    "<!-- insérer ici, les balises HTML utilisées par le script -->\n",
    "\n",
    "\n",
    "<!-- Puis insérer le script ci-dessous -->\n",
    "<!DOCTYPE html>\n",
    "<html lang=\"fr\">\n",
    "<head>\n",
    "    <meta charset=\"UTF-8\">\n",
    "    <meta name=\"viewport\" content=\"width=device-width, initial-scale=1.0\">\n",
    "    <title>Document</title>\n",
    "</head>\n",
    "    <body>\n",
    "        <h1 id=\"titre\"></h1>\n",
    "\n",
    "        <div id=\"mon_id\">\n",
    "\n",
    "        </div>\n",
    "        <input id=\"champDeTexte\" type=\"text\">\n",
    "\n",
    "        <button  id=\"mon_bouton\">\n",
    "            Lancer le script\n",
    "        </button>\n",
    "\n",
    "        <script>\n",
    "            function lit_la_reponse() {\n",
    "                var reponse = document.getElementById(\"champDeTexte\").value;\n",
    "                document.getElementById(\"mon_id\").innerHTML = `Bonjour ${reponse.toUpperCase()}, bienvenue sur mon site web !`;\n",
    "            }\n",
    "            \n",
    "            var mon_bouton = document.getElementById(\"mon_bouton\")\n",
    "            mon_bouton.addEventListener('click', lit_la_reponse)\n",
    "        </script>\n",
    "    </body>\n",
    "</html>\n",
    "````"
   ]
  },
  {
   "cell_type": "markdown",
   "metadata": {
    "slideshow": {
     "slide_type": "slide"
    }
   },
   "source": [
    "## étape 5 :  interprète la réponse avec `if (rep == \"..\" ) { .. } else { .. }`\n",
    "````html\n",
    "<div id=\"mon_id\"></div>\n",
    "<label id=\"libelle\"></label>\n",
    "<input id=\"champDeTexte\" type=\"text\" placeholder=\"calculer la somme\">\n",
    "<button id = \"mon_bouton\">Lancer la correction</button>\n",
    "<script>\n",
    "    var x = Math.floor(Math.random() * 10) //un nombre entier aléatoire entre 0 et 9\n",
    "    \n",
    "    //on insère \"2 * x\" (en valeur) dans le libellé de la question posée :\n",
    "    document.getElementById(\"libelle\").innerHTML = \"calculer : 2 *\" + x +\" = \"  \n",
    "    \n",
    "    function corrige_la_reponse() {\n",
    "        var reponse = document.getElementById(\"champDeTexte\").value\n",
    "        if (reponse == (2*x) ) { \n",
    "            document.getElementById(\"mon_id\").innerHTML = \"Bonne réponse : \"+reponse \n",
    "        } else {\n",
    "            document.getElementById(\"mon_id\").innerHTML = \"Mauvaise réponse : \"+reponse\n",
    "        }\n",
    "    }\n",
    "    \n",
    "    var mon_bouton = document.getElementById(\"mon_bouton\")\n",
    "    mon_bouton.addEventListener('click', corrige_la_reponse)\n",
    "</script>\n",
    "````"
   ]
  },
  {
   "cell_type": "markdown",
   "metadata": {
    "slideshow": {
     "slide_type": "slide"
    }
   },
   "source": [
    "==> Ecrire le script du \"jeu du nombre mystère\" :\n",
    "* le script choisit un entier aléatoire entre 0 et 10 ... et l'utilisateur doit le trouver.\n",
    "* l'utilisateur écrit sa réponse dans le champ de texte et le script répond si \"c'est plus\" ou \"c'est moins\".\n",
    "* etc .. jusqu'à ce que l'utilisateur trouve\n",
    "\n",
    "Exemple de boucle `while` :\n",
    "````js\n",
    "n = 1\n",
    "while (n != 10) {\n",
    "    n = n + 1\n",
    "}\n",
    "````"
   ]
  },
  {
   "cell_type": "markdown",
   "metadata": {
    "slideshow": {
     "slide_type": "slide"
    }
   },
   "source": [
    "````html\n",
    "<!-- insérer ici, les balises HTML utilisées par le script -->\n",
    "\n",
    "\n",
    "<!-- Puis insérer le script ci-dessous -->\n",
    "<script>\n",
    "     \n",
    "    \n",
    "    \n",
    "    \n",
    "</script>\n",
    "````"
   ]
  },
  {
   "cell_type": "markdown",
   "metadata": {
    "slideshow": {
     "slide_type": "slide"
    }
   },
   "source": [
    "## étape 6 : nombre mystère inversé\n",
    "On échange les rôles :  \n",
    "Cette fois c'est vous qui choisissez un nombre mystère dans 0-10 et c'est le script qui vous fait des propositions.  \n",
    "A chaque proposition, vous cliquez sur un bouton \"c'est plus\" ou \"c'est moins\" ou \"c'est gagné\".  \n",
    "Bien entendu, le but du script est de trouver le nombre mystère en le minimum de coups."
   ]
  },
  {
   "cell_type": "raw",
   "metadata": {
    "slideshow": {
     "slide_type": "slide"
    }
   },
   "source": [
    "````html\n",
    "<!-- insérer ici, les balises HTML utilisées par le script -->\n",
    "\n",
    "\n",
    "<!-- Puis insérer le script ci-dessous -->\n",
    "<script>\n",
    "     \n",
    "    \n",
    "    \n",
    "    \n",
    "</script>\n",
    "````"
   ]
  },
  {
   "cell_type": "code",
   "execution_count": null,
   "metadata": {},
   "outputs": [],
   "source": []
  }
 ],
 "metadata": {
  "celltoolbar": "Format de la Cellule Texte Brut",
  "kernelspec": {
   "display_name": "Python 3 (ipykernel)",
   "language": "python",
   "name": "python3"
  },
  "language_info": {
   "codemirror_mode": {
    "name": "ipython",
    "version": 3
   },
   "file_extension": ".py",
   "mimetype": "text/x-python",
   "name": "python",
   "nbconvert_exporter": "python",
   "pygments_lexer": "ipython3",
   "version": "3.11.0"
  }
 },
 "nbformat": 4,
 "nbformat_minor": 2
}

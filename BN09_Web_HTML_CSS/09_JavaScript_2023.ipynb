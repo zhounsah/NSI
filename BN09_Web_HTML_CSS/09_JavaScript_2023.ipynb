{
 "cells": [
  {
   "cell_type": "markdown",
   "metadata": {
    "slideshow": {
     "slide_type": "slide"
    }
   },
   "source": [
    "<h1 id=\"tocheading\">Table of Contents</h1>\n",
    "<div id=\"toc\"></div>"
   ]
  },
  {
   "cell_type": "code",
   "execution_count": 1,
   "metadata": {
    "slideshow": {
     "slide_type": "slide"
    }
   },
   "outputs": [
    {
     "data": {
      "application/javascript": "$.getScript('https://kmahelona.github.io/ipython_notebook_goodies/ipython_notebook_toc.js')\n",
      "text/plain": [
       "<IPython.core.display.Javascript object>"
      ]
     },
     "metadata": {},
     "output_type": "display_data"
    }
   ],
   "source": [
    "%%javascript\n",
    "$.getScript('https://kmahelona.github.io/ipython_notebook_goodies/ipython_notebook_toc.js')"
   ]
  },
  {
   "cell_type": "markdown",
   "metadata": {
    "slideshow": {
     "slide_type": "slide"
    }
   },
   "source": [
    "##### JavaScript et Formulaires HTML \n",
    "\n",
    "\n",
    "# JavaScript : généralités\n",
    "## Un peu d'histoire ...\n",
    "Le JavaScript a été créé dans les années 1995 par l'Américain Bredan Eich, un employé de la société produisant le navigateur Netscape Navigator (le 1er navigateur à intégrer JS)."
   ]
  },
  {
   "cell_type": "markdown",
   "metadata": {
    "slideshow": {
     "slide_type": "slide"
    }
   },
   "source": [
    "**Le Javascript permet de modifier une page web à partir du navigateur**.  \n",
    "C'est le navigateur de l'ordinateur client qui *interprète* le JavaScript, on dit que c'est un langage **côté client**.  \n",
    "Contrairement au PHP, qui est compilé coté serveur. Comme l'interprétation dépend du navigateur, certaines fonctionnalités sont plus ou moins bien supportées. On obtient donc parfois des réactions différentes pour un même code selon le navigateur utilisé.   \n",
    "En réalité, il existe aussi un environnement permettant l’exécution de JavaScript *côté serveur* appelé **Nodejs**.  \n",
    "JSON = JavaScript Object Notation = un format d'échange d'objets javascript. Ex : nos bloc-notes Jupyter sont au format JSON.  \n",
    "Attention JavaScript ne doit pas être confondu avec le langage Java.\n",
    "\n",
    "Les pages que nous avons pu écrire en HTML sont toutes statiques et figées. \n",
    "Mais il est aussi possible d’interagir avec une page web. Pour cela il faut utiliser les évènements. Un évènement est un signal qui est émis par le navigateur lorsqu’une action est effectuée, par l’utilisateur, le navigateur ou certaines API. Ces évènements peuvent correspondre à un clic de souris, au survol d’un élément d’une page, à la modification d’une\n",
    "valeur dans un formulaire, un changement d’onglet. . . Il sont généralement liés à des fonctions JavaScript afin de réaliser des actions spéciales. Cela permet d’avoir des pages plus vivantes et dynamiques."
   ]
  },
  {
   "attachments": {
    "09_modele-dom.svg": {
     "image/svg+xml": [
      "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"
     ]
    }
   },
   "cell_type": "markdown",
   "metadata": {
    "slideshow": {
     "slide_type": "slide"
    }
   },
   "source": [
    "## Page HTML et arbre DOM\n",
    "*DOM = Document Object Model*\n",
    "\n",
    "D'un point de vue technique, on considère que tout navigateur démarre un nouvel interpréteur Javascript dès qu'il commence à recevoir une nouvelle page web.\n",
    "\n",
    "Une page HTML est un DOM, c'est-à-dire un arbre où chaque **balise HTML**,**texte** ou **attribut** représente un **noeud** du DOM. Javascript permet la manipulation de cet arbre.\n",
    "\n",
    "Au fur et à mesure qu'il reçoit les balises de la page web, l'interpréteur construit les objets JavaScript du DOM.  \n",
    "\n",
    "* A la racine du DOM, on trouve le `document` .\n",
    "* C'est cette structure DOM que pourra manipuler dynamiquement le JavaScript.\n",
    "* Et c'est sur ce DOM que des événements **Event** seront définis.\n",
    "\n",
    "![09_modele-dom.svg](attachment:09_modele-dom.svg)\n"
   ]
  },
  {
   "cell_type": "markdown",
   "metadata": {},
   "source": [
    "Pour visualiser le DOM dans un exemple, \n",
    "1. Ouvrir le fichier \"page_HTML5.html\" dans le navigateur Firefox.\n",
    "2. Dans la barre de menus, sélectionner Outils/Outils du navigateur/ Outils de développement web ou utiliser le raccourci : Ctrl+Shift+I\n",
    "3. Choisir l'onglet \"Inspecteur\".  \n",
    "Vous devez retrouver le code HTML de la page web comme dans l'éditeur Notepad++.  \n",
    "On peut modifier cette page web grâce au Javascript. Par exemple, \n",
    "4. Cliquer sur l'onglet \"Console\"\n",
    "5. Dans la ligne de saisie qui commence avec `>>` taper : \n",
    "`document.body.style.backgroundColor = \"red\";` puis valider avec Entrée.\n",
    "Vous devez obtenir la page sur fond rouge.  \n",
    "/!\\ Ces noms de méthodes sont spécifiques au javascript :  \n",
    "* Notez que la propriété CSS est `background-color` tandis que la propriété Javascript est `backgroundColor`.  \n",
    "6. Saisir `document.title = \"Bonjour\";`. Que se passe-t-il ?  \n",
    "**Le titre de la fenêtre change.**\n",
    "7. Rafraichir la page. Que se passe-t-il ?  \n",
    "**Le titre changé par le code ci-dessous reviens vers le titre original.**\n"
   ]
  },
  {
   "cell_type": "markdown",
   "metadata": {},
   "source": [
    "Pour réaliser ces modifications, vous avez manipulé les éléments `body` et `title`du DOM pour changer leurs propriétés ou leurs contenu. "
   ]
  },
  {
   "cell_type": "markdown",
   "metadata": {
    "slideshow": {
     "slide_type": "slide"
    }
   },
   "source": [
    "### Remarque : `;` en fin d'instruction\n",
    "Une bonne pratique est de toujoursajouter un`;` à la fin de chaque instruction."
   ]
  },
  {
   "cell_type": "markdown",
   "metadata": {
    "slideshow": {
     "slide_type": "slide"
    }
   },
   "source": [
    "Dans la suite de ce bloc-note, vous ne travaillerez pas directement dans la console pour utiliser les fonctionnalités du Javascript.  \n",
    "Vous allez créer un fichier `script.js` qui va être appelé au chargement du fichier `page_HTML5.html` par le navigateur."
   ]
  },
  {
   "cell_type": "markdown",
   "metadata": {},
   "source": [
    "## Javascript avec un script externe\n",
    "\n",
    "Pour créer un script externe au fichier HTML,\n",
    "1. Créer un fichier 'script.js' dans le même dossier que le fichier html.\n",
    "2. Ajouter dans l'entête ce fichier html (entre les balises`<head></head>`)  `<script src=\"script.js\"></script>`\n",
    "<br>NB : `<script>` n'est pas une balise auto-fermante.\n",
    "\n",
    "Parfois le navigateur charge plus rapidement fichier en javascript que le fichier html et cela produit des erreurs. Pour éviter ce genre de problème, on ajoute l'attribut `defer` qui permet d'attendre que la page soit chargée avant de lancer le script.  \n",
    "Ainsi : `<script defer src=\"script.js\"></script>` (`defer` est uniquement pour les scripts externes).\n",
    "\n",
    "3. Compléter le fichier `script.js` avec les deux instructions vues précédemment pour vérifier que le lien entre les deux fichiers fonctionne."
   ]
  },
  {
   "cell_type": "markdown",
   "metadata": {},
   "source": [
    "# Sélectionner des noeuds du DOM\n",
    "## 1er moyen : utiliser un identifiant `id`\n",
    "\n",
    "La propriété `.getElementById(\"mon_id\")` permet de sélectionner l'unique balise portant l'attibut `id = \"mon_id\"`.\n",
    "\n",
    ">  Une valeur d'identifiant `id` doit être **unique** dans la page HTML."
   ]
  },
  {
   "cell_type": "markdown",
   "metadata": {},
   "source": [
    "### Application : \n",
    "Dans le fichier `page_HTML5.html`, ajouter l'identifiant \"paragraphe_special\" à la première balise `<p>`"
   ]
  },
  {
   "cell_type": "code",
   "execution_count": null,
   "metadata": {},
   "outputs": [],
   "source": [
    "%%html \n",
    "<p id=\"paragraphe_special\">\n",
    "    Un 1<sup>er</sup> paragraphe.\n",
    "    On remarque qu'un saut de ligne dans le code source,\n",
    "    ne correspond pas à un saut de ligne dans le navigateur.\n",
    "</p>"
   ]
  },
  {
   "cell_type": "markdown",
   "metadata": {},
   "source": [
    "Dans le fichier `script.js`, effacer vos essais pour revenir à un script vide.  \n",
    "Ajouter la ligne suivante :"
   ]
  },
  {
   "cell_type": "raw",
   "metadata": {},
   "source": [
    "mon_paragraphe = document.getElementById(\"paragraphe_special\"); // on sélectionne un élément du DOM par son identifiant\n",
    "mon_paragraphe.style.color = \"green\"; // on applique une nouvelle propriété à ce noeud."
   ]
  },
  {
   "cell_type": "markdown",
   "metadata": {
    "slideshow": {
     "slide_type": "slide"
    }
   },
   "source": [
    "## 2ème moyen : utiliser un nom de balise `TagName`\n",
    "document.getElement<span style=\"color: red; font-weight : bold\">s</span>ByTagName(\"h2\")  sélectionne toutes les balises `h2` de la page html.  \n",
    "Le résultat est alors un tableau même s'il n'y a qu'un seul élément.\n",
    "Le 1er index est 0.  \n",
    "\n",
    "Pour le vérifier, dans le navigateur, ouvrir l'outil de développement web ( raccourci : Ctrl+Shift+I ).    \n",
    "puis cliquer sur l'onglet console et taper `document.getElementsByTagName(\"h2\")`  \n",
    "Vous obtenez une 'HTMLCollection' c'est-à-dire une collection toutes balises `h2` présente sur la page. Il y en a 7.  \n",
    "\n",
    "### Application\n",
    "On va afficher dans la console le contenu textuel de chacun des éléments de la collection récupérée par la sélection par TagName."
   ]
  },
  {
   "cell_type": "markdown",
   "metadata": {},
   "source": [
    "Dans le fichier `script.js`, ajouter les lignes suivantes :"
   ]
  },
  {
   "cell_type": "raw",
   "metadata": {},
   "source": [
    "mes_balises_h2 = document.getElementsByTagName(\"h2\"); // on sélectionne des éléments du DOM par leur nom de balise\n",
    "// on parcourt la collection sélectionnée pour afficher son contenu textuel en console\n",
    "for ( item of mes_balises_h2) {\n",
    "   console.log(item.textContent);\n",
    "}"
   ]
  },
  {
   "cell_type": "markdown",
   "metadata": {},
   "source": [
    "Vérifier dans la console du navigateur, que le contenu de chaque balise `h2`s'est bien affiché."
   ]
  },
  {
   "cell_type": "markdown",
   "metadata": {
    "slideshow": {
     "slide_type": "slide"
    }
   },
   "source": [
    "**Exercice** : Afficher le texte de toutes les balises `li` de la page web en bleu. "
   ]
  },
  {
   "cell_type": "markdown",
   "metadata": {},
   "source": [
    "## Autres moyens de sélectionner des noeuds du DOM"
   ]
  },
  {
   "cell_type": "markdown",
   "metadata": {
    "slideshow": {
     "slide_type": "slide"
    }
   },
   "source": [
    "### par l'attribut `Name` : document.getElementsByName(\"...\")\n",
    "La méthode document.getElementsByName(\"...\")renvoie TOUS les Noeuds du DOM qui disposent d'un attribut `name` sous la forme d'une HTMLCollection.  \n",
    "Par exemple : document.document.getElementsByName(\"choix\") renvoie tous les éléments du DOM qui disposent d'un attribut name= \"choix\" `<... name=\"choix\">...</...>`.  \n",
    "\n",
    "**NB : Quelle différence entre `name` et `id` ?**  \n",
    "Lorsqu'un formulaire est envoyé à un serveur, c'est l'attribut `name` qui est utilisé (et non l'id). Le PHP (côté serveur) traitera les données reçues : les `name` et leurs `value`.   \n",
    "Ex : On peut avoir plusieurs boutons radio qui ont des `id` différents mais portant tous le même `name`.    \n",
    "Ainsi, le formulaire n'enverra qu'une seule `value` avec ce `name` (celle du bouton radio choisi).\n",
    "\n",
    "### par la classe : getElementsByClassName(\"...\")\n",
    "La méthode getElementsByClassName(\"...\"); renvoie TOUS les éléments HTML (donc toutes les balises) du DOM qui disposent de la classe demandée sous la forme d'une HTMLCollection.  \n",
    "Par exemple : document.getElementsByClassName(\"bleu\") renvoie tous les éléments du DOM qui disposent d'un attribut class= \"bleu\" `<... class=\"bleu\">...</...>`.\n",
    "### par un sélecteur : querySelector(\"...\")\n",
    "La méthode querySelector(\"...\"); renvoie UNIQUEMENT LE PREMIER élément HTML qui correspond au Sélecteur CSS demandé.  \n",
    "Par exemple : document.querySelector(\"p.bleu\") renvoie le premier paragraphe du DOM qui dispose d'un attribut class= \"bleu\" c'est-à-dire le premier `<p class=\"bleu\">...</p>` du DOM.\n",
    "### par un sélecteur : querySelectorAll(\"...\")\n",
    "La méthode querySelectorAll(\"...\"); renvoie TOUS les Noeuds du DOM qui correspondent au Sélecteur.  \n",
    "Par exemple : document.querySelectorAll(\"p.bleu\") renvoie tous les paragraphes p qui disposent d'un attribut class=\"bleu\", c'est-à-dire tous les `<p class=\"bleu\">...</p>` sous la forme d'une NodeList(une liste de plusieurs noeuds).\n",
    "\n"
   ]
  },
  {
   "cell_type": "markdown",
   "metadata": {
    "slideshow": {
     "slide_type": "slide"
    }
   },
   "source": [
    "## Sélectionner des balises à l'intérieur d'une zone\n",
    "Si on veut limiter l'étendue à une zone, on peut entourer la cible d'une balise identifiée (un wrapper)."
   ]
  },
  {
   "cell_type": "code",
   "execution_count": null,
   "metadata": {
    "slideshow": {
     "slide_type": "slide"
    }
   },
   "outputs": [],
   "source": [
    "%%html\n",
    "<div id=\"cercle\">\n",
    "    <h5>titre 1</h5>\n",
    "    <p>un paragraphe</p>\n",
    "    <h5>titre 2</h5>\n",
    "</div>\n",
    "<script>\n",
    "    tabElements = document.getElementById(\"cercle\").getElementsByTagName(\"h5\")\n",
    "    for (var i=0 ; i < tabElements.length ; i++)\n",
    "        tabElements[i].style.color = \"blue\";\n",
    "</script>"
   ]
  },
  {
   "cell_type": "markdown",
   "metadata": {},
   "source": [
    "# Réagir à des événements\n",
    "Les événements (events) sont des réactions à des actions entre l'Humain et la Machine/page web, qui vont donner lieu à une interactivité. Le DOM - Document Object Model joue donc le rôle d'une Interface Homme Machine (IHM) pour les pages webs.  \n",
    "En voici quelques exemples : clic avec la souris sur un élément, survol d'un élément, sortie d'une zone de saisie de texte, appui sur une touche du clavier,...etc. \n",
    "\n",
    "## Réagir au clic\n",
    "On veut ajouter un bouton dans la page web qui, au clic, affiche un message d'alerte à l'utilisateur."
   ]
  },
  {
   "cell_type": "markdown",
   "metadata": {},
   "source": [
    "### 1ère méthode : dans le code HTML\n",
    "Dans un fichier html, on a :"
   ]
  },
  {
   "cell_type": "markdown",
   "metadata": {},
   "source": [
    "``` html\n",
    "<button id=\"mon_bouton\" onclick=\"ma_fonction_message()\"> Mon bouton </button>\n",
    "<h1>Un exemple de page web en HTML5 (titre en taille 1)</h1>\n",
    "```"
   ]
  },
  {
   "cell_type": "markdown",
   "metadata": {},
   "source": [
    "Dans le fichier `script.js`, on ajoute les lignes suivantes."
   ]
  },
  {
   "cell_type": "raw",
   "metadata": {},
   "source": [
    "function ma_fonction_message(){\n",
    "   alert(\"Hello World !\")\n",
    "}"
   ]
  },
  {
   "cell_type": "markdown",
   "metadata": {},
   "source": [
    "Cliquer sur le bouton \"mon bouton\" pour observer le comportement attendu : "
   ]
  },
  {
   "cell_type": "code",
   "execution_count": 17,
   "metadata": {},
   "outputs": [
    {
     "data": {
      "text/html": [
       "<button id=\"mon_bouton\" onclick=\"ma_fonction_message()\"> Mon bouton </button>\n",
       "<h1>Un exemple de page web en HTML5 (titre en taille 1)</h1>\n",
       "\n",
       "<script>\n",
       "function ma_fonction_message(){\n",
       "   alert(\"Hello World !\")\n",
       "}\n",
       "</script>\n"
      ],
      "text/plain": [
       "<IPython.core.display.HTML object>"
      ]
     },
     "metadata": {},
     "output_type": "display_data"
    }
   ],
   "source": [
    "%%html\n",
    "<button id=\"mon_bouton\" onclick=\"ma_fonction_message()\"> Mon bouton </button>\n",
    "<h1>Un exemple de page web en HTML5 (titre en taille 1)</h1>\n",
    "\n",
    "<script>\n",
    "function ma_fonction_message(){\n",
    "   alert(\"Hello World !\")\n",
    "}\n",
    "</script>"
   ]
  },
  {
   "cell_type": "markdown",
   "metadata": {},
   "source": [
    "**Exercice :**\n",
    "Dans le fichier page_HTML5.html, ajouter un bouton \"Mon bouton\". Au clic sur ce bouton, on obtient le message d'alerte \"J'ai réussi!\"."
   ]
  },
  {
   "cell_type": "markdown",
   "metadata": {},
   "source": [
    "### 2e méthode : dans le JS\n",
    "Dans un fichier html, on a :\n",
    "````html\n",
    "<button id=\"mon_bouton\"> Mon bouton </button>\n",
    "<h1>Un exemple de page web en HTML5 (titre en taille 1)</h1>\n",
    "````"
   ]
  },
  {
   "cell_type": "markdown",
   "metadata": {},
   "source": [
    "Dans le fichier `script.js`, on ajoute les lignes suivantes."
   ]
  },
  {
   "cell_type": "raw",
   "metadata": {},
   "source": [
    "function ma_fonction_message(){\n",
    "   alert(\"Hello World !\")\n",
    "}\n",
    "\n",
    "bouton = document.getElementById(\"mon_bouton\"); // on sélectionne le bouton dont l'identifiant est \"mon_bouton\"\n",
    "bouton.addEventListener('click', ma_fonction_message); // au clic sur cet élément, on effectue la fonction \"ma_fonction_message\""
   ]
  },
  {
   "cell_type": "markdown",
   "metadata": {},
   "source": [
    "Dans cet exemple, on a ajouté un écouteur d'événement sur le bouton dont l'identifiant est \"mon_bouton\". Cet écouteur est de type \"click\" donc il réagit au clic de souris.  \n",
    "Pour ajouter un écouteur d'événement, on utilise la méthode `addEventListener`qui attache une fonction à un événement appliqué sur un élément.  \n",
    "On a la structure suivante :  \n",
    "`element.addEventListener(event, function)`"
   ]
  },
  {
   "cell_type": "markdown",
   "metadata": {},
   "source": [
    "**Exercice**   \n",
    "Dans le fichier `page_HTML5.html`, ajouter un 2ème bouton \"couleur\" au début de la page avant la première balise `h1` avec un attribut \"onclick\".  \n",
    "Compléter le fichier `script.js` pour qu'au clic sur ce nouveau bouton, tous les balises `h2` soient sur fond jaune."
   ]
  },
  {
   "cell_type": "markdown",
   "metadata": {},
   "source": [
    "## Réagir au changement de focus"
   ]
  },
  {
   "cell_type": "markdown",
   "metadata": {},
   "source": [
    "Dans le fichier `page_HTML5.html`, ajouter une zone de saisie `input` après les boutons et avant la première balise `h1` et un nouveau paragraphe vide."
   ]
  },
  {
   "cell_type": "code",
   "execution_count": null,
   "metadata": {
    "vscode": {
     "languageId": "html"
    }
   },
   "outputs": [],
   "source": [
    "%%html\n",
    "<button id=\"mon_bouton\"> Mon bouton </button>\n",
    "<button id=\"bouton_couleur\"> Couleur </button>\n",
    "<input type=\"text\" id=\"prenom\" placeholder=\"Entrer votre prénom\"> \n",
    "<p id=\"bienvenue\"></p>\n",
    "<h1>Un exemple de page web en HTML5 (titre en taille 1)</h1>\n"
   ]
  },
  {
   "cell_type": "markdown",
   "metadata": {},
   "source": [
    "Dans le fichier `script.js`, ajouter les lignes suivantes."
   ]
  },
  {
   "cell_type": "raw",
   "metadata": {},
   "source": [
    "function affichage_nom(){\n",
    "   prenom = saisie_prenom.value // on récupère la valeur de la variable saisie_prenom et on l'affecte à la variable prenom\n",
    "   para_bienvenue = document.getElementById(\"bienvenue\") // on sélectionne le paragraphe dont l'identifiant est \"bienvenue\"\n",
    "   para_bienvenue.innerHTML = \"Bonjour \"+prenom+\" ! Bienvenue sur cette page.\" // on ajoute du texte dans ce paragraphe\n",
    "}\n",
    "\n",
    "saisie_prenom = document.getElementById(\"prenom\"); // on sélectionne la zone de saisie par son identifiant \"prenom\"\n",
    "saisie_prenom.addEventListener('change', affichage_nom);// au changement de focus sur cet élément, on effectue la fonction \"affichage_nom\""
   ]
  },
  {
   "cell_type": "markdown",
   "metadata": {},
   "source": [
    "Tester ce nouvel événement : remplir avec votre prénom la zone de saisie. Cliquer ensuite ailleurs sur la page. "
   ]
  },
  {
   "cell_type": "markdown",
   "metadata": {},
   "source": [
    "La propriété `innerHTML`d'un élément remplace le contenu de cet élément."
   ]
  },
  {
   "cell_type": "markdown",
   "metadata": {},
   "source": [
    "**Exercice**  \n",
    "Compléter le fichier `script.js` pour que fond de la zone de saisie du prénom devienne orange quand on place le focus sur cette zone en utilisant l'événement \"focus\"."
   ]
  },
  {
   "cell_type": "markdown",
   "metadata": {},
   "source": [
    "### Les autres types d'événements\n",
    "Voici quelques principaux **type d'événements**  \n",
    "`click` : Un bouton d'un dispositif de pointage (souris) a été appuyé ou relaché sur un *élément*  \n",
    "`mouseover` : Un dispositif de pointage (souris) s'est déplacé sur un *élément*  \n",
    "`mouseout` : L'utilisateur a enlevé la souris de l'*élément*  \n",
    "`focus` : Un *élément* a acquis le focus (il est activé .. généralement encadré de bleu).  \n",
    "`change` : Un *élément* perd le focus et sa valeur a changé depuis l'acquisition du focus.  \n",
    "`input` : La valeur d'un *élément* change ou le contenu d'un élément éditable est modifié.  \n",
    "`keyup` : Une touche est relâchée (`keydown` : touche appuyée)  \n",
    "`load` : la page html a fini d'être chargée.  \n",
    "`submit` : le formulaire est sur le point d'être envoyé (suite à l'appui sur Entrée ou bouton \"submit\").\n",
    "\n",
    "Liste complète : [developer.mozilla.org/fr/docs/Web/Events](https://developer.mozilla.org/fr/docs/Web/Events)\n",
    "\n"
   ]
  },
  {
   "cell_type": "markdown",
   "metadata": {},
   "source": [
    "# Modifier le DOM\n",
    "Nous venons de voir comment ajouter du texte dans un paragraphe vide. On peut aussi ajouter/supprimer des noeuds."
   ]
  },
  {
   "cell_type": "markdown",
   "metadata": {
    "slideshow": {
     "slide_type": "slide"
    }
   },
   "source": [
    "## Afficher un contenu\n",
    "Directement dans la cellule suivante, utiliser la propriété `innerHTML`dans la balise `div` pour afficher le quotient de 2 flottants aléatoires de [-4 ; 6[.  \n",
    "On rappelle que `Math.random()` renvoie un flottant aléatoire de [0 ; 1["
   ]
  },
  {
   "cell_type": "code",
   "execution_count": null,
   "metadata": {
    "raw_mimetype": "text/html",
    "slideshow": {
     "slide_type": "slide"
    }
   },
   "outputs": [],
   "source": [
    "%%html\n",
    "<p>Premier paragraphe</p>\n",
    "<div id=\"quotient\"></div>\n",
    "<p>Dernier paragraphe de la page web.</p>\n",
    "<script>\n",
    "    nb1 = Math.random()*10-4\n",
    "    nb2 = Math.random()*10-4\n",
    "    document.getElementById(\"quotient\")// Placer le script ici\n",
    "\n",
    "    \n",
    "</script>"
   ]
  },
  {
   "cell_type": "markdown",
   "metadata": {
    "slideshow": {
     "slide_type": "slide"
    }
   },
   "source": [
    "## Supprimer un élément\n",
    "Avec `document.getElementById(\"mon_id\").remove()` : childNode.remove()\n",
    "\n",
    "**Exercice** : Supprimer le formulaire lorsqu'on clique sur ce bouton."
   ]
  },
  {
   "cell_type": "code",
   "execution_count": null,
   "metadata": {
    "slideshow": {
     "slide_type": "slide"
    }
   },
   "outputs": [],
   "source": [
    "%%html\n",
    "<form id=\"interro\">\n",
    "    Inventeur du web : <input type=\"text\">\n",
    "    <button id=\"bouton1\" >Je supprime cette question</button>\n",
    "</form>\n",
    "<script>\n",
    "    \n",
    "</script>"
   ]
  },
  {
   "cell_type": "markdown",
   "metadata": {
    "slideshow": {
     "slide_type": "slide"
    }
   },
   "source": [
    "## Construire/ajouter un élément\n",
    "`parentNode.append(element)` ou `parentNode.appendChild(element)` ajoute un élément à la fin du noeud parent.\n",
    "\n",
    "*Quelle différence entre append et appendChild* : appendChild retourne l'élément ajouté."
   ]
  },
  {
   "cell_type": "markdown",
   "metadata": {
    "slideshow": {
     "slide_type": "slide"
    }
   },
   "source": [
    "````html\n",
    "<p id=\"p1\">Un petit exemple</p>\n",
    "<p>Continuation</p>\n",
    "\n",
    "<script>\n",
    "    let paragraphe = document.getElementById(\"p1\")\n",
    "    let illustration = document.createElement('img')\n",
    "    illustration.src= './img/08_web_balise_img.svg'\n",
    "    paragraphe.appendChild(illustration)\n",
    "</script>\n",
    "````\n",
    "On obtient ceci :\n",
    "````html\n",
    "<p id=\"p1\">Un petit exemple <img src=\"./img/08_web_balise_img.svg\"></p>\n",
    "<p>Continuation</p>\n",
    "````"
   ]
  },
  {
   "cell_type": "markdown",
   "metadata": {
    "slideshow": {
     "slide_type": "slide"
    }
   },
   "source": [
    "# Portée des variables et constantes\n",
    "* variable **globale** : `x = 20;` : elle peut être utilisée par tout le programme\n",
    "* variable **locale** : **`var`**`x = 20;` sa portabilité est limitée à la fonction où elle a été déclarée.<br>Ou juste déclarer **`var`**`x;` sans donner de valeur initiale.\n",
    "* variable **interne à un bloc { }** : **`let`**` i = 1;` sa portabilité est limitée aux accolades donc `if`, `for`, `while`.<br>Ou juste déclarer **`let`**`i;` sans donner de valeur initiale.\n",
    "<hr>"
   ]
  },
  {
   "cell_type": "markdown",
   "metadata": {
    "slideshow": {
     "slide_type": "slide"
    }
   },
   "source": [
    "* **constante** : **`const`**`n = 17;`  : si on tente de réaffecter cette constante alors on obtient une erreur.<br>Cela ne l'empêche pas de muter (dans le cas d'un tableau par exemple).<br>Contrairement à let et var, `const` a besoin d'être définie avec une valeur initiale.<br>La portée de `const` est celle du **bloc { }**, comme `let`. "
   ]
  },
  {
   "cell_type": "code",
   "execution_count": null,
   "metadata": {
    "slideshow": {
     "slide_type": "slide"
    }
   },
   "outputs": [],
   "source": [
    "%%javascript\n",
    "function letTest() {\n",
    "  let x = 2\n",
    "  if (true) {\n",
    "    let x = 3  // c'est une variable différente\n",
    "    element.append('Dans le if : x = ' + x + '<br>')\n",
    "  }\n",
    "  element.append('Sortie du if : x = ' + x + '<br>')\n",
    "}\n",
    "\n",
    "let x = 1\n",
    "letTest() // on exécute la fonction\n",
    "element.append('Sortie de la fonction : x = ' + x + '<br>')"
   ]
  },
  {
   "cell_type": "code",
   "execution_count": null,
   "metadata": {
    "slideshow": {
     "slide_type": "slide"
    }
   },
   "outputs": [],
   "source": [
    "%%javascript\n",
    "function varTest() {\n",
    "  var x = 2\n",
    "  if (true) {\n",
    "    var x = 3  // c'est la même variable\n",
    "    element.append('Dans le if : x = ' + x + '<br>')\n",
    "  }\n",
    "  element.append('Sorti du if : x = ' + x + '<br>')\n",
    "}\n",
    "\n",
    "var x = 1\n",
    "varTest() // on exécute la fonction\n",
    "element.append('Sortie de la fonction : x = ' + x + '<br>')"
   ]
  },
  {
   "cell_type": "markdown",
   "metadata": {
    "slideshow": {
     "slide_type": "slide"
    }
   },
   "source": [
    "# Python vs Javascript\n",
    "## Résumé\n",
    "\n",
    "|       &nbsp;                                               | Python                    | Javascript                          |\n",
    "|------------------------------------------------------|---------------------------|-------------------------------------|\n",
    "| Logique : et, ou <br> vrai, faux | `and`,`or`<br>`True`, `False`  | `&&`, <code>&boxv;&boxv;</code><br> `true`, `false`|\n",
    "| Longueur d’un tableau,<br> d’une chaîne de caractères | `len(tab)`            | `tab.length`                      |\n",
    "| Tableau vide                                          | `tab = []`                  | `var tab = new Array()`     |\n",
    "| Ajout d’un élément dans un tableau                    | `tab.append(élément)`         | `tab.push(élément)`     |\n",
    "| Trier un tableau | `tab.sort()`<br>`B = sorted(tab)` | `tab.sort()` |\n",
    "| Appel d’un élement                                    | `t[i]`                      | `t[i]`                 |\n",
    "| Modulo                                                | `a % 10`             | `a % 10`         |\n",
    "| Division entière                                      | `a // 10`            | `Math.trunc(a/10)`  |\n",
    "| <br>entier supérieur<br>entier inférieur (partie entière)<br>entier le plus proche<br>troncature entière | `import math`<br>`math.ceil(-23.11)` est -23<br>`math.floor(-23.11)` est -24<br>`round(-23.11)` est -23<br>`math.trunc(-23.11)` est -23   | <br>`Math.ceil(-23.11)`<br>`Math.floor(-23.11)`<br>`Math.round(-23.11)`<br>`Math.trunc(-23.11)`|\n",
    "| Obtenir le (i+1)ème caractère d’une chaîne   | `chaîne[i]`            | `chaîne.charAt(i)`          |\n",
    "| Concaténer chaîne et chaine/nombre   | `chaîne1 + chaîne2`<br>`chaîne + str(entier)` | `chaîne1 + chaîne2`<br>`chaîne + entier` |\n",
    "| Renvoie la chaîne en majuscule/minuscule | `chaîne.upper()`<br>`chaîne.lower()` | `chaîne.toUpperCase()`<br>`chaîne.toLowerCase()` |\n",
    "| Conversion nombre-> chaîne de caractères              | `str(nb)`                   | `nb.toString()`                       |\n",
    "| Conversion entier : décimal -> binaire<br>binaire -> décimal   | `bin(nb)`<br>`int(\"1001\", 2)`         | `nb.toString(2)`<br>`parseInt(1001, 2)` ou `parseInt(\"1001\", 2)` |\n",
    "| Conversion : chaîne  -> nombre  | `int(chaîne)`<br>`float(chaîne)` | `parseInt(chaîne)`<br>`parseFloat(chaîne)` |\n",
    "| Conversion : chaîne  -> liste de caractères (tableau) | `list(chaîne)`    | `chaîne.split(\"\")`            |\n",
    "| Conversion code ascii -> caractère<br>caractère -> code ascii        | `chr(entier)`<br>`ord(caractère)`               | `String.fromCharCode(entier)`<br>`caractère.charCodeAt(0)` |  "
   ]
  },
  {
   "cell_type": "markdown",
   "metadata": {
    "slideshow": {
     "slide_type": "slide"
    }
   },
   "source": [
    "| Python                    | Javascript                          |\n",
    "|:---------------------------|:-------------------------------------|\n",
    "| `for i in range(1,len(b)):`<br> &nbsp; &nbsp; `instructions` | `for (var i=1; i<b.length; i++) {`<br> &nbsp; &nbsp; `instructions`<br>`}` |\n",
    "| `for i in range(n,p):`<br> &nbsp; &nbsp; `instructions` | `for (var i=n; i<p; i++) {`<br> &nbsp; &nbsp; `instructions `<br>`}` |\n",
    "| `for i in range(n,p,k): # n<p et k>1`<br> &nbsp; &nbsp; `instructions`| `for (var i=n; i<p; i=i+k) {`<br> &nbsp; &nbsp; `instructions `<br>`}` |\n",
    "| `while (test):`<br> &nbsp; &nbsp; `instructions` |\t`while (test) {`<br> &nbsp; &nbsp; `instructions `<br>`}` |\n",
    "| `if (test):`<br> &nbsp; &nbsp; `instructions`<br>`else:`<br> &nbsp; &nbsp; `instructions` | `if (test) {`<br> &nbsp; &nbsp; `instructions`<br>`} else {`<br> &nbsp; &nbsp; `instructions`<br>`}`|\n",
    "| `if (test):`<br> &nbsp; &nbsp; `instructions`<br>`elif (test2):`<br> &nbsp; &nbsp; `instructions`<br>`else:`<br> &nbsp; &nbsp; `instructions` | `if (test) {`<br> &nbsp; &nbsp; `instructions`<br>`} else if (test2) {`<br> &nbsp; &nbsp; `instructions`<br>`} else {`<br> &nbsp; &nbsp; `instructions`<br>`}`|\n",
    "\n",
    "> `i++` signifie `i=i+1`, c'est donc une incrémentation de 1.  \n",
    "> `i--` signifie `i=i-1` : une décrémentation de 1."
   ]
  },
  {
   "cell_type": "markdown",
   "metadata": {
    "slideshow": {
     "slide_type": "slide"
    }
   },
   "source": [
    "## Tableau\n",
    "### Egalité de tableau\n",
    "\n",
    "> Les tableaux sont des objets (pour Javascript)  \n",
    "> La comparaison `==` entre objets compare alors les références internes .. pour voir si elles réfèrent au même objet en mémoire.\n",
    "\n",
    "D'où ce résultat étonnant :"
   ]
  },
  {
   "cell_type": "code",
   "execution_count": null,
   "metadata": {
    "slideshow": {
     "slide_type": "slide"
    }
   },
   "outputs": [],
   "source": [
    "%%javascript\n",
    "var t1 = [\"javascript\", \"php\"]\n",
    "var t2 = [\"javascript\", \"php\"]\n",
    "element.append('Test de l\\'égalité : <code>' + (t1 == t2) + '</code>')"
   ]
  },
  {
   "cell_type": "markdown",
   "metadata": {
    "slideshow": {
     "slide_type": "slide"
    }
   },
   "source": [
    "**Comment comparer 2 tableaux de même taille ?**  \n",
    "**1ère méthode : avec un drapeau** :  \n",
    "On crée une variable drapeau qui par défaut prend la valeur \"True\".\n",
    "On teste l'égalité de chaque élément du tableau en itérant sur chaque élément.\n",
    "Si l'un des tests est faux, la valeur drapeau prend la valeur \"False\" et on sort du test d'égalité.\n",
    "Sinon, c'est qu'il  y a égalité entre les deux tableaux.\n",
    "\n",
    "**2ème méthode : en comparant les objets JSON** :  \n",
    "`JSON.stringify(t1) == JSON.stringify(t2)`"
   ]
  },
  {
   "cell_type": "markdown",
   "metadata": {
    "slideshow": {
     "slide_type": "slide"
    }
   },
   "source": [
    "# Facultatif : autres méthodes de gestionnaire d'événements\n",
    "## 1ère méthode : dans le code HTML\n",
    "````html\n",
    " <ol id=\"liste\">\n",
    "     <li id=\"item1\" onclick=\"traitement(this.id)\">Un</li>\n",
    "     <li id=\"item2\" onclick=\"traitement(this.id)\">Deux</li>\n",
    " </ol>\n",
    "<div id=\"ici\"></div>\n",
    " <script>\n",
    " function traitement(identifiant) {\n",
    "     var obj = document.getElementById(identifiant);\n",
    "     console.log(obj.getAttributeNames()) //les noms d'attribut de cette balise\n",
    " }\n",
    "</script>\n",
    "````\n",
    "**Rôle de ce script** : Si on clique sur `item1` ou `item2`, alors le script affiche en console les noms d'attributs de cet élément.  \n",
    "**Résultat du script** : le tableau `[\"id\", \"onclick\"]`"
   ]
  },
  {
   "cell_type": "markdown",
   "metadata": {
    "slideshow": {
     "slide_type": "slide"
    }
   },
   "source": [
    "## 2e méthode : `.onclick` dans le JS\n",
    "````html\n",
    "<ol id=\"liste\">\n",
    "    <li id=\"item1\">Un</li>\n",
    "    <li id=\"item2\">Deux</li>\n",
    "</ol>\n",
    "<script>\n",
    "var objets = document.querySelectorAll('li') // un tableau d'éléments\n",
    "    \n",
    "for (var i = 0; i < objets.length; i++) { // chaque élément reçoit un écouteur onclick\n",
    "\tobjets[i].onclick = traitement\n",
    "}\n",
    "\n",
    "function traitement(e) { // e = événement  et  e.target = élément cliqué\n",
    "\tconsole.log(e.target.getAttribute(\"id\"))\n",
    "}\n",
    "</script>\n",
    "````\n",
    "\n",
    "NB : `e.target` permet de récupérer l’objet sur lequel le clic a été effectué.  \n",
    "NB : en Javascript, il est possible de déclarer la fonction en bas de script."
   ]
  },
  {
   "cell_type": "markdown",
   "metadata": {
    "slideshow": {
     "slide_type": "slide"
    }
   },
   "source": [
    "# Facultatif : ajouter un événement par le script\n",
    "## écouteur d'événement `onchange` par le script\n",
    "Dans ce cas, il n'est pas necessaire de nommer la fonction, cette fonction est dite *anonyme* :\n",
    "````html\n",
    "<input type=\"text\" id=\"champTexte\">\n",
    " \n",
    "<script>\n",
    "document.getElementById(\"champTexte\").onchange = function() {\n",
    "   this.style.backgroundColor = 'red'\n",
    "}\n",
    "</script>\n",
    "````"
   ]
  },
  {
   "cell_type": "markdown",
   "metadata": {
    "slideshow": {
     "slide_type": "slide"
    }
   },
   "source": [
    "<hr><hr>\n",
    "\n",
    "##### Formulaires HTML \n",
    "## `input` : champ de saisie\n",
    "### `input` type `text` : champ de texte d'une ligne\n",
    "\n",
    "L'attribut `placeholder` permet de donner une courte indication.  \n",
    "L'attribut `size` permet de donner une taille.  [Plus d'info sur type text](https://developer.mozilla.org/fr/docs/Web/HTML/Element/input/text)\n",
    "\n",
    "````html\n",
    "Prénom : <input type=\"text\" id=\"prenom\" placeholder=\"entrer votre nom\">\n",
    "<button id=\"mon_bouton\">Je valide</button>\n",
    "````\n",
    "Prénom : <input type=\"text\" id=\"prenom\" placeholder=\"entrer votre nom\">\n",
    "<button id=\"mon_bouton\">Je valide</button>\n",
    "\n",
    "**=> Traitement des données** :\n",
    "````html\n",
    "<script>\n",
    "    function traitement() {\n",
    "        var prenom = document.getElementById(\"prenom\").value;\n",
    "        alert(\"Bonjour \"+prenom+\", bienvenue.\");\n",
    "    }\n",
    "    bouton = document.getElementById(\"mon_bouton\");\n",
    "    bouton.addEventListener('click', traitement);\n",
    "    \n",
    "</script>\n",
    "````\n",
    "\n",
    "<hr>"
   ]
  },
  {
   "cell_type": "markdown",
   "metadata": {
    "slideshow": {
     "slide_type": "slide"
    }
   },
   "source": [
    "### `input` type `password` : champ de mot de passe\n",
    "Le traitement est en tout point similaire au `type=\"text\"` [Plus d'info sur type password](https://developer.mozilla.org/fr/docs/Web/HTML/Element/input/password)\n",
    "\n",
    "````html\n",
    "mot de passe : <input type=\"password\" name=\"prenom\">\n",
    "````\n",
    "\n",
    "mot de passe : <input type=\"password\" name=\"mdp\" value=\"C_secret\">\n",
    "\n",
    "<hr>"
   ]
  },
  {
   "cell_type": "markdown",
   "metadata": {
    "slideshow": {
     "slide_type": "slide"
    }
   },
   "source": [
    "### `input` type `radio` : choix exclusif\n",
    "Les boutons radio s'utilisent pour un choix unique (on ne peut pas choisir plusieurs items).\n",
    "L'attribut `checked` ou `checked=\"checked\"` permer de pré-choisir un item particulier (et un seul !). [Plus d'info sur type radio](https://developer.mozilla.org/fr/docs/Web/HTML/Element/input/radio)\n",
    "\n",
    "> Les boutons radio portent tous le même `name`.\n",
    "\n",
    "> Les attributs `name` et `value` seront utilisés pour connaître et analyser le choix de l'utilisateur (soit en javascript, soit côté serveur). \n",
    "\n",
    "\n",
    "````html\n",
    "<input type=\"radio\" name=\"niveau\" value=\"2de\"> seconde<br>\n",
    "<input type=\"radio\" name=\"niveau\" value=\"1e\" checked> première<br>\n",
    "<input type=\"radio\" name=\"niveau\" value=\"Term\"> terminale<br>\n",
    "<button onclick=\"traitement()\">Je valide</button>\n",
    "````\n",
    "\n",
    "<input type=\"radio\" name=\"niveau\" value=\"2de\" checked> seconde<br>\n",
    "<input type=\"radio\" name=\"niveau\" value=\"1e\" checked> première<br>\n",
    "<input type=\"radio\" name=\"niveau\" value=\"Term\"> terminale<br>\n",
    "<button onclick=\"traitement()\">Je valide</button>\n",
    "\n",
    "**=> Traitement des données** :\n",
    "````html\n",
    "<script>\n",
    "    function traitement() {\n",
    "        // Pour les boutons radio, il n'y a qu'une seule réponse choisie :\n",
    "        var reponse = document.querySelector('input[name=\"niveau\"]:checked').value\n",
    "        if (reponse == \"1e\")\n",
    "            alert(\"Très bon choix, la 1ère est un très bon niveau !\")\n",
    "    }\n",
    "</script>\n",
    "````\n",
    "\n",
    "<hr>"
   ]
  },
  {
   "cell_type": "markdown",
   "metadata": {
    "slideshow": {
     "slide_type": "slide"
    }
   },
   "source": [
    "### `input` type `checkbox` : choix multiples (cases à cocher)\n",
    "Les cases à cocher s'utilisent pour un choix multiple (on peut cocher plusieurs items).  \n",
    "\n",
    "> Les cases à cocher peuvent porter des `name` différents.\n",
    "\n",
    "Pour pré-choisir un item, on ajoute l'attribut `checked` ou `checked=\"checked\"`  \n",
    "[Plus d'info sur le type checkbox](https://developer.mozilla.org/fr/docs/Web/HTML/Element/input/checkbox)\n",
    "\n",
    "\n",
    "````html\n",
    "<input type=\"checkbox\" name=\"pt_dejeuner\" value=\"cafe\"> café<br>\n",
    "<input type=\"checkbox\" name=\"pt_dejeuner\" value=\"flakes\"> céréales<br>\n",
    "<input type=\"checkbox\" name=\"pt_dejeuner\" value=\"fruit\"> fruit<br>\n",
    "<button onclick=\"traitement()\">Je valide</button>\n",
    "````\n",
    "\n",
    "<input type=\"checkbox\" name=\"pt_dejeuner\" value=\"cafe\"> café<br>\n",
    "<input type=\"checkbox\" name=\"pt_dejeuner\" value=\"flakes\"> céréales<br>\n",
    "<input type=\"checkbox\" name=\"pt_dejeuner\" value=\"fruit\"> fruit<br>\n",
    "<button onclick=\"traitement()\">Je valide</button>\n",
    "\n",
    "**=> Traitement des données** :\n",
    "````html\n",
    "<script>\n",
    "    function traitement() {\n",
    "        // Pour les cases à cocher, plusieurs réponses ont pu être choisies\n",
    "        // NB : Les cases cochées ont l'attribut booléen : 'checked' :\n",
    "        var tabCases = document.querySelectorAll('input[name=\"pt_dejeuner\"]:checked')\n",
    "        var t = new Array()\n",
    "        for(let i = 0; i< tabCases.length; i++)\n",
    "            t.push(tabCases[i].value)\n",
    "        if (JSON.stringify(t) == JSON.stringify([\"cafe\", \"flakes\"]))\n",
    "            alert(\"C'est un choix peu commun !\")\n",
    "    }\n",
    "</script>\n",
    "````\n",
    "\n",
    "NB : Si les cases à cocher n'ont pas toutes le même `name` alors une solution consiste à leur donner toutes la même classe `selection` puis utiliser `.querySelectorAll('.selection input[type=\"checkbox\"]:checked')`\n",
    "\n",
    "<hr>"
   ]
  },
  {
   "cell_type": "markdown",
   "metadata": {
    "slideshow": {
     "slide_type": "slide"
    }
   },
   "source": [
    "### `input` type `file` : sélection de fichier\n",
    "[Plus d'info ici](https://developer.mozilla.org/fr/docs/Web/HTML/Element/input/file)\n",
    "\n",
    "\n",
    "````html\n",
    "<input type=\"file\" name=\"fichier_image\">\n",
    "````\n",
    "<input type=\"file\" name=\"fichier_image\">\n",
    "\n",
    "<hr>"
   ]
  },
  {
   "cell_type": "markdown",
   "metadata": {
    "slideshow": {
     "slide_type": "slide"
    }
   },
   "source": [
    "### `input` type `submit` : bouton de soumission de formulaire\n",
    "[Plus d'info ici](https://developer.mozilla.org/fr/docs/Web/HTML/Element/input/submit)\n",
    "\n",
    "````html\n",
    "<input type=\"submit\" value=\"Envoyer le formulaire\">\n",
    "````\n",
    "<input type=\"submit\" value=\"Envoyer le formulaire\">\n",
    "\n",
    "<hr>"
   ]
  },
  {
   "cell_type": "markdown",
   "metadata": {
    "slideshow": {
     "slide_type": "slide"
    }
   },
   "source": [
    "### autres types\n",
    "Pour des types spécialisés, il existe aussi les types : &nbsp;`email` ([info](https://developer.mozilla.org/fr/docs/Web/HTML/Element/input/email)), &nbsp;`tel`([info](https://developer.mozilla.org/fr/docs/Web/HTML/Element/input/tel)), &nbsp;`number` ([info](https://developer.mozilla.org/fr/docs/Web/HTML/Element/input/number)), &nbsp;`range`([info](https://developer.mozilla.org/fr/docs/Web/HTML/Element/input/range)), &nbsp;`color` ([info](https://developer.mozilla.org/fr/docs/Web/HTML/Element/input/color)), &nbsp;`date` ([info](https://developer.mozilla.org/fr/docs/Web/HTML/Element/input/date)), &nbsp;`search` ([info](https://developer.mozilla.org/fr/docs/Web/HTML/Element/input/search)), &nbsp;`url` ([info](https://developer.mozilla.org/fr/docs/Web/HTML/Element/input/url)) etc ...\n",
    "\n",
    "<hr>"
   ]
  },
  {
   "cell_type": "markdown",
   "metadata": {
    "slideshow": {
     "slide_type": "slide"
    }
   },
   "source": [
    "## `select` : liste déroulante\n",
    "###  en choix exclusif\n",
    "\n",
    "````html\n",
    "<select name=\"regime\">\n",
    "    <option value=\"externe\">externe</option>\n",
    "    <option value=\"demi\">demi-pensionnaire</option>\n",
    "    <option value=\"interne\">interne</option>\n",
    "</select>\n",
    "<button onclick=\"traitement()\">Je valide</button>\n",
    "````\n",
    "\n",
    "<select name=\"regime\">\n",
    "    <option value=\"externe\">externe</option>\n",
    "    <option value=\"demi\">demi-pensionnaire</option>\n",
    "    <option value=\"interne\">interne</option>\n",
    "</select>\n",
    "<button onclick=\"traitement()\">Je valide</button>\n",
    "\n",
    "**=> Traitement des données** :\n",
    "````html\n",
    "<script>\n",
    "    function traitement() {\n",
    "        // il n'y a qu'une seule réponse donc on met que 'querySelector' :        \n",
    "        var reponse = document.querySelector('option:checked').value\n",
    "        alert(reponse)\n",
    "    }\n",
    "</script>\n",
    "````\n",
    "\n",
    "<hr>"
   ]
  },
  {
   "cell_type": "markdown",
   "metadata": {
    "slideshow": {
     "slide_type": "slide"
    }
   },
   "source": [
    "### en choix multiple\n",
    "Avec l'attribut `multiple`, la liste désoulante autorise plusieurs valeurs sélectionnées (en appuyant sur CTRL) qui seront interprétées comme un tableau, noté `[]`.\n",
    "\n",
    "````html\n",
    "<select name=\"dessert[]\" multiple>\n",
    "    <option value=\"fromage\">fromage</option>\n",
    "    <option value=\"tarte_citron\">tarte au citron</option>\n",
    "    <option value=\"cafe\">cafe</option>\n",
    "</select>\n",
    "<button onclick=\"traitement()\">Je valide</button>\n",
    "````\n",
    "\n",
    "<select name=\"dessert[]\" multiple>\n",
    "    <option value=\"fromage\">fromage</option>\n",
    "    <option value=\"tarte_citron\">tarte au citron</option>\n",
    "    <option value=\"cafe\">cafe</option>\n",
    "</select>\n",
    "<button onclick=\"traitement()\">Je valide</button>\n",
    "\n",
    "**=> Traitement des données** :\n",
    "````html\n",
    "<script>\n",
    "    function traitement() {\n",
    "        // il y a plusieurs réponses choisies donc on met querySelectorAll :        \n",
    "        var tabChoix = document.querySelectorAll('option:checked')\n",
    "        var t = new Array()\n",
    "        for(let i = 0; i< tabChoix.length; i++)\n",
    "            t.push(tabChoix[i].value)\n",
    "        if (JSON.stringify(t) == JSON.stringify([\"fromage\", \"tarte_citron\"])) \n",
    "\t\t\talert(\"OK, on enlève le café alors !\")\n",
    "    }\n",
    "</script>\n",
    "````\n",
    "\n",
    "<hr>"
   ]
  },
  {
   "cell_type": "markdown",
   "metadata": {
    "slideshow": {
     "slide_type": "slide"
    }
   },
   "source": [
    "<hr>\n",
    "\n",
    "# Pour aller plus loin\n",
    "\n",
    "\n",
    "## `chaine.split()` VS `chaine.split(\"\")` VS `chaine.split(\" \")`"
   ]
  },
  {
   "cell_type": "code",
   "execution_count": null,
   "metadata": {
    "slideshow": {
     "slide_type": "slide"
    }
   },
   "outputs": [],
   "source": [
    "%%javascript\n",
    "var chaine = \"Hi Jo!\" // 6 caractères\n",
    "var chaine1 = chaine.split()    // tableau à 1 seul élément : la chaine \"Hi Jo!\"\n",
    "var chaine2 = chaine.split(\"\")  // tableau à 6 éléments : [\"H\",\"i\",\" \",\"J\",\"o\",\"!\"]\n",
    "var chaine3 = chaine.split(\" \") // tableau à 2 éléments selon les mots \"Hi\" et \"Jo!\" :  [\"Hi\",\"Jo!\"]\n",
    "element.append('<code>chaine.split()</code> renvoie <code>' + JSON.stringify(chaine1) + '</code><br>')\n",
    "element.append('<code>chaine.split(\"\")</code> renvoie <code>' + JSON.stringify(chaine2) + '</code><br>')\n",
    "element.append('<code>chaine.split(\" \")</code> renvoie <code>' + JSON.stringify(chaine3) + '</code>')"
   ]
  },
  {
   "cell_type": "markdown",
   "metadata": {
    "slideshow": {
     "slide_type": "slide"
    }
   },
   "source": [
    "**En Python, `chaine.split()` ne sépare que les mots (pas les lettres)** :  \n",
    "En Python, par défaut, la méthode `split()` sépare selon le caractère espace.  \n",
    "Ou bien, on peut préciser un séparateur (exemple ci-après).  \n",
    "Rappel : pour séparer les lettres il faut faire `list(chaine)`"
   ]
  },
  {
   "cell_type": "code",
   "execution_count": null,
   "metadata": {
    "slideshow": {
     "slide_type": "slide"
    }
   },
   "outputs": [],
   "source": [
    "#####  En Python :\n",
    "chaine = \"Hi Jo!\"\n",
    "print(chaine.split())\n",
    "# print(chaine.split(\"\"))  # Python ERROR\n",
    "print(chaine.split(\" \"))\n",
    "\n",
    "## On peut aussi changer le séparateur :\n",
    "repas = \"café ; lait ; céréales\"\n",
    "print(\"autre séparateur : \",repas.split(\";\"))  # Notez les espaces dans les éléments obtenus\n",
    "\n",
    "## En modifiant le séparateur, on peut enlever ces espaces autour des éléments :"
   ]
  },
  {
   "cell_type": "markdown",
   "metadata": {
    "slideshow": {
     "slide_type": "slide"
    }
   },
   "source": [
    "\n",
    "    *Pour aller plus loin :*  \n",
    "Sélectionner chaque liste `ul` puis appliquer un style à 1 balise `li` sur 2 (celles d'index impair)."
   ]
  },
  {
   "cell_type": "code",
   "execution_count": null,
   "metadata": {
    "slideshow": {
     "slide_type": "slide"
    }
   },
   "outputs": [],
   "source": [
    "%%html\n",
    "<style>\n",
    "    .impair { background-color: gray;}\n",
    "</style>\n",
    "<script>\n",
    "    var tabParents = document.getElementsByTagName(\"ul\")\n",
    "    for (var j=0 ; j < tabParents.length ; j++) {\n",
    "        var tabElements = tabParents[j].getElementsByTagName(\"li\")\n",
    "        for (var i=0 ; i < tabElements.length ; i++)\n",
    "            if (i % 2 == 1) tabElements[i].classList.add(\"impair\")\n",
    "        // mettre 'remove(\"impair\")' pour revenir à la normale\n",
    "    }\n",
    "</script>"
   ]
  }
 ],
 "metadata": {
  "celltoolbar": "Format de la Cellule Texte Brut",
  "kernelspec": {
   "display_name": "Python 3 (ipykernel)",
   "language": "python",
   "name": "python3"
  },
  "language_info": {
   "codemirror_mode": {
    "name": "ipython",
    "version": 3
   },
   "file_extension": ".py",
   "mimetype": "text/x-python",
   "name": "python",
   "nbconvert_exporter": "python",
   "pygments_lexer": "ipython3",
   "version": "3.9.13"
  }
 },
 "nbformat": 4,
 "nbformat_minor": 2
}

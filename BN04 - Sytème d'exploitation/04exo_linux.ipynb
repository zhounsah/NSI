{
 "cells": [
  {
   "cell_type": "markdown",
   "metadata": {},
   "source": [
    "# Linux\n",
    "\n",
    "## QCM :\n",
    "1°/  **QCM :**  À partir du dossier `/home/test/QCM`, quelle commande permet de rejoindre le dossier `/home/hack/Reponses` ?  \n",
    "\n",
    " &nbsp; &nbsp;  &nbsp; &nbsp; *A/ `cd hack/Reponses`   &nbsp; &nbsp; B/ `cd home/hack/Reponses`  \n",
    " &nbsp; &nbsp;  &nbsp; &nbsp; C/ `cd /hack/Reponses`  &nbsp; &nbsp; D/ `cd ../../hack/Reponses`*"
   ]
  },
  {
   "cell_type": "markdown",
   "metadata": {},
   "source": [
    "<div class=\"alert  alert-info\" role=\"alert\"> \n",
    "    <details >\n",
    "        <summary style=\"summary::-webkit-details-marker { color:##dff0d8; background:#dff0d8;} \"> \n",
    "            Cliquer pour voir la réponse\n",
    "        </summary>\n",
    "        réponse D \n",
    "    </details>\n",
    "</div>"
   ]
  },
  {
   "cell_type": "markdown",
   "metadata": {},
   "source": [
    "2°/  **QCM :**  Dans un terminal Linux, quelle commande donne aux autres le droit de modifier un fichier pgm.py ?  \n",
    " &nbsp; &nbsp;  &nbsp; &nbsp; *A/ `chmod o+w pgm.py`   &nbsp; &nbsp; B/ `chmod a+m pgm.py`  \n",
    " &nbsp; &nbsp;  &nbsp; &nbsp; C/ `chmod o+m pgm.py`  &nbsp; &nbsp; D/ `chmod a+x pgm.py`*"
   ]
  },
  {
   "cell_type": "markdown",
   "metadata": {},
   "source": [
    "<div class=\"alert  alert-info\" role=\"alert\"> \n",
    "    <details >\n",
    "        <summary style=\"summary::-webkit-details-marker { color:##dff0d8; background:#dff0d8;} \"> \n",
    "            Cliquer pour voir la réponse\n",
    "        </summary>\n",
    "        réponse A \n",
    "    </details>\n",
    "</div>"
   ]
  },
  {
   "cell_type": "markdown",
   "metadata": {},
   "source": [
    "3°/  **QCM :**  Dans un terminal Linux, on tape `chmod 680 pgm.py`. Que se passe-t-il ?  \n",
    "A/ L'utilisateur n'a plus le droit d'exécuter pgm.py.  \n",
    "B/ Le groupe a le droit de modifier ce fichier.  \n",
    "C/ Les autres personnes ont le droit de lecture.  \n",
    "D/ Un message d'erreur : chmod: invalid mode '680'.  "
   ]
  },
  {
   "cell_type": "markdown",
   "metadata": {},
   "source": [
    "<div class=\"alert  alert-info\" role=\"alert\"> \n",
    "    <details >\n",
    "        <summary style=\"summary::-webkit-details-marker { color:##dff0d8; background:#dff0d8;} \"> \n",
    "            Cliquer pour voir la réponse\n",
    "        </summary>\n",
    "        réponse D \n",
    "    </details>\n",
    "</div>"
   ]
  },
  {
   "cell_type": "markdown",
   "metadata": {},
   "source": [
    "4°/  **QCM :**  En ligne de commande, la commande `rm *` a pour effet :  \n",
    "A/ d’activer une télécommande  \n",
    "B/ d’accéder au répertoire parent du répertoire courant  \n",
    "C/ d’effacer tous les fichiers du répertoire courant et ses sous-répertoires  \n",
    "D/ d’effacer tous les fichiers du répertoire courant  "
   ]
  },
  {
   "cell_type": "markdown",
   "metadata": {},
   "source": [
    "<div class=\"alert  alert-info\" role=\"alert\"> \n",
    "    <details >\n",
    "        <summary style=\"summary::-webkit-details-marker { color:##dff0d8; background:#dff0d8;} \"> \n",
    "            Cliquer pour voir la réponse\n",
    "        </summary>\n",
    "        réponse D \n",
    "    </details>\n",
    "</div>"
   ]
  },
  {
   "cell_type": "markdown",
   "metadata": {},
   "source": [
    "5°/  **QCM :**  Quel est l’effet de la commande shell suivante ?  \n",
    "`cp exo1_Donald.txt exo1_Sam.txt`  \n",
    "A/ Le fichier exo1_Donald.txt est copié sous le nom exo1_Sam.txt  \n",
    "B/ Le fichier exo1_Donald.txt est renommé sous le nom exo1_Sam.txt  \n",
    "C/ Le fichier exo1_Sam.txt est copié sous le nom exo1_Donald.txt  \n",
    "D/ Le fichier exo1_Sam.txt est renommé sous le nom exo1_Donald.txt  "
   ]
  },
  {
   "cell_type": "markdown",
   "metadata": {},
   "source": [
    "<div class=\"alert  alert-info\" role=\"alert\"> \n",
    "    <details >\n",
    "        <summary style=\"summary::-webkit-details-marker { color:##dff0d8; background:#dff0d8;} \"> \n",
    "            Cliquer pour voir la réponse\n",
    "        </summary>\n",
    "        réponse A \n",
    "    </details>\n",
    "</div>"
   ]
  },
  {
   "cell_type": "markdown",
   "metadata": {},
   "source": [
    "6°/  **QCM :**  Sous UNIX, que va réaliser la ligne de commande `cat file.txt` ?  \n",
    "A/ rien du tout  \n",
    "B/ l'affichage du contenu du fichier file.txt dans la console  \n",
    "C/ la création d'un fichier file.txt  \n",
    "D/ la suppression du fichier file.txt  "
   ]
  },
  {
   "cell_type": "markdown",
   "metadata": {},
   "source": [
    "<div class=\"alert  alert-info\" role=\"alert\"> \n",
    "    <details >\n",
    "        <summary style=\"summary::-webkit-details-marker { color:##dff0d8; background:#dff0d8;} \"> \n",
    "            Cliquer pour voir la réponse\n",
    "        </summary>\n",
    "        réponse B \n",
    "    </details>\n",
    "</div>"
   ]
  },
  {
   "cell_type": "markdown",
   "metadata": {},
   "source": [
    "7°/  **QCM :**  Dans un Shell, Alice tape la commande `chmod o-r /home/alice`, quelle est la conséquence ?  \n",
    "A/ Les autres n'ont plus le droit de lire les fichiers du répertoire /home/alice.  \n",
    "B/ Alice n'a plus le droit d'ouvrir ses fichiers.  \n",
    "C/ Le répertoire /home/alice n'a plus de propriétaire.  \n",
    "D/ Le répertoire /home/alice est supprimé.  "
   ]
  },
  {
   "cell_type": "markdown",
   "metadata": {},
   "source": [
    "<div class=\"alert  alert-info\" role=\"alert\"> \n",
    "    <details >\n",
    "        <summary style=\"summary::-webkit-details-marker { color:##dff0d8; background:#dff0d8;} \"> \n",
    "            Cliquer pour voir la réponse\n",
    "        </summary>\n",
    "        réponse A \n",
    "    </details>\n",
    "</div>"
   ]
  },
  {
   "cell_type": "markdown",
   "metadata": {},
   "source": [
    "8°/  **QCM :** Que peut-on dire du système de fichiers, suite à l’exécution des commandes suivantes ?  \n",
    "```bash\n",
    "% ls\n",
    "entier.py   flottant.py readme.md\n",
    "% mkdir foo\n",
    "% mv *.py foo\n",
    "```\n",
    "A/ les fichiers entier.py, flottant.py, et foo ont été déplacés dans le répertoire de l’utilisateur  \n",
    "B/ l’utilisateur foo est propriétaire des fichiers entier.py et flottant.py  \n",
    "C/ le répertoire foo contient le résultat de l’exécution des deux fichiers entier.py et flottant.py  \n",
    "D/ le répertoire foo contient deux fichiers d’extension .py  "
   ]
  },
  {
   "cell_type": "markdown",
   "metadata": {},
   "source": [
    "<div class=\"alert  alert-info\" role=\"alert\"> \n",
    "    <details >\n",
    "        <summary style=\"summary::-webkit-details-marker { color:##dff0d8; background:#dff0d8;} \"> \n",
    "            Cliquer pour voir la réponse\n",
    "        </summary>\n",
    "        réponse D \n",
    "    </details>\n",
    "</div>"
   ]
  },
  {
   "cell_type": "code",
   "execution_count": null,
   "metadata": {},
   "outputs": [],
   "source": []
  }
 ],
 "metadata": {
  "kernelspec": {
   "display_name": "Python 3 (ipykernel)",
   "language": "python",
   "name": "python3"
  },
  "language_info": {
   "codemirror_mode": {
    "name": "ipython",
    "version": 3
   },
   "file_extension": ".py",
   "mimetype": "text/x-python",
   "name": "python",
   "nbconvert_exporter": "python",
   "pygments_lexer": "ipython3",
   "version": "3.9.13"
  }
 },
 "nbformat": 4,
 "nbformat_minor": 2
}

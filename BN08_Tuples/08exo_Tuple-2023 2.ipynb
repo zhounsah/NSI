{
 "cells": [
  {
   "cell_type": "markdown",
   "id": "0292d745",
   "metadata": {},
   "source": [
    "# Tuples\n",
    "## Exercice 1\n",
    "On souhaite écrire en python une fonction `minmax` permettant d’extraire le minimum et le maximum d’une liste de nombres entiers.  \n",
    "Par exemple `minmax([8,3,10,2,0])` renverra `(0,10)`.  \n",
    "Dans le cas où la liste est vide on renverra `(None,None)`.  \n",
    "1. Compléter la fonction et vérifier que les tests sont réussis."
   ]
  },
  {
   "cell_type": "code",
   "execution_count": 10,
   "id": "c49c238b",
   "metadata": {},
   "outputs": [],
   "source": [
    "def minmax(liste) :\n",
    "    \"\"\"\n",
    "    Renvoie le tuple composé des valeurs minimales et maximales de la liste\n",
    "    PARAM\n",
    "    -----\n",
    "    liste(list) : une liste d'entiers\n",
    "\n",
    "    RETURN\n",
    "    -------\n",
    "    (tuple)  : minimum et maximum de la liste\n",
    "\n",
    "    EXAMPLES\n",
    "    --------\n",
    "    >>> minmax([8,3,10,2,0])\n",
    "    (0,10)\n",
    "    >>> minmax([10, 50, -1, 3])\n",
    "    (-1,50)\n",
    "    >>> minmax([])\n",
    "    (None, None)\n",
    "    \"\"\"\n",
    "    for i in range(len(liste)):\n",
    "        assert type(liste[i]) == int, \"La liste ne doit contenir que des nombres entiers\"\n",
    "    if len(liste) == 0:\n",
    "        return None, None\n",
    "    max = liste[0]\n",
    "    min = liste[0]\n",
    "    for i in range(len(liste)):\n",
    "        if liste[i] > max:\n",
    "            max = liste[i]\n",
    "        if liste[i] < min:\n",
    "            min = liste[i]\n",
    "    return min, max\n",
    "    "
   ]
  },
  {
   "cell_type": "code",
   "execution_count": 12,
   "id": "2688bc63",
   "metadata": {},
   "outputs": [
    {
     "data": {
      "text/plain": [
       "(0, 10)"
      ]
     },
     "execution_count": 12,
     "metadata": {},
     "output_type": "execute_result"
    }
   ],
   "source": [
    "# tests \n",
    "minmax([8,3,10,2,0])"
   ]
  },
  {
   "cell_type": "code",
   "execution_count": 13,
   "id": "01138f33",
   "metadata": {},
   "outputs": [
    {
     "data": {
      "text/plain": [
       "(-1, 50)"
      ]
     },
     "execution_count": 13,
     "metadata": {},
     "output_type": "execute_result"
    }
   ],
   "source": [
    "minmax([10, 50, -1, 3])"
   ]
  },
  {
   "cell_type": "code",
   "execution_count": 15,
   "id": "3622e35a",
   "metadata": {},
   "outputs": [
    {
     "data": {
      "text/plain": [
       "(None, None)"
      ]
     },
     "execution_count": 15,
     "metadata": {},
     "output_type": "execute_result"
    }
   ],
   "source": [
    "minmax([])"
   ]
  },
  {
   "cell_type": "markdown",
   "id": "256c83a3",
   "metadata": {},
   "source": [
    "2. Ajouter une pré-condition dans la fonction `minmax` pour s'assurer que la liste ne contient que des nombres entiers ( ni flottants, ni chaine de caractères). \n",
    "\n",
    "Par exemple,     \n",
    "`minmax([10, 0.5])` renvoie le message `AssertionError: La liste ne doit contenir que des nombres entiers`.  \n",
    "\n",
    "`minmax([10, \"a\"])` renvoie le message `AssertionError: La liste ne doit contenir que des nombres entiers`.  "
   ]
  },
  {
   "cell_type": "markdown",
   "id": "cf975c57",
   "metadata": {},
   "source": [
    "## Exercice 2\n",
    "On considère deux points A et B d'un repère quelconque. Leurs coordonnées sont des tuples à deux éléments.  \n",
    "1. Écrire une fonction `milieu` qui prend en argument les coordonnées de deux points et qui renvoie le milieu de ces deux points.\n",
    "\n",
    "La fonction doit fonctionner de cette manière :\n",
    "``` Python\n",
    ">>> C = (45, 12)\n",
    ">>> D = (49, 32)\n",
    ">>> milieu(C,D)\n",
    "(47, 22)\n",
    "```"
   ]
  },
  {
   "cell_type": "code",
   "execution_count": 88,
   "id": "14a1b040",
   "metadata": {},
   "outputs": [],
   "source": [
    "def milieu(x, y):\n",
    "    \"\"\"\n",
    "    retourne la moyenne des premiers et deuxièmes nombres de deux tuples\n",
    "    -------\n",
    "    EXAMPLE \n",
    "    -------\n",
    "    >>> C = (45, 12)\n",
    "    >>> D = (49, 32)\n",
    "    >>> milieu(C,D)\n",
    "    ------\n",
    "    RETURN\n",
    "    ------\n",
    "    (47, 22)\n",
    "    \"\"\"\n",
    "    return (x[0]+y[0])//2, (x[1]+y[1])//2 \n"
   ]
  },
  {
   "cell_type": "markdown",
   "id": "14f8fb6f",
   "metadata": {},
   "source": [
    "2. Ecrire la documentation de cette fonction `milieu`."
   ]
  },
  {
   "cell_type": "markdown",
   "id": "cf036ad1",
   "metadata": {},
   "source": [
    "3. Proposer un test pour montrer que cette fonction ne gère pas le calcul de l'abscisse du milieu sur une droite graduée (et non un point du plan)."
   ]
  },
  {
   "cell_type": "code",
   "execution_count": 91,
   "id": "12fe2e88",
   "metadata": {},
   "outputs": [
    {
     "ename": "SyntaxError",
     "evalue": "incomplete input (3823590431.py, line 1)",
     "output_type": "error",
     "traceback": [
      "\u001b[1;36m  Input \u001b[1;32mIn [91]\u001b[1;36m\u001b[0m\n\u001b[1;33m    milieu((15, 65)\u001b[0m\n\u001b[1;37m                   ^\u001b[0m\n\u001b[1;31mSyntaxError\u001b[0m\u001b[1;31m:\u001b[0m incomplete input\n"
     ]
    }
   ],
   "source": [
    "milieu((15, 65)"
   ]
  }
 ],
 "metadata": {
  "kernelspec": {
   "display_name": "Python 3 (ipykernel)",
   "language": "python",
   "name": "python3"
  },
  "language_info": {
   "codemirror_mode": {
    "name": "ipython",
    "version": 3
   },
   "file_extension": ".py",
   "mimetype": "text/x-python",
   "name": "python",
   "nbconvert_exporter": "python",
   "pygments_lexer": "ipython3",
   "version": "3.11.0"
  }
 },
 "nbformat": 4,
 "nbformat_minor": 5
}

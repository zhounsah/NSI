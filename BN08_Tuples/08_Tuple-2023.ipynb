{
 "cells": [
  {
   "cell_type": "markdown",
   "metadata": {
    "slideshow": {
     "slide_type": "slide"
    }
   },
   "source": [
    "##### Les Tuples\n",
    "# Tuple\n",
    "`mon_tuple = ('NSI', 12.5, 'lundi', 5)`  \n",
    "<div class=\"alert alert-danger\">Comme une liste, un tuple est une séquence, c'est-à-dire une collection ordonnée d'objets.  </div>\n",
    "Et on peut accéder à chacun par son index (le 1er index est 0).  \n",
    "mon_tuple = ('NSI', 12.5, 'lundi', 5)\n",
    "\n",
    "A l'index 0, l'élément est : ...  \n",
    "Au dernier index, l'élément est : ...  \n",
    "La longueur de ce tuple : ..."
   ]
  },
  {
   "cell_type": "code",
   "execution_count": 1,
   "metadata": {
    "slideshow": {
     "slide_type": "subslide"
    }
   },
   "outputs": [
    {
     "name": "stdout",
     "output_type": "stream",
     "text": [
      "A l'index 0, l'élément est :  NSI\n",
      "Au dernier index, l'élément est : :  5\n",
      "La longueur de ce tuple : 4\n"
     ]
    }
   ],
   "source": [
    "mon_tuple = ('NSI', 12.5, 'lundi', 5)\n",
    "print( \"A l'index 0, l'élément est : \",mon_tuple[0])\n",
    "print( \"Au dernier index, l'élément est : : \",mon_tuple[-1])\n",
    "print( \"La longueur de ce tuple :\",len(mon_tuple))"
   ]
  },
  {
   "cell_type": "markdown",
   "metadata": {
    "slideshow": {
     "slide_type": "subslide"
    }
   },
   "source": [
    "## Tuple vide, Tuple à 1 élément\n",
    "<div class=\"alert alert-danger\">\n",
    "    <b>Tuple vide : `t = ()` </b> est un exemple de tuple à 0 élément. Sa longueur est 0.  \n",
    "    \n",
    "<b>Tuple à un seul élément : `t = (121,)` </b> est un exemple de tuple à 1 élément.    \n",
    "</div>"
   ]
  },
  {
   "cell_type": "code",
   "execution_count": 6,
   "metadata": {
    "slideshow": {
     "slide_type": "subslide"
    }
   },
   "outputs": [
    {
     "name": "stdout",
     "output_type": "stream",
     "text": [
      "Un tuple peut être vide : () et sa longueur est 0.\n"
     ]
    }
   ],
   "source": [
    "tuple_vide = ()\n",
    "print( f\"Un tuple peut être vide : {tuple_vide} et sa longueur est {len(tuple_vide)}.\")"
   ]
  },
  {
   "cell_type": "markdown",
   "metadata": {
    "slideshow": {
     "slide_type": "subslide"
    }
   },
   "source": [
    "## Hétérogénéité des tuples\n",
    "**Hétérogénéité des tuples :**  \n",
    "Listes et tuples acceptent des objets de n'importe quel type : float, str, list, tuple, ...  \n",
    "Exemple :  `mon_tuple = ('NSI', 12.5, 'lundi', 5)` n'est pas homogène car il contient différents types : float, str, int.  \n",
    "\n",
    "**Homogénéité des listes :**  \n",
    "> En principe, une **liste se doit d'être homogène** (on peut déroger à cette convention).  \n",
    "**Le tuple n'est pas nécessairement homogène.**"
   ]
  },
  {
   "cell_type": "markdown",
   "metadata": {
    "slideshow": {
     "slide_type": "slide"
    }
   },
   "source": [
    "## Un tuple est non mutable\n",
    "<div class=\"alert alert-danger\">\n",
    "On ne peut pas modifier un tuple après sa création, on dit que <b>les tuples sont &nbsp; <em>non mutables</em>. </b>\n",
    "    \n",
    "C'est la différence majeure entre une liste et un tuple. <b> Une liste est &nbsp; <em> mutable </em> (modifiable) </b>.  \n",
    "</div>"
   ]
  },
  {
   "cell_type": "markdown",
   "metadata": {
    "slideshow": {
     "slide_type": "subslide"
    }
   },
   "source": [
    "Modifier un tuple `t[2] = 9.0` crée une erreur :"
   ]
  },
  {
   "cell_type": "code",
   "execution_count": 7,
   "metadata": {
    "slideshow": {
     "slide_type": "fragment"
    }
   },
   "outputs": [
    {
     "name": "stdout",
     "output_type": "stream",
     "text": [
      "(6, 8.4, [1, 2, 3])\n"
     ]
    },
    {
     "ename": "TypeError",
     "evalue": "'tuple' object does not support item assignment",
     "output_type": "error",
     "traceback": [
      "\u001b[1;31m---------------------------------------------------------------------------\u001b[0m",
      "\u001b[1;31mTypeError\u001b[0m                                 Traceback (most recent call last)",
      "Cell \u001b[1;32mIn[7], line 3\u001b[0m\n\u001b[0;32m      1\u001b[0m t \u001b[38;5;241m=\u001b[39m (\u001b[38;5;241m6\u001b[39m, \u001b[38;5;241m8.4\u001b[39m , [\u001b[38;5;241m1\u001b[39m,\u001b[38;5;241m2\u001b[39m,\u001b[38;5;241m3\u001b[39m])\n\u001b[0;32m      2\u001b[0m \u001b[38;5;28mprint\u001b[39m(t)\n\u001b[1;32m----> 3\u001b[0m \u001b[43mt\u001b[49m\u001b[43m[\u001b[49m\u001b[38;5;241;43m2\u001b[39;49m\u001b[43m]\u001b[49m \u001b[38;5;241m=\u001b[39m \u001b[38;5;241m9.0\u001b[39m \u001b[38;5;66;03m# on tente de faire une modification\u001b[39;00m\n\u001b[0;32m      4\u001b[0m \u001b[38;5;28mprint\u001b[39m(t) \u001b[38;5;66;03m# Erreur !!! 'tuple' object does not support item assignment\u001b[39;00m\n",
      "\u001b[1;31mTypeError\u001b[0m: 'tuple' object does not support item assignment"
     ]
    }
   ],
   "source": [
    "t = (6, 8.4 , [1,2,3])\n",
    "print(t)\n",
    "t[2] = 9.0 # on tente de faire une modification\n",
    "print(t) # Erreur !!! 'tuple' object does not support item assignment"
   ]
  },
  {
   "cell_type": "markdown",
   "metadata": {
    "slideshow": {
     "slide_type": "slide"
    }
   },
   "source": [
    "En revanche, on peut ré-assigner le tuple."
   ]
  },
  {
   "cell_type": "code",
   "execution_count": 8,
   "metadata": {
    "slideshow": {
     "slide_type": "fragment"
    }
   },
   "outputs": [
    {
     "name": "stdout",
     "output_type": "stream",
     "text": [
      "(6, 8.4, [1, 2, 3])\n",
      "(6,)\n"
     ]
    }
   ],
   "source": [
    "t = (6, 8.4 , [1,2,3])\n",
    "print(t)\n",
    "t = (6,)   # on ré-assigne t\n",
    "print(t)    # pas d'erreur"
   ]
  },
  {
   "cell_type": "markdown",
   "metadata": {
    "slideshow": {
     "slide_type": "slide"
    }
   },
   "source": [
    "## Parcourir un tuple\n",
    "On parcourt un tuple de la même façon qu'on parcourt une liste.\n",
    "\n",
    "* en bouclant sur les index : `for i in range(len(mon_tuple)): `\n",
    "* ou sur les valeurs : `for val in mon_tuple: `  \n",
    "    On peut boucler sur les valeurs car les listes, str, dictionnaires ( que vous verrez plus tard) et tuples sont des **itérables**."
   ]
  },
  {
   "cell_type": "code",
   "execution_count": 11,
   "metadata": {
    "slideshow": {
     "slide_type": "subslide"
    }
   },
   "outputs": [
    {
     "name": "stdout",
     "output_type": "stream",
     "text": [
      "A l'index = 0, élément = 5\n",
      "A l'index = 1, élément = 5\n",
      "A l'index = 2, élément = 5\n",
      "A l'index = 3, élément = 5\n",
      "A l'index = 4, élément = 5\n"
     ]
    }
   ],
   "source": [
    "mon_tuple = ('NSI', 12.5, 'lundi', [1,2,3], 5)\n",
    "\n",
    "# Parcours en index :\n",
    "for i in range(len(mon_tuple)):\n",
    "    print(f\"A l'index = {i}, élément = {len(mon_tuple)}\")"
   ]
  },
  {
   "cell_type": "code",
   "execution_count": 12,
   "metadata": {},
   "outputs": [
    {
     "name": "stdout",
     "output_type": "stream",
     "text": [
      "NSI 12.5 lundi [1, 2, 3] 5 "
     ]
    }
   ],
   "source": [
    "mon_tuple = ('NSI', 12.5, 'lundi', [1,2,3], 5)\n",
    "\n",
    "# Parcours en valeur :\n",
    "for val in mon_tuple:\n",
    "    print(val, end=' ')"
   ]
  },
  {
   "cell_type": "markdown",
   "metadata": {
    "slideshow": {
     "slide_type": "slide"
    }
   },
   "source": [
    "## Caster en tuple ou en liste\n",
    "On peut caster une liste en tuple : `tuple([5, 7, 7])` renvoie `(5, 7, 7)`  \n",
    "Inversement, on peut caster un tuple en liste : `list((1, 2, 3))` renvoie `[1, 2, 3]`"
   ]
  },
  {
   "cell_type": "markdown",
   "metadata": {
    "slideshow": {
     "slide_type": "subslide"
    }
   },
   "source": [
    "Mais aussi une chaine de caractère 'str' : "
   ]
  },
  {
   "cell_type": "code",
   "execution_count": 13,
   "metadata": {
    "slideshow": {
     "slide_type": "fragment"
    }
   },
   "outputs": [
    {
     "name": "stdout",
     "output_type": "stream",
     "text": [
      "('H', 'e', 'l', 'l', 'o')\n",
      "['H', 'e', 'l', 'l', 'o']\n"
     ]
    }
   ],
   "source": [
    "print(tuple(\"Hello\"))\n",
    "print(list(\"Hello\"))"
   ]
  },
  {
   "cell_type": "markdown",
   "metadata": {
    "slideshow": {
     "slide_type": "slide"
    }
   },
   "source": [
    "# Propriétes communes aux `list`, `tuple` et `str`\n",
    "\n",
    "## Les séquences\n",
    "Les variables de type  `list`, `tuple`, `dict` et `str` sont des **itérables**."
   ]
  },
  {
   "cell_type": "markdown",
   "metadata": {
    "slideshow": {
     "slide_type": "slide"
    }
   },
   "source": [
    "## Propriétés des séquences :\n",
    "A retenir : les propriétés des **séquences** (`list`, `tuple` et `str`) :\n",
    "> * **` len(seq) `** : la taille de la liste ou tuple\n",
    "> * **` seq[i] `** : l'élément d'index i (sachant que le 1er index est 0).\n",
    "> * **` seq[-1] `** : le dernier élément. De même, seq[-2] est l'avant-dernier élément ...\n",
    "\n",
    "> * **` seq[i:j] `** : renvoie une partie de la séquence de l'index i (inclus) à l'**index j exclu**. (appelé slicing)\n",
    "> * **` seq[i:j:2] `** : renvoie la séquence entre l'index i et j, mais avec un pas de de 2.\n",
    "\n",
    "> * **` x in seq `** : renvoie `True` si la séquence contient l'élément `x`. Renvoie `False` sinon.\n",
    "> * **` x not in seq `** : renvoie `False` si la séquence contient l'élément `x`. Renvoie `True` sinon.\n",
    "\n",
    "> * **` seq1 == seq2 `** : renvoie `True` si les 2 séquences sont de même type (list ou tuple), de même longueur et que leurs éléments sont égaux 2 à 2. Renvoie `False` sinon.\n",
    "> * **` seq1 + seq2 `** : renvoie la concaténation des 2 séquences qui doivent avoir le même type : list ou tuple.\n",
    "> * **` seq1 * 3 `** : recopie 3 fois la séquence. _Exécuter la cellule-code ci-dessous : `(6,) * 4`  ou  `[ 1,2,3 ] * 5`_\n",
    "\n",
    "> * **` seq.index(x) `** : renvoie l'index de la 1ère apparition de x dans la séquence. Et renvoie `ValueError` si x en est absent.\n",
    "> * **` seq.count(x) `** : renvoie l'effectif de x dans la séquence. Et renvoie `0` si x en est absent."
   ]
  },
  {
   "cell_type": "code",
   "execution_count": null,
   "metadata": {
    "slideshow": {
     "slide_type": "slide"
    }
   },
   "outputs": [],
   "source": [
    "# Propriété qui recopie les éléments\n",
    "t = (6,) * 4   # on notera l'intérêt de la virgule afin de ne pas confondre avec un entier\n",
    "print(t)\n",
    "\n",
    "liste = [ 1,2,3 ] * 5\n",
    "print(liste)\n",
    "\n",
    "c = '4' * 3  # Notez bien les quotes !!!\n",
    "print(c)\n",
    "\n",
    "mot = 'go!...'\n",
    "print(mot*3)"
   ]
  },
  {
   "cell_type": "markdown",
   "metadata": {
    "slideshow": {
     "slide_type": "slide"
    }
   },
   "source": [
    "On remarque que les méthodes `append`, `pop`, ... n'existent pas sur les tuples (mais existent sur les listes).   \n",
    "La raison est simple : un tuple n'est pas mutable !"
   ]
  },
  {
   "cell_type": "code",
   "execution_count": 16,
   "metadata": {
    "slideshow": {
     "slide_type": "slide"
    }
   },
   "outputs": [
    {
     "name": "stdout",
     "output_type": "stream",
     "text": [
      "Le premier élément 5 a pour index 2\n",
      "Combien d'éléments 5 ? il y en a 2 \n",
      "Combien d'éléments 'hello' ? il y en a 0\n",
      "('lundi', [5, 5, 5], 1, 2, 3)\n"
     ]
    }
   ],
   "source": [
    "mon_tuple = ('NSI', 12.5, 5, 'lundi', [5,5,5], 5)\n",
    "print(f\"Le premier élément 5 a pour index {mon_tuple.index(5)}\")\n",
    "print(f\"Combien d'éléments 5 ? il y en a {mon_tuple.count(5)} \")\n",
    "print(f\"Combien d'éléments 'hello' ? il y en a {mon_tuple.count('hello')}\")\n",
    "print(mon_tuple[3:5]+(1, 2, 3))"
   ]
  },
  {
   "cell_type": "markdown",
   "metadata": {
    "slideshow": {
     "slide_type": "slide"
    }
   },
   "source": [
    "## Liste de tuples\n",
    "`liste_coord = [(-1,2), (3,4), (5,-6)]`  \n",
    "On peut directement accéder à l'abscisse 5 avec `..................`"
   ]
  },
  {
   "cell_type": "code",
   "execution_count": 19,
   "metadata": {
    "slideshow": {
     "slide_type": "fragment"
    }
   },
   "outputs": [
    {
     "name": "stdout",
     "output_type": "stream",
     "text": [
      "Le tuple (5,-6) est : (5, -6)\n",
      "L'abscisse de ce tuple : 5\n",
      "et son ordonnée : 5\n"
     ]
    }
   ],
   "source": [
    "liste_coord = [(-1,2), (3,4), (5,-6)]\n",
    "print(f\"Le tuple (5,-6) est : {liste_coord[-1]}\")\n",
    "print(f\"L'abscisse de ce tuple : {liste_coord[-1][0]}\")\n",
    "print(f\"et son ordonnée : {liste_coord[-1][0]}\")"
   ]
  },
  {
   "cell_type": "markdown",
   "metadata": {
    "slideshow": {
     "slide_type": "slide"
    }
   },
   "source": [
    "## Utilisation bien connue de tuples\n",
    "### Pour qu'une fonction renvoie plusieurs valeurs\n",
    "Voici un exemple de fonction qui renvoie 2 valeurs.  \n",
    "En réalité, elle renvoie un tuple."
   ]
  },
  {
   "cell_type": "code",
   "execution_count": null,
   "metadata": {
    "slideshow": {
     "slide_type": "subslide"
    }
   },
   "outputs": [],
   "source": [
    "def quotient_reste(a,b):\n",
    "    q = a // b\n",
    "    r = a % b\n",
    "    return q, r    # En réalité, c'est le tuple (q, r)\n",
    "\n",
    "quotient, reste = quotient_reste(7,3)\n",
    "print(f'Pour 7 / 3, le quotient est {quotient} et le reste est {reste}.')"
   ]
  },
  {
   "cell_type": "markdown",
   "metadata": {
    "slideshow": {
     "slide_type": "slide"
    }
   },
   "source": [
    "### Pour échanger 2 valeurs\n",
    "Les tuples permettent d'échanger 2 valeurs sans avoir recours à une 3e variable."
   ]
  },
  {
   "cell_type": "code",
   "execution_count": null,
   "metadata": {
    "slideshow": {
     "slide_type": "fragment"
    }
   },
   "outputs": [],
   "source": [
    "a = 4\n",
    "b = 2\n",
    "a, b = b, a   # Egalité de tuples : (a, b) = (b, a)\n",
    "print(f'a = {a} et b = {b}')"
   ]
  },
  {
   "cell_type": "markdown",
   "metadata": {
    "slideshow": {
     "slide_type": "slide"
    }
   },
   "source": [
    "# Rappels sur les listes"
   ]
  },
  {
   "cell_type": "markdown",
   "metadata": {
    "slideshow": {
     "slide_type": "slide"
    }
   },
   "source": [
    "## Propriétés des listes"
   ]
  },
  {
   "cell_type": "markdown",
   "metadata": {
    "slideshow": {
     "slide_type": "slide"
    }
   },
   "source": [
    "> * `ma_liste[2] = \"abc\"` : modifie l'élément d'index 2\n",
    "\n",
    "> * **`ma_liste.append(\"abc\")`** : ajoute un élément `\"abc\"` en fin de liste  \n",
    "> * **`ma_liste.insert(5,\"abc\")`** : insère l'élément \"abc\" à l'index 5\n",
    "\n",
    "> * **`del ma_liste[4] `** : supprime l'élément d'index 4\n",
    "> * **`ma_liste.pop(4) `** : supprime l'élément d'index 4 et renvoie sa valeur\n",
    "> * **`ma_liste.pop() `** : supprime et renvoie le dernier élément de la liste\n",
    "> * **`ma_liste.remove(\"abc\") `** : supprime le 1er élément de valeur `\"abc\"`\n",
    "\n",
    "> `tab = liste` : pour assigner tab au même objet que liste (une copie par référence) [liste ou tuple].  \n",
    "> `tab = liste[:]` : pour copier toutes les valeurs de liste dans tab (une copie par valeur) [liste ou tuple]. "
   ]
  },
  {
   "cell_type": "markdown",
   "metadata": {
    "slideshow": {
     "slide_type": "slide"
    }
   },
   "source": [
    "***\n",
    "## *Pour aller plus loin* : Le slicing :  \n",
    "Extended Slices sur les `list`, `tuple` et `str`:"
   ]
  },
  {
   "cell_type": "code",
   "execution_count": null,
   "metadata": {
    "slideshow": {
     "slide_type": "fragment"
    }
   },
   "outputs": [],
   "source": [
    "liste = [i for i in range (10)]   # liste = [0, 1, 2, 3, 4, 5, 6, 7, 8, 9]\n",
    "print( liste[::2] )"
   ]
  },
  {
   "cell_type": "code",
   "execution_count": null,
   "metadata": {
    "slideshow": {
     "slide_type": "subslide"
    }
   },
   "outputs": [],
   "source": [
    "liste = [i for i in range (10)]  # liste = [0, 1, 2, 3, 4, 5, 6, 7, 8, 9]\n",
    "print( liste[::-1])"
   ]
  },
  {
   "cell_type": "code",
   "execution_count": null,
   "metadata": {
    "slideshow": {
     "slide_type": "subslide"
    }
   },
   "outputs": [],
   "source": [
    "liste = [i for i in range (10)]   # liste = [0, 1, 2, 3, 4, 5, 6, 7, 8, 9]\n",
    "print( liste[:-1:1] )"
   ]
  }
 ],
 "metadata": {
  "celltoolbar": "Format de la Cellule Texte Brut",
  "kernelspec": {
   "display_name": "Python 3 (ipykernel)",
   "language": "python",
   "name": "python3"
  },
  "language_info": {
   "codemirror_mode": {
    "name": "ipython",
    "version": 3
   },
   "file_extension": ".py",
   "mimetype": "text/x-python",
   "name": "python",
   "nbconvert_exporter": "python",
   "pygments_lexer": "ipython3",
   "version": "3.9.1"
  },
  "toc": {
   "base_numbering": 1,
   "nav_menu": {},
   "number_sections": true,
   "sideBar": true,
   "skip_h1_title": false,
   "title_cell": "Table of Contents",
   "title_sidebar": "Contents",
   "toc_cell": false,
   "toc_position": {},
   "toc_section_display": true,
   "toc_window_display": false
  }
 },
 "nbformat": 4,
 "nbformat_minor": 2
}

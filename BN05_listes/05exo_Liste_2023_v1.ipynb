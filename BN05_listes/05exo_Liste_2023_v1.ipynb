{
 "cells": [
  {
   "cell_type": "markdown",
   "metadata": {},
   "source": [
    "# Exercices sur les listes"
   ]
  },
  {
   "cell_type": "markdown",
   "metadata": {},
   "source": [
    "## QCM 1\n",
    "a/ **QCM :** Soit la liste `voyelles = ['a', 'e', 'i', 'o', 'u', 'y']` .  \n",
    "**Comment accéder à `'e'` ?**  \n",
    " &nbsp; &nbsp;  &nbsp; &nbsp; *A/ `voyelles(1)`  &nbsp; &nbsp; B/ `voyelles[1]` &nbsp; &nbsp; C/ `voyelles(2)` &nbsp; &nbsp; D/ `voyelles[2]`*  \n",
    "b/ **Auto-correction :** Ajouter un print et lancer le programme."
   ]
  },
  {
   "cell_type": "code",
   "execution_count": 1,
   "metadata": {},
   "outputs": [
    {
     "name": "stdout",
     "output_type": "stream",
     "text": [
      "e\n"
     ]
    }
   ],
   "source": [
    "voyelles = ['a', 'e', 'i', 'o', 'u', 'y']\n",
    "# ajouter un print\n",
    "print(voyelles[1])"
   ]
  },
  {
   "cell_type": "code",
   "execution_count": 4,
   "metadata": {},
   "outputs": [
    {
     "name": "stdout",
     "output_type": "stream",
     "text": [
      "Longueur : 6\n"
     ]
    }
   ],
   "source": [
    "voyelles = ['a', 'e', 'i', 'o', 'u', 'y']\n",
    "# saisir l'instruction qui permet d'afficher la longueur de la liste 'voyelles'\n",
    "print(\"Longueur :\", (len(voyelles)))"
   ]
  },
  {
   "cell_type": "markdown",
   "metadata": {},
   "source": [
    "## Exercice 1 : Echange de valeurs\n",
    "**Bim, bam boum !!!**  \n",
    "On a la liste :\n",
    "```Python \n",
    "bruit = ['bim','boum','bam']\n",
    "```\n",
    "On souhaite changer l'ordre de 'boum' et 'bam'.  \n",
    "\n",
    "Quelle est la valeur de `bruit` après l'exécution des ces instructions du programme ci-dessous ? Expliquer\n",
    "\n",
    "|bruit[0]|bruit[1]|[bruit2]|\n",
    "|:--:|:--:|:--:|\n",
    "|'bim'|'boum'|'bam'|\n",
    "|.|.|.|\n",
    "|.|.|.|"
   ]
  },
  {
   "cell_type": "code",
   "execution_count": null,
   "metadata": {},
   "outputs": [],
   "source": [
    "bruit = ['bim','boum','bam']\n",
    "bruit[1] = bruit[2]\n",
    "bruit[2] = bruit[1]\n",
    "print(bruit)"
   ]
  },
  {
   "cell_type": "markdown",
   "metadata": {},
   "source": [
    "Elaborer un nouveau programme permettant de faire l'échange"
   ]
  },
  {
   "cell_type": "code",
   "execution_count": null,
   "metadata": {},
   "outputs": [],
   "source": [
    "bruit = ['bim', 'boum','bam']\n",
    "t = bruit.pop(1)\n",
    "bruit.append(t)\n",
    "print(bruit)"
   ]
  },
  {
   "cell_type": "markdown",
   "metadata": {},
   "source": [
    "## Exercice 2 : permutation circulaire\n",
    "Créer une liste puis modifier cette liste selon une permutation circulaire.  \n",
    "Par exemple :  `L = [2, 6, 8, 3]`  devient  `[3, 2, 6, 8]`"
   ]
  },
  {
   "cell_type": "code",
   "execution_count": null,
   "metadata": {},
   "outputs": [],
   "source": [
    "### permutation circulaire\n",
    "L = [2, 6, 8, 3]\n",
    "liste2 = []\n",
    "for i in range(1, len(L)):\n",
    "    liste2.append(L[i-1])\n",
    "liste2.insert(0,L[-1])\n",
    "print(liste2)"
   ]
  },
  {
   "cell_type": "markdown",
   "metadata": {},
   "source": [
    "## Exercice 3 : somme de deux listes\n",
    "\n",
    "1. Écrire une fonction qui additionne terme à terme, 2 listes de même taille.\n",
    "\n",
    "2. Ajouter une assertion qui vérifie que les 2 listes sont bien de même taille. C'est une précondition sur la fonction."
   ]
  },
  {
   "cell_type": "code",
   "execution_count": null,
   "metadata": {},
   "outputs": [],
   "source": [
    "### Somme de 2 listes\n",
    "def somme(liste1, liste2):\n",
    "    \"\"\"\n",
    "    PARAM\n",
    "    -----\n",
    "    liste1 et liste2 (list) : 2 listes d'entiers de même longueur\n",
    "    RETURN \n",
    "    ------\n",
    "    (list) : l'addition terme à terme de liste1 et liste2\n",
    "    EXEMPLE \n",
    "    -------\n",
    "    >>> somme([6,5,1,9,1], [2,1,1,2,6])\n",
    "    [8,6,2,11,7]\n",
    "    \"\"\"\n",
    "\n",
    "    \n",
    "    \n",
    "    \n",
    "    \n",
    "\n",
    "### Programme principal\n",
    "# Créer  2 listes A[] et B[] d'entiers aléatoires de même longueur\n",
    "\n",
    "\n",
    "# Puis afficher la liste somme\n",
    "\n"
   ]
  },
  {
   "cell_type": "markdown",
   "metadata": {},
   "source": [
    "## Exercice 4 : Fonction mystère \n",
    "On considère la fonction mystere qui prend en paramètre une liste d'entiers non vide."
   ]
  },
  {
   "cell_type": "code",
   "execution_count": null,
   "metadata": {},
   "outputs": [],
   "source": [
    "def mystere(liste):\n",
    "    for i in range(1,len(liste)):\n",
    "        if liste[i - 1] > liste[i]:\n",
    "            return False\n",
    "    return True"
   ]
  },
  {
   "cell_type": "markdown",
   "metadata": {},
   "source": [
    "1. Que renvoie l'appel de `mystere([1, 2, 6, 9])` ?\n",
    "\n",
    "\n",
    "\n",
    "2. Exécuter pour vérifier."
   ]
  },
  {
   "cell_type": "code",
   "execution_count": null,
   "metadata": {},
   "outputs": [],
   "source": [
    "mystere([1, 2, 6, 9])"
   ]
  },
  {
   "cell_type": "markdown",
   "metadata": {},
   "source": [
    "3. Questions sur la fonction mystere :\n",
    "    1. Comment s'appelle le type de boucle utilisée dans cette fonction ?\n",
    "    2. Comment appelle-t-on le type de parcours réalisé dans cette boucle ?\n",
    "    3. Que se passerait-il si à la ligne 2 on avait : for i in range(len(liste)) ?\n",
    "    4. Que se passe-t-il si la condition de la ligne 3 est réalisée ?\n",
    "    5. Pourquoi y-a-t-il deux fois le mot clé return dans cette fonction ?\n",
    "    6. Que est le type du résultat renvoyé ?"
   ]
  },
  {
   "cell_type": "markdown",
   "metadata": {},
   "source": [
    "4. \n",
    "    1. Compléter le tableau d'évolution des variables lorsqu'on appelle `mystere([1, 6, 2, 9])`  . \n",
    "       \n",
    "\n",
    "| i | i - 1 | liste[i - 1] | liste[i] |\n",
    "|---|-------|--------------|----------|\n",
    "| _ |   _   |   _          |    _     |\n",
    "| _ |   _   |   _          |    _     |\n",
    "| _ |   _   |   _          |    _     |\n",
    "| _ |   _   |   _          |    _     |\n",
    "\n",
    "\n",
    "    B.Que renvoie l'appel de `mystere([1, 6, 2, 9])`."
   ]
  },
  {
   "cell_type": "markdown",
   "metadata": {},
   "source": [
    "5. Sans modifier le code déjà donné, compléter la fonction suivante qui doit donner les mêmes résultats"
   ]
  },
  {
   "cell_type": "code",
   "execution_count": null,
   "metadata": {},
   "outputs": [],
   "source": [
    "def mystere(liste):\n",
    "    for i in range(len(liste)-1):\n",
    "        ...\n",
    "            return False\n",
    "    return True"
   ]
  },
  {
   "cell_type": "markdown",
   "metadata": {},
   "source": [
    "6. Que renvoie `mystere(['kiwi', 'pomme', 'ananas'])` ? Expliquer."
   ]
  },
  {
   "cell_type": "markdown",
   "metadata": {},
   "source": [
    "7. Construire la fonction tri_dec suivante:"
   ]
  },
  {
   "cell_type": "code",
   "execution_count": null,
   "metadata": {},
   "outputs": [],
   "source": [
    "def tri_dec(liste) :\n",
    "    \"\"\"\n",
    "    vérifie qu'une liste non vide est décroissante\n",
    "    PARAM \n",
    "    -----\n",
    "    liste(list) : liste d'entiers\n",
    "    \n",
    "    RETURN\n",
    "    ------\n",
    "    (bool) : vrai si les entiers de la liste sont classés dans l'ordre décroissant\n",
    "    \n",
    "    EXEMPLES \n",
    "    --------\n",
    "    >>> tri_dec([9,4,-2,-10])\n",
    "    True\n",
    "    >>> tri_dec([9,-4,2,-10])\n",
    "    False\n",
    "    \"\"\""
   ]
  },
  {
   "cell_type": "code",
   "execution_count": null,
   "metadata": {},
   "outputs": [],
   "source": [
    "tri_dec([9,4,-2,-10])"
   ]
  },
  {
   "cell_type": "code",
   "execution_count": null,
   "metadata": {},
   "outputs": [],
   "source": [
    "tri_dec([9,-4,2,-10])"
   ]
  },
  {
   "cell_type": "markdown",
   "metadata": {},
   "source": [
    "## Exercice 5\n",
    "1. Créer une fonction `liste_aleat`/`liste_aleat_comp` qui renvoieune liste constituée de 100 entiers aléatoires compris entre 1 et 10."
   ]
  },
  {
   "cell_type": "code",
   "execution_count": null,
   "metadata": {},
   "outputs": [],
   "source": [
    "# sans liste en compréhension\n",
    "def liste_aleat():\n",
    "    "
   ]
  },
  {
   "cell_type": "code",
   "execution_count": null,
   "metadata": {},
   "outputs": [],
   "source": [
    "# avec une liste en compréhension\n",
    "def liste_aleat_comp():\n",
    "    "
   ]
  },
  {
   "cell_type": "markdown",
   "metadata": {},
   "source": [
    "NB : Exécuter les deux cellules suivantes pour déterminer la fonction la plus rapide pour construire une liste de 1000 entiers aléatoires"
   ]
  },
  {
   "cell_type": "code",
   "execution_count": 4,
   "metadata": {},
   "outputs": [
    {
     "name": "stdout",
     "output_type": "stream",
     "text": [
      "934 µs ± 125 µs per loop (mean ± std. dev. of 7 runs, 1,000 loops each)\n"
     ]
    }
   ],
   "source": [
    "from random import randint\n",
    "def liste_aleat():\n",
    "    liste_aleatoire = []\n",
    "    for i in range(1000) :\n",
    "        nb_aleatoire = randint(1,10)\n",
    "        liste_aleatoire.append(nb_aleatoire)\n",
    "%timeit liste_aleat()"
   ]
  },
  {
   "cell_type": "code",
   "execution_count": 5,
   "metadata": {},
   "outputs": [
    {
     "name": "stdout",
     "output_type": "stream",
     "text": [
      "922 µs ± 102 µs per loop (mean ± std. dev. of 7 runs, 1,000 loops each)\n"
     ]
    }
   ],
   "source": [
    "def liste_aleat_comp():\n",
    "    liste_aleatoire = [randint(1,10) for i in range(1000) ]\n",
    "%timeit liste_aleat_comp()"
   ]
  },
  {
   "cell_type": "markdown",
   "metadata": {},
   "source": [
    "2. Par un algorithme de cumul, calculer la somme de toutes les valeurs de cette liste."
   ]
  },
  {
   "cell_type": "code",
   "execution_count": null,
   "metadata": {},
   "outputs": [],
   "source": [
    "### Liste de 100 entiers aléatoires (entre 1 et 100) compris entre 1 et 10.\n",
    "liste_aleatoire = liste_alea_comp()\n",
    "\n",
    "\n",
    "### la somme de toutes les valeurs de la liste\n",
    "\n",
    "\n",
    "\n",
    "\n"
   ]
  },
  {
   "cell_type": "markdown",
   "metadata": {},
   "source": [
    "2. Par un algorithme de cumul, calculer la somme de toutes les valeurs paires de cette liste."
   ]
  },
  {
   "cell_type": "code",
   "execution_count": null,
   "metadata": {},
   "outputs": [],
   "source": [
    "### la somme de toutes les valeurs paires de la liste"
   ]
  },
  {
   "attachments": {
    "05_chateau_de_cartes.jpg": {
     "image/jpeg": "[encoded data removed]"
    }
   },
   "cell_type": "markdown",
   "metadata": {},
   "source": [
    "# suppléments\n",
    "## Chateau de cartes\n",
    "\n",
    "On souhaite réaliser un chateau de cartes, et on compte le nombre de cartes nécessaires.  \n",
    "![05_chateau_de_cartes.jpg](attachment:05_chateau_de_cartes.jpg)\n",
    "\n",
    "On obtient ces résultats :\n",
    "* pour 0 étage => 0 carte\n",
    "* pour 1 étage => 2 cartes\n",
    "* pour 2 étages => 7 cartes\n",
    "* pour 3 étages => 15 cartes\n",
    "* pour 4 étages => 26 cartes\n",
    "\n",
    "\n",
    "1. Ecrire une fonction qui calcule le nombre de cartes nécessaires pour réaliser n étages.\n",
    "2. Inversement, écrire une fonction qui calcule le nombre d'étages maximum réalisables avec p cartes."
   ]
  },
  {
   "cell_type": "markdown",
   "metadata": {},
   "source": [
    "## Le carré magique\n",
    "Voici un carré d'ordre n=3. On dit même que c'est un carré magique (!!!)"
   ]
  },
  {
   "cell_type": "code",
   "execution_count": null,
   "metadata": {},
   "outputs": [],
   "source": [
    "carré3 = [\n",
    "    [2, 7, 6],\n",
    "    [9, 5, 1],\n",
    "    [4, 3, 8] \n",
    "]"
   ]
  },
  {
   "cell_type": "markdown",
   "metadata": {},
   "source": [
    "1. Quelle est la valeur de `carré3[1]` ? ....."
   ]
  },
  {
   "cell_type": "markdown",
   "metadata": {},
   "source": [
    "2. Ecrire une boucle qui additionne les nombres de la 1ère ligne."
   ]
  },
  {
   "cell_type": "code",
   "execution_count": null,
   "metadata": {},
   "outputs": [],
   "source": [
    "# Somme sur la 1ère ligne\n",
    "\n"
   ]
  },
  {
   "cell_type": "markdown",
   "metadata": {},
   "source": [
    "3. Ecrire une fonction qui renvoie la somme de la i-ème ligne."
   ]
  },
  {
   "cell_type": "code",
   "execution_count": null,
   "metadata": {},
   "outputs": [],
   "source": [
    "# Somme sur la i-ième ligne\n",
    "def somme_ligne(carré, i):\n",
    "    \n",
    "\n",
    "\n"
   ]
  },
  {
   "cell_type": "markdown",
   "metadata": {},
   "source": [
    "4. Idem pour une colonne."
   ]
  },
  {
   "cell_type": "code",
   "execution_count": null,
   "metadata": {},
   "outputs": [],
   "source": [
    "# Somme sur la i-ième colonne\n",
    "def somme_colonne(carré, i):\n",
    "    \n",
    "    \n",
    "    "
   ]
  },
  {
   "cell_type": "markdown",
   "metadata": {},
   "source": [
    "5. Idem pour la 1ère diagonale, puis le 2e diagonale."
   ]
  },
  {
   "cell_type": "code",
   "execution_count": null,
   "metadata": {},
   "outputs": [],
   "source": [
    "# Somme des diagonales\n",
    "def diagonale1(carré):\n",
    "    \n",
    "    \n",
    "def diagonale2(carré):\n",
    "    \n",
    "    \n",
    "    "
   ]
  },
  {
   "cell_type": "markdown",
   "metadata": {},
   "source": [
    "6. Ecrire une fonction qui vérifie que les sommes sur les lignes sont égales aux sommes sur les colonnes, et aux sommes sur les 2 diagonales."
   ]
  },
  {
   "cell_type": "code",
   "execution_count": null,
   "metadata": {},
   "outputs": [],
   "source": [
    "# Le carré est-il à priori magique ?\n",
    "def magique1(carré):\n",
    "    \n",
    "    \n",
    "    "
   ]
  },
  {
   "cell_type": "markdown",
   "metadata": {},
   "source": [
    "7. Enrichir cette fonction pour qu'elle vérifie que le carré contient bien tous les nombres entre 1 et n².  \n",
    "    On pourra tester ce 2e carré magique d'ordre n=4 :  "
   ]
  },
  {
   "cell_type": "code",
   "execution_count": null,
   "metadata": {},
   "outputs": [],
   "source": [
    "carré4 = [\n",
    "    [4, 5, 11, 14],\n",
    "    [15, 10, 8, 1],\n",
    "    [6, 3, 13, 12],\n",
    "    [9, 16, 2, 7]\n",
    "]"
   ]
  }
 ],
 "metadata": {
  "kernelspec": {
   "display_name": "Python 3 (ipykernel)",
   "language": "python",
   "name": "python3"
  },
  "language_info": {
   "codemirror_mode": {
    "name": "ipython",
    "version": 3
   },
   "file_extension": ".py",
   "mimetype": "text/x-python",
   "name": "python",
   "nbconvert_exporter": "python",
   "pygments_lexer": "ipython3",
   "version": "3.11.0"
  }
 },
 "nbformat": 4,
 "nbformat_minor": 4
}

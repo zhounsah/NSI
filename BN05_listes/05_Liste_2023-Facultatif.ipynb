{
 "cells": [
  {
   "cell_type": "markdown",
   "metadata": {
    "slideshow": {
     "slide_type": "slide"
    }
   },
   "source": [
    "##### Les listes - facultatif"
   ]
  },
  {
   "cell_type": "markdown",
   "metadata": {
    "slideshow": {
     "slide_type": "slide"
    }
   },
   "source": [
    "# Listes particulières `[]`, `[0]*5`, `list(mot)`\n",
    "## Liste vide  `[]`\n",
    "Il y a deux façons de créer une liste vide :  \n",
    "* soit : `ma_liste = list()`\n",
    "* soit : `ma_liste = []`"
   ]
  },
  {
   "cell_type": "markdown",
   "metadata": {
    "slideshow": {
     "slide_type": "slide"
    }
   },
   "source": [
    "## Liste répétitive `[0]*5`\n",
    "* `ma_liste = [6]*5` répète 5 fois le même élément, donc `[6, 6, 6, 6, 6]`.   \n",
    "* `[1, 2, 3]*4` renvoie `[1, 2, 3, 1, 2, 3, 1, 2, 3, 1, 2, 3]`.  \n",
    "\n",
    "<span class=\"enonce\">Le programme ci-dessous affiche-t-il 5 nombres aléatoires **différents** ou 5 fois le même nombre ?</span> 5 fois le même nombre\n"
   ]
  },
  {
   "cell_type": "code",
   "execution_count": 1,
   "metadata": {
    "slideshow": {
     "slide_type": "subslide"
    }
   },
   "outputs": [
    {
     "name": "stdout",
     "output_type": "stream",
     "text": [
      "[1, 1, 1, 1, 1]\n"
     ]
    }
   ],
   "source": [
    "import random\n",
    "ma_liste = [random.randint(0,4)]*5\n",
    "print(ma_liste)"
   ]
  },
  {
   "cell_type": "markdown",
   "metadata": {},
   "source": [
    "<div class=\"alert alert-warning\"> Attention à cette utilisation dans une liste 2D !</div>\n",
    "\n",
    "**Un exemple :**\n",
    "\n",
    "Cyril et Debora décide d'utiliser une matrice pour représenter une grille de jeu de puissance4.  \n",
    "Cette matrice a 6 lignes et 7 colonnes.  \n",
    "Cyril et Debora créent une grille vierge remplie de \"0\" au début du jeu.\n",
    "\n",
    "Débora décide de coder la grille ainsi :"
   ]
  },
  {
   "cell_type": "code",
   "execution_count": 14,
   "metadata": {},
   "outputs": [
    {
     "data": {
      "text/plain": [
       "[[0, 0, 0, 0, 0, 0, 0],\n",
       " [0, 0, 0, 0, 0, 0, 0],\n",
       " [0, 0, 0, 0, 0, 0, 0],\n",
       " [0, 0, 0, 0, 0, 0, 0],\n",
       " [0, 0, 0, 0, 0, 0, 0],\n",
       " [0, 0, 0, 0, 0, 0, 0]]"
      ]
     },
     "execution_count": 14,
     "metadata": {},
     "output_type": "execute_result"
    }
   ],
   "source": [
    "grille_Debora = [[0 for j in range(7)] for i in range(6)] \n",
    "grille_Debora"
   ]
  },
  {
   "cell_type": "markdown",
   "metadata": {},
   "source": [
    "Tandis que Cyril la code ainsi :"
   ]
  },
  {
   "cell_type": "code",
   "execution_count": 15,
   "metadata": {},
   "outputs": [
    {
     "data": {
      "text/plain": [
       "[[0, 0, 0, 0, 0, 0, 0],\n",
       " [0, 0, 0, 0, 0, 0, 0],\n",
       " [0, 0, 0, 0, 0, 0, 0],\n",
       " [0, 0, 0, 0, 0, 0, 0],\n",
       " [0, 0, 0, 0, 0, 0, 0],\n",
       " [0, 0, 0, 0, 0, 0, 0]]"
      ]
     },
     "execution_count": 15,
     "metadata": {},
     "output_type": "execute_result"
    }
   ],
   "source": [
    "grille_Cyril = [[0]*7]*6\n",
    "grille_Cyril"
   ]
  },
  {
   "cell_type": "markdown",
   "metadata": {},
   "source": [
    "Le joueur qui a les jetons rouges joue son premier jeton en (5,1). "
   ]
  },
  {
   "cell_type": "code",
   "execution_count": 16,
   "metadata": {},
   "outputs": [
    {
     "data": {
      "text/plain": [
       "[[0, 0, 0, 0, 0, 0, 0],\n",
       " [0, 0, 0, 0, 0, 0, 0],\n",
       " [0, 0, 0, 0, 0, 0, 0],\n",
       " [0, 0, 0, 0, 0, 0, 0],\n",
       " [0, 0, 0, 0, 0, 0, 0],\n",
       " [0, 'R', 0, 0, 0, 0, 0]]"
      ]
     },
     "execution_count": 16,
     "metadata": {},
     "output_type": "execute_result"
    }
   ],
   "source": [
    "grille_Debora[5][1] = 'R'\n",
    "grille_Debora"
   ]
  },
  {
   "cell_type": "code",
   "execution_count": 17,
   "metadata": {},
   "outputs": [
    {
     "data": {
      "text/plain": [
       "[[0, 'R', 0, 0, 0, 0, 0],\n",
       " [0, 'R', 0, 0, 0, 0, 0],\n",
       " [0, 'R', 0, 0, 0, 0, 0],\n",
       " [0, 'R', 0, 0, 0, 0, 0],\n",
       " [0, 'R', 0, 0, 0, 0, 0],\n",
       " [0, 'R', 0, 0, 0, 0, 0]]"
      ]
     },
     "execution_count": 17,
     "metadata": {},
     "output_type": "execute_result"
    }
   ],
   "source": [
    "grille_Cyril[5][1] = 'R'\n",
    "grille_Cyril"
   ]
  },
  {
   "cell_type": "markdown",
   "metadata": {},
   "source": [
    "<span class=\"enonce\">Expliquer la différence entre ces deux résultats. Vous pouvez coller votre code dans [Python Tutor](https://pythontutor.com/visualize.html#mode=edit) pour visualier les différentes étapes.</span>\n",
    "\n",
    "...\n"
   ]
  },
  {
   "cell_type": "markdown",
   "metadata": {
    "slideshow": {
     "slide_type": "slide"
    }
   },
   "source": [
    "# Liste et chaine de caractères"
   ]
  },
  {
   "cell_type": "markdown",
   "metadata": {
    "slideshow": {
     "slide_type": "slide"
    }
   },
   "source": [
    "## Convertir une chaine de caractères en liste\n",
    "La fonction `list`crée une liste à partir d'une chaine de caractères.\n",
    "\n",
    "### `ma_liste =  list(mot)`\n"
   ]
  },
  {
   "cell_type": "code",
   "execution_count": 18,
   "metadata": {
    "slideshow": {
     "slide_type": "fragment"
    }
   },
   "outputs": [
    {
     "name": "stdout",
     "output_type": "stream",
     "text": [
      "['h', 'e', 'l', 'l', 'o']\n"
     ]
    }
   ],
   "source": [
    "ma_liste = list(\"hello\")\n",
    "print(ma_liste)"
   ]
  },
  {
   "cell_type": "markdown",
   "metadata": {},
   "source": [
    "## Convertir une liste  en une chaine de caractères\n",
    "Si les éléments d'une liste sont des chaines de caractères, alors on peut obtenir une chaine de caractères en concaténant les éléments de la liste .\n",
    "\n",
    "La méthode `join` donne une chaîne qui est la concaténation des chaînes contenues dans la liste. Le séparateur entre les éléments est la chaîne fournissant cette méthode.\n",
    "\n",
    "### `mot =  \"\".join(ma_liste)`"
   ]
  },
  {
   "cell_type": "code",
   "execution_count": 19,
   "metadata": {},
   "outputs": [
    {
     "name": "stdout",
     "output_type": "stream",
     "text": [
      "kiwi\n",
      "k--i--w--i\n"
     ]
    }
   ],
   "source": [
    "ma_liste = ['k', 'i', 'w', 'i']\n",
    "\n",
    "# Le séparateur est la chaîne vide :\n",
    "mot = \"\".join(ma_liste)\n",
    "print(mot)\n",
    "\n",
    "# Le séparateur est \"--\" :\n",
    "mot = \"--\".join(ma_liste)\n",
    "print(mot)"
   ]
  },
  {
   "cell_type": "markdown",
   "metadata": {},
   "source": [
    "\n",
    "<span class=\"enonce\">A l'aide des opérations <b>list</b> et <b>join</b>, transformer le mot 'cours' en 'coups' sans faire de réaffectation de la variable mot.</span> :"
   ]
  },
  {
   "cell_type": "code",
   "execution_count": 20,
   "metadata": {
    "scrolled": true,
    "tags": []
   },
   "outputs": [],
   "source": [
    "mot = \"cours\"\n",
    "\n",
    "\n",
    "\n"
   ]
  },
  {
   "cell_type": "markdown",
   "metadata": {},
   "source": [
    "# Liste en compréhension avec if/else\n",
    "\n",
    "<div class=\"alert alert-success\"> \n",
    "On a vu qu'on pouvait ajouter une condition dans la construction d'une liste en compréhension <br>\n",
    "    <b>[expression1 for element in ma_liste if expresssion_booléenne]</b> <br>\n",
    "Mais on peut aussi ajouter un \"sinon\" dans la condition : <br>\n",
    "    <b>[expression1 if expresssion_booleenne else expression2 for element in ma_liste]</b> <br>\n",
    "</div>"
   ]
  },
  {
   "cell_type": "code",
   "execution_count": 24,
   "metadata": {},
   "outputs": [
    {
     "data": {
      "text/plain": [
       "[0, 0, 0, 3, 0, 0, 6, 0, 0, 9, 0, 0, 12, 0, 0, 15, 0, 0, 18, 0]"
      ]
     },
     "execution_count": 24,
     "metadata": {},
     "output_type": "execute_result"
    }
   ],
   "source": [
    "# Parmis les entiers de 0 à 19, on garde les nombres qui sont multiples de 3 sinon on affecte 0 \n",
    "multiples_3_impairs = [i if i%3 == 0 else 0 for i in range(20) ]\n",
    "multiples_3_impairs"
   ]
  },
  {
   "cell_type": "markdown",
   "metadata": {},
   "source": [
    "<span class=\"enonce\">A l'aide d'une liste en compréhension, créer une liste_signes qui contient  :</span>\n",
    "- un caractère \"+\" si le nombre de même indice de la liste_nombre contient un nombre strictement positif\n",
    "- un caractère \"-\" si le nombre de même indice de la liste_nombre contient un nombre négatif"
   ]
  },
  {
   "cell_type": "code",
   "execution_count": null,
   "metadata": {},
   "outputs": [],
   "source": [
    "liste_nombre=[1,-1,0,2,12,-35,7]\n",
    "liste_signes = \n",
    "# on doit obtenir liste_signes = [\"+\",\"-\",\"-\",\"+\",\"+\",\"-\",\"+\"]"
   ]
  },
  {
   "cell_type": "markdown",
   "metadata": {
    "slideshow": {
     "slide_type": "slide"
    }
   },
   "source": [
    "# Concaténation de listes"
   ]
  },
  {
   "cell_type": "markdown",
   "metadata": {
    "slideshow": {
     "slide_type": "slide"
    }
   },
   "source": [
    "## Insérer une liste à la fin d'une autre : `liste1.extend(liste2)`"
   ]
  },
  {
   "cell_type": "code",
   "execution_count": null,
   "metadata": {
    "slideshow": {
     "slide_type": "subslide"
    }
   },
   "outputs": [],
   "source": [
    "# Voici 2 listes :\n",
    "ma_liste = [i for i in range(10)]\n",
    "mes_notes = [15, 8, 16, 10]\n",
    "\n",
    "# On insère 'mes_notes' à la fin de 'ma_liste' :\n",
    "ma_liste.extend(mes_notes)\n",
    "print(ma_liste)"
   ]
  },
  {
   "cell_type": "markdown",
   "metadata": {},
   "source": [
    "## Ajouter une liste à l'intérieur d'une liste `append`\n",
    "Noter la différence avec `append` qui **ajoute une liste à l'intérieur d'une liste** :"
   ]
  },
  {
   "cell_type": "code",
   "execution_count": null,
   "metadata": {},
   "outputs": [],
   "source": [
    "ma_liste = [i for i in range(4)]\n",
    "ma_liste.append([4, 5])\n",
    "print(ma_liste)"
   ]
  },
  {
   "cell_type": "markdown",
   "metadata": {},
   "source": [
    "## Utiliser le découpage en tranches"
   ]
  },
  {
   "cell_type": "code",
   "execution_count": 28,
   "metadata": {},
   "outputs": [
    {
     "name": "stdout",
     "output_type": "stream",
     "text": [
      "[0, 2, 4, 6, 8]\n"
     ]
    }
   ],
   "source": [
    "liste = [i for i in range (10)]   # liste = [0, 1, 2, 3, 4, 5, 6, 7, 8, 9]\n",
    "print( liste[::2] )"
   ]
  },
  {
   "cell_type": "code",
   "execution_count": 29,
   "metadata": {},
   "outputs": [
    {
     "name": "stdout",
     "output_type": "stream",
     "text": [
      "[9, 8, 7, 6, 5, 4, 3, 2, 1, 0]\n"
     ]
    }
   ],
   "source": [
    "liste = [i for i in range (10)]  # liste = [0, 1, 2, 3, 4, 5, 6, 7, 8, 9]\n",
    "print( liste[::-1])"
   ]
  },
  {
   "cell_type": "code",
   "execution_count": 30,
   "metadata": {},
   "outputs": [
    {
     "name": "stdout",
     "output_type": "stream",
     "text": [
      "[0, 1, 2, 3, 4, 5, 6, 7, 8]\n"
     ]
    }
   ],
   "source": [
    "liste = [i for i in range (10)]   # liste = [0, 1, 2, 3, 4, 5, 6, 7, 8, 9]\n",
    "print( liste[:-1:1] )"
   ]
  },
  {
   "cell_type": "markdown",
   "metadata": {},
   "source": [
    "<span class=\"enonce\">A l'aide d'un découpage en tranche, obtenir la liste des nombres impairs entre 0 et10</span>"
   ]
  },
  {
   "cell_type": "code",
   "execution_count": 31,
   "metadata": {},
   "outputs": [],
   "source": [
    "liste = [i for i in range (10)]   # liste = [0, 1, 2, 3, 4, 5, 6, 7, 8, 9]\n"
   ]
  },
  {
   "cell_type": "markdown",
   "metadata": {},
   "source": [
    "<span class=\"enonce\">A l'aide d'un découpage en tranche, obtenir la liste dans l'ordre décroissant des multiples de 5 supérieurs à 17</span>"
   ]
  },
  {
   "cell_type": "code",
   "execution_count": 36,
   "metadata": {},
   "outputs": [],
   "source": [
    "liste = [i for i in range (101)]\n"
   ]
  }
 ],
 "metadata": {
  "celltoolbar": "Format de la Cellule Texte Brut",
  "kernelspec": {
   "display_name": "Python 3 (ipykernel)",
   "language": "python",
   "name": "python3"
  },
  "language_info": {
   "codemirror_mode": {
    "name": "ipython",
    "version": 3
   },
   "file_extension": ".py",
   "mimetype": "text/x-python",
   "name": "python",
   "nbconvert_exporter": "python",
   "pygments_lexer": "ipython3",
   "version": "3.9.1"
  }
 },
 "nbformat": 4,
 "nbformat_minor": 4
}

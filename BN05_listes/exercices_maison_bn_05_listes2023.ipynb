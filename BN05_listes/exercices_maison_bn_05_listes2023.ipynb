{
 "cells": [
  {
   "cell_type": "markdown",
   "id": "abd65a7f",
   "metadata": {},
   "source": [
    "##### Listes\n",
    "\n",
    "## Exercice 1\n",
    "Exécuter chacune des consignes suivantes sans utiliser deux fois la même instruction.\n",
    "1. Créer la liste [7, 8, 12, 25]\n",
    "2. Ajouter la valeur 30 en fin de liste.\n",
    "3. Modifier la valeur 8 en 10.\n",
    "4. Ajouter la valeur 40 en début de liste.\n",
    "5. Supprimer le dernier élément de la liste.\n",
    "6. Supprimer l’élément d’indice 1 de la liste.\n",
    "7. Afficher le 3ème élément de la liste.\n",
    "7. Afficher la liste. Vous devez obtenir [40, 10, 12, 25]."
   ]
  },
  {
   "cell_type": "code",
   "execution_count": null,
   "id": "e016d2bd",
   "metadata": {},
   "outputs": [],
   "source": [
    "# 1. Créer la liste [7, 8, 12, 25]\n",
    "ma_liste = [7, 8, 12, 25]\n",
    "\n",
    "# 2. Ajouter la valeur 30 en fin de liste.\n",
    "ma_liste.append(30)\n",
    "\n",
    "# 3. Modifier la valeur 8 en 10.\n",
    "ma_liste[1] = 10\n",
    "\n",
    "# 4. Ajouter la valeur 40 en début de liste.\n",
    "ma_liste.insert(0, 40)\n",
    "\n",
    "# 5. Supprimer le dernier élément de la liste.\n",
    "ma_liste.pop()\n",
    "\n",
    "# 6. Supprimer l’élément d’indice 1 de la liste.\n",
    "del ma_liste[1]\n",
    "\n",
    "# 7. Afficher le 3ème élément de la liste.\n",
    "print(ma_liste[2])\n",
    "\n",
    "# 8. Afficher la liste. Vous devez obtenir [40, 10, 12, 25].\n",
    "print(ma_liste)"
   ]
  },
  {
   "cell_type": "markdown",
   "id": "26c7c53a",
   "metadata": {},
   "source": [
    "## Exercice 2\n",
    "1. Créer la liste [7, 8, 12].\n",
    "2. Afficher tous les éléments à l’aide d’une boucle itérant sur les indices.\n",
    "3. Afficher tous les éléments à l’aide d’une boucle itérant directement sur les valeurs."
   ]
  },
  {
   "cell_type": "code",
   "execution_count": null,
   "id": "cf73f90b",
   "metadata": {},
   "outputs": [],
   "source": [
    "# 1. Créer la liste [7, 8, 12]\n",
    "ma_liste = [7, 8, 12]\n",
    "\n",
    "# 2. Afficher tous les éléments à l’aide d’une boucle itérant sur les indices.\n",
    "for i in range(len(ma_liste)):\n",
    "    print(ma_liste[i])\n",
    "\n",
    "# 3. Afficher tous les éléments à l’aide d’une boucle itérant directement sur les valeurs.\n",
    "for element in ma_liste:\n",
    "    print(element)"
   ]
  },
  {
   "cell_type": "code",
   "execution_count": null,
   "id": "825b15a8",
   "metadata": {},
   "outputs": [],
   "source": []
  },
  {
   "cell_type": "markdown",
   "id": "20cc8a5e",
   "metadata": {},
   "source": [
    "## Exercice 3  \n",
    "1. Compléter le tableau d'évolution des variables pour la fonction ci-dessous avec :\n",
    "liste = [3,5, - 1, 10]\n",
    "| x | y |m | \n",
    "|---|-------|--------------|\n",
    "| _ |   _   |   []          |\n",
    "| _ |   0   |   _          |\n",
    "| 3 |   _   |   _          |\n",
    "| _ |   3   |   [3]          |\n",
    "| 5 |   _   |   _          |\n",
    "| _ |   8   |   _          |\n",
    "| _ |   _   |   [3,8]          |\n",
    "| -1 |   _   |   _          |\n",
    "| _ |   7   |   [3,8,7]          |\n",
    "| 10 |  _   |   _          |\n",
    "| _ |   17  |   _         |\n",
    "| _ |   _   |   [3,8,7,17]          |\n",
    "\n",
    "2. Que fait la fonction mystere ?"
   ]
  },
  {
   "cell_type": "code",
   "execution_count": 1,
   "id": "f5ecee7e",
   "metadata": {},
   "outputs": [],
   "source": [
    "def mystere(liste) :\n",
    "    m = []\n",
    "    y = 0\n",
    "    for x in liste :\n",
    "        y = y + x\n",
    "        m.append(y)\n",
    "    return m"
   ]
  },
  {
   "cell_type": "markdown",
   "id": "be925f7f",
   "metadata": {},
   "source": [
    "## QCM 1\n",
    "a/ **QCM :** Que contient la liste `liste = [i % 2 for i in range(4,10)]` ?  D     \n",
    " &nbsp; &nbsp;  &nbsp; &nbsp; *A/ `[2, 4, 6, 8, 10]`  &nbsp; &nbsp; B/ `[2, 4, 6, 8]` &nbsp; &nbsp; C/ `[0, 1, 0, 1, 0]` &nbsp; &nbsp; D/ `[0, 1, 0, 1, 0, 1]`*  \n",
    "b/ **Auto-correction :** lancer l'évaluation console."
   ]
  },
  {
   "cell_type": "code",
   "execution_count": null,
   "id": "5b759c72",
   "metadata": {},
   "outputs": [],
   "source": [
    "liste = [i % 2 for i in range(4,10)]\n",
    "liste"
   ]
  },
  {
   "cell_type": "markdown",
   "id": "2765fbac",
   "metadata": {},
   "source": [
    "## QCM 2\n",
    "a/ **QCM :** Que contient la liste `liste = [i // 2 for i in range(2,18,3)]` ?  C    \n",
    " &nbsp; &nbsp;  &nbsp; &nbsp; *A/ `[1, 2, 3, 4, 5, 6, 7, 8]`  &nbsp; &nbsp; B/ `[1, 3, 4, 6, 7]` &nbsp; &nbsp; C/ `[1, 2, 4, 5, 7, 8]` &nbsp; &nbsp; D/ `[1, 3, 5, 7]`*  \n",
    "b/ **Auto-correction :** lancer l'évaluation console."
   ]
  },
  {
   "cell_type": "code",
   "execution_count": null,
   "id": "49e80316",
   "metadata": {},
   "outputs": [],
   "source": [
    "[i // 2 for i in range(2,18,3)]"
   ]
  },
  {
   "cell_type": "markdown",
   "id": "a9399891",
   "metadata": {},
   "source": [
    "## QCM 3\n",
    "a/ **QCM :** Dans le programme ci-dessous, que contient la liste `liste` ?   C    \n",
    " &nbsp; &nbsp;  &nbsp; &nbsp; *A/ `[0, 1, 4, 9, 16, 25, 36, 49, 64, 81]`  &nbsp; &nbsp; B/ `[0, 1, 4, 9, 16, 25, 36, 49, 64, 81, 100]`  \n",
    "&nbsp; &nbsp; &nbsp; &nbsp; C/ `[0, 4, 16, 36, 64]` &nbsp; &nbsp; D/ `[4, 16, 36, 64, 100]`*  \n",
    "b/ **Auto-correction :** lancer le programme."
   ]
  },
  {
   "cell_type": "markdown",
   "id": "b345efb3",
   "metadata": {},
   "source": [
    "## Vrai/Faux :\n",
    "Parmi les scripts suivants, quels sont ceux qui construisent la listes des 5 premiers entiers impairs ?  C   \n",
    "Plusieurs réponses sont possibles :"
   ]
  },
  {
   "cell_type": "code",
   "execution_count": null,
   "id": "125ce7a2",
   "metadata": {},
   "outputs": [],
   "source": [
    "liste = [i*i for i in range(10) if i%2 == 0]\n",
    "print(liste)"
   ]
  },
  {
   "cell_type": "code",
   "execution_count": 2,
   "id": "017bad3d",
   "metadata": {},
   "outputs": [],
   "source": [
    "impairs = []\n",
    "for n in range(5):\n",
    "    impairs.append(2 * n + 1)"
   ]
  },
  {
   "cell_type": "code",
   "execution_count": 3,
   "id": "f8005c40",
   "metadata": {},
   "outputs": [
    {
     "name": "stdout",
     "output_type": "stream",
     "text": [
      "[1, 3, 5, 7]\n"
     ]
    }
   ],
   "source": [
    "impairs = [2 * n + 1 for n in range(4)]\n",
    "print(impairs)"
   ]
  },
  {
   "cell_type": "code",
   "execution_count": 4,
   "id": "bbbf74fd",
   "metadata": {},
   "outputs": [
    {
     "name": "stdout",
     "output_type": "stream",
     "text": [
      "[1, 3, 5, 7, 9]\n"
     ]
    }
   ],
   "source": [
    "impairs = [n for n in range(1,10,2)]\n",
    "print(impairs)"
   ]
  },
  {
   "cell_type": "code",
   "execution_count": null,
   "id": "cb0e8a20",
   "metadata": {},
   "outputs": [],
   "source": [
    "impairs = []\n",
    "n = 0\n",
    "while len(impairs) != 5:\n",
    "    if n % 2 == 1: \n",
    "        impairs.append(n)\n",
    "    n = n + 2\n",
    "print(impairs)"
   ]
  },
  {
   "cell_type": "markdown",
   "id": "22a3b5ba",
   "metadata": {},
   "source": [
    "## Exercice 4\n",
    "A l'aide d'une liste en compréhension, créer la fonction *table_multiplication* qui renvoie la liste des 11 premiers multiples d'un entier n.\n",
    "\n",
    "Facultatif : Améliorer cette fonction pour qu'elle affiche comme ceci la table de mutliplication de 3  \n",
    "Table de multiplication de  3  \n",
    "['3x0=0', '3x1=3', '3x2=6', '3x3=9', '3x4=12', '3x5=15', '3x6=18', '3x7=21', '3x8=24', '3x9=27', '3x10=30']\n"
   ]
  },
  {
   "cell_type": "code",
   "execution_count": null,
   "id": "3f3e4eb8",
   "metadata": {},
   "outputs": [],
   "source": []
  },
  {
   "cell_type": "markdown",
   "id": "18fbc3fa",
   "metadata": {},
   "source": [
    "## Exercice 5\n",
    "Écrire une fonction `sous_liste_paire` qui renvoie la liste des nombres pairs issus d'une liste initiale.\n"
   ]
  },
  {
   "cell_type": "code",
   "execution_count": null,
   "id": "d5a34b82",
   "metadata": {},
   "outputs": [],
   "source": [
    "def liste_paire(ma_liste):\n",
    "    \"\"\"\n",
    "    renvoie la liste des nombres pairs issus de ma_liste\n",
    "    PARAM \n",
    "    ------\n",
    "    ma_liste(list) : liste d'entiers  (int)\n",
    "    RETURN\n",
    "    ------\n",
    "    (list) : liste d'entiers pairs\n",
    "\n",
    "    EXEMPLES\n",
    "    --------\n",
    "    >>> liste_paire([5, 8, 1, 7, 9, 4, 4, 5, -8, 10])\n",
    "    [8, 4, 4, -8, 10]\n",
    "    \n",
    "    >>> liste_paire([5, -11, 1, 7, 9, 5, -13])\n",
    "    []\n",
    "    \"\"\"\n",
    "    "
   ]
  },
  {
   "cell_type": "code",
   "execution_count": null,
   "id": "d10009ea",
   "metadata": {},
   "outputs": [],
   "source": [
    "liste_paire([5, 8, 1, 7, 9, 4, 4, 5, -8, 10])"
   ]
  },
  {
   "cell_type": "code",
   "execution_count": null,
   "id": "5fe66447",
   "metadata": {},
   "outputs": [],
   "source": [
    "liste_paire([5, -11, 1, 7, 9, 5, -13])"
   ]
  },
  {
   "cell_type": "markdown",
   "id": "aa784b8c",
   "metadata": {},
   "source": [
    "## Exercice 6\n",
    "1.  \n",
    "    1. Écrire en python une fonction `compte_positifs` prenant en argument une liste de nombres et renvoyant le nombre de valeurs positives ou nulles de cette liste.\n",
    "    2. Ecrire la documentation de cette fonction."
   ]
  },
  {
   "cell_type": "code",
   "execution_count": null,
   "id": "58b4d379",
   "metadata": {},
   "outputs": [],
   "source": [
    "def compte_positifs (ma_liste) :\n",
    "    compteur = 0\n",
    "    ...\n",
    "    return compteur"
   ]
  },
  {
   "cell_type": "code",
   "execution_count": null,
   "id": "dd98fe61",
   "metadata": {},
   "outputs": [],
   "source": [
    "compte_positifs([40, -7, 8, -10, 12, 0, -25.3, 30])"
   ]
  },
  {
   "cell_type": "markdown",
   "id": "9c318fa0",
   "metadata": {},
   "source": [
    "2. Écrire en python une fonction `nb_positifs` prenant en argument une liste de nombres et renvoyant une nouvelle liste formée des valeurs positives ou nulles de cette liste."
   ]
  },
  {
   "cell_type": "code",
   "execution_count": null,
   "id": "e301fc09",
   "metadata": {},
   "outputs": [],
   "source": [
    "def nb_positifs (ma_liste) :\n",
    "    ...\n",
    "    return liste_positive    "
   ]
  },
  {
   "cell_type": "code",
   "execution_count": null,
   "id": "19a7642f",
   "metadata": {},
   "outputs": [],
   "source": [
    "nb_positifs([40, -7, 8, -10, 12, 0, -25.3, 30])"
   ]
  },
  {
   "cell_type": "markdown",
   "id": "977047aa",
   "metadata": {},
   "source": [
    "## Exercice 7\n",
    "Dans la fonction suivante :\n",
    "1. Quel rôle joue la variable `somme` ? \n",
    "\n",
    "2. Parcourt-on la liste par indice ou par valeurs ?\n",
    "\n",
    "3. Que fait la fonction pour une liste de nombres flottants ?\n",
    "\n",
    "4. Modifier seulement une ligne pour que cette fonction calcule la moyenne des nombres de la variable `liste`.\n"
   ]
  },
  {
   "cell_type": "code",
   "execution_count": null,
   "id": "0ad97298",
   "metadata": {},
   "outputs": [],
   "source": [
    "def ma_fonction(liste) :\n",
    "    somme = 0\n",
    "    for element in liste :\n",
    "        somme = somme + element\n",
    "    return somme"
   ]
  },
  {
   "cell_type": "markdown",
   "id": "357f74ea",
   "metadata": {},
   "source": [
    "## Exercice 8 : occurence du minimum\n",
    "Créer une fonction `mini_indice` qui renvoie le minimum d'une liste d'entiers et les indices auquel il apparait."
   ]
  },
  {
   "cell_type": "code",
   "execution_count": null,
   "id": "3354fcfe",
   "metadata": {},
   "outputs": [],
   "source": [
    "# votre fonction ici"
   ]
  },
  {
   "cell_type": "code",
   "execution_count": null,
   "id": "ce66e645",
   "metadata": {},
   "outputs": [],
   "source": [
    "from random import randint\n",
    "#test 1\n",
    "ma_listeA = [randint(-100,100) for i in range(10)]\n",
    "print(ma_listeA)\n",
    "mini_indice(ma_listeA)"
   ]
  },
  {
   "cell_type": "code",
   "execution_count": null,
   "id": "b4d80ad0",
   "metadata": {},
   "outputs": [],
   "source": [
    "#test 2\n",
    "ma_listeB = [-6, 1, -6, 2, 4, 3, -6]"
   ]
  },
  {
   "cell_type": "code",
   "execution_count": null,
   "id": "438ad2f4",
   "metadata": {},
   "outputs": [],
   "source": [
    "assert liste_decroissante([9,6, 2, 1])\n",
    "assert not liste_decroissante([9, 6, 1, 2])"
   ]
  },
  {
   "cell_type": "markdown",
   "id": "7f40003a",
   "metadata": {},
   "source": [
    "## QCM 4\n",
    "a/ **QCM :** Soit la liste `groupes = [['a', 'b'], ['c', 'd'], ['e', 'f', 'g']]` .  \n",
    "**Comment accéder à `'b'` ?**  \n",
    " &nbsp; &nbsp;  &nbsp; &nbsp; *A/ `groupes[1][1]`  &nbsp; &nbsp; B/ `groupes[0][1]` &nbsp; &nbsp; C/ `groupes[1]` &nbsp; &nbsp; D/ `groupes[2]`*  \n",
    "b/ **Auto-correction :** Ajouter un print et lancer le programme."
   ]
  },
  {
   "cell_type": "code",
   "execution_count": null,
   "id": "d6fa01e1",
   "metadata": {},
   "outputs": [],
   "source": [
    "groupes = [['a', 'b'], ['c', 'd'], ['e', 'f', 'g']]\n",
    "# ajouter un print"
   ]
  },
  {
   "cell_type": "markdown",
   "id": "e38bbe9d",
   "metadata": {},
   "source": [
    "## QCM 5\n",
    "a/ **QCM :** Soit la liste `carré = [[1, 2, 3], [4, 5, 6], [7, 8, 9]]` .  \n",
    "**Que renvoie `carré[1]` ?**  \n",
    " &nbsp; &nbsp;  &nbsp; &nbsp; *A/ `1`  &nbsp; &nbsp; B/ `2` &nbsp; &nbsp; C/ `[7, 8, 9]` &nbsp; &nbsp; D/ `[1, 2, 3]` &nbsp; &nbsp; E/ aucune de ces propositions*  \n",
    "b/ **Auto-correction :** Ajouter un print et lancer le programme.²"
   ]
  },
  {
   "cell_type": "code",
   "execution_count": null,
   "id": "5c0ddce9",
   "metadata": {},
   "outputs": [],
   "source": [
    "carré = [[1, 2, 3], [4, 5, 6], [7, 8, 9]]\n",
    "print(carré[1])"
   ]
  },
  {
   "cell_type": "markdown",
   "id": "ffa2b486",
   "metadata": {},
   "source": [
    "## QCM 6\n",
    "a/ **QCM :** Qu'affiche le code ci-dessous ?  \n",
    "\n",
    "| réponse A       | réponse B       | réponse C     | réponse D       |\n",
    "|-----------------|-----------------|---------------|----------------|\n",
    "| 1 3 0 7<br>5 7 0 2<br>1 8 0 1 | 1 8 0 1<br>5 7 0 2<br>1 3 0 7 | 1 5 1<br>3 7 8 <br>0 0 0<br>7 2 1 | 1 5 1<br>8 7 3<br>0 0 0 <br>1 2 7 |\n",
    "\n",
    "\n",
    "b/ **Auto-correction :** lancer le programme."
   ]
  },
  {
   "cell_type": "code",
   "execution_count": null,
   "id": "301da4a6",
   "metadata": {},
   "outputs": [],
   "source": [
    "t = [[1, 3, 0, 7], [5, 7, 0, 2], [1, 8, 0, 1 ]]\n",
    "for i in range(len(t)):\n",
    "    for j in range(len(t[i])):\n",
    "        print(t[i][j], end=' ')\n",
    "    print() # pour passer une ligne"
   ]
  },
  {
   "cell_type": "markdown",
   "id": "5f6868f5",
   "metadata": {},
   "source": [
    "## QCM 7\n",
    "a/ **QCM :** Que contient la liste `[[i, j] for j in range(3) for i in range(2)]` ?\n",
    "\n",
    " &nbsp; &nbsp;  &nbsp; &nbsp; *A/ `[[0, 0], [1, 0], [0, 1], [1, 1], [0, 2], [1, 2]]`  \n",
    "  &nbsp; &nbsp;  &nbsp; &nbsp; B/ `[[0, 0], [0, 1], [1, 0], [1, 1], [2, 0], [2, 1]]`  \n",
    "&nbsp; &nbsp; &nbsp; &nbsp; C/ `[[0, 0], [0, 1], [0, 2], [1, 0], [1, 1], [1, 2]]`  \n",
    " &nbsp; &nbsp;  &nbsp; &nbsp; D/ `[[0, 0], [1, 0], [2, 0], [0, 1], [1, 1], [2, 1]]`*  \n",
    "b/ **Auto-correction :** lancer l'évaluation console."
   ]
  },
  {
   "cell_type": "code",
   "execution_count": null,
   "id": "d3b789ff",
   "metadata": {},
   "outputs": [],
   "source": [
    "[[i, j] for j in range(3) for i in range(2)]"
   ]
  },
  {
   "cell_type": "code",
   "execution_count": null,
   "id": "25b8e262",
   "metadata": {},
   "outputs": [],
   "source": []
  },
  {
   "cell_type": "code",
   "execution_count": null,
   "id": "f25e7320",
   "metadata": {},
   "outputs": [],
   "source": []
  },
  {
   "cell_type": "markdown",
   "id": "03be1317",
   "metadata": {},
   "source": [
    "## Exercice 9\n",
    "On donne la liste de listes :\n",
    "tableau = [[3, 2, 5], [7, -1, 1]]\n",
    "\n",
    "1. Ecrire ce tableau sous forme d'un tableau en lignes et colonnes ( soit un tableau à deux dimensions)\n",
    "Par exemple\n",
    "| colonne 0| colonne 1 | colonne 2| colonne 3 |\n",
    "|---|---|---|---|\n",
    "| ... | ... | ... | ... | \n",
    "| ... | ... | ... | ... | \n",
    "| ... | ... | ... | ... | \n",
    "| ... | ... | ... | ... | \n",
    "\n",
    "2. Comment accéder à la valeur 7?\n",
    "3. Comment afficher la premiere liste [3, 2, 5] ?"
   ]
  },
  {
   "cell_type": "code",
   "execution_count": null,
   "id": "5e0edecd",
   "metadata": {},
   "outputs": [],
   "source": []
  },
  {
   "cell_type": "markdown",
   "id": "eaa3b98c",
   "metadata": {},
   "source": [
    "4. Compléter le code ci-dessous permettant de créer une liste reprenant les valeurs de la première colonne "
   ]
  },
  {
   "cell_type": "code",
   "execution_count": null,
   "id": "c6c0f610",
   "metadata": {},
   "outputs": [],
   "source": [
    "tableau = [[3, 2, 5], [7, -1, 1]]\n",
    "colonne = []\n",
    "for i in range(.................) :\n",
    "    colonne.append( tableau[i][.....])"
   ]
  },
  {
   "cell_type": "markdown",
   "id": "be755779",
   "metadata": {},
   "source": [
    "5. Écrire en python la fonction *n_ieme_colonne* qui prend en argument une liste des listes et un entier n et renvoie la n-ième colonne de la liste."
   ]
  },
  {
   "cell_type": "code",
   "execution_count": null,
   "id": "9fe0bc2c",
   "metadata": {},
   "outputs": [],
   "source": [
    "def n_ieme_colonne(tableau,n) : \n",
    "    colonne = []\n",
    "    ...\n",
    "    returncolonne"
   ]
  },
  {
   "cell_type": "code",
   "execution_count": null,
   "id": "86719ee1",
   "metadata": {},
   "outputs": [],
   "source": [
    "n_ieme_colonne([[3, 2, 5], [7, -1, 1]],1)"
   ]
  },
  {
   "cell_type": "markdown",
   "id": "dddd116c",
   "metadata": {},
   "source": [
    "## Exercice 10\n",
    "Les notes sur 20 d'un élève en mathématiques associées au coefficient de chaque devoir sont données dans une liste.   Par exemple,  \n",
    "notes = [[15,1],[13,2],[16, 0.5]]  \n",
    "signifie qu'il a un 15/20 au premier devoir coefficienté 1, il a eu 13/20 au 2ème devoir coefficienté 2 et 16/20 au 3ème devoir coefficienté 0.5.\n",
    "\n",
    "\n",
    "1. Créer une fonction qui calcule la moyenne des notes en mathématiques quand on donne une telle liste pour un élève de la classe."
   ]
  },
  {
   "cell_type": "code",
   "execution_count": null,
   "id": "8aea5fa7",
   "metadata": {},
   "outputs": [],
   "source": [
    "def moyenne(liste) :\n",
    "    somme_notes = 0\n",
    "    somme_coefficients = 0\n",
    "    ...\n",
    "    moyenne_ponderee = somme_notes/somme_coefficients\n",
    "    return moyenne_ponderee"
   ]
  },
  {
   "cell_type": "code",
   "execution_count": null,
   "id": "9f8dbe67",
   "metadata": {},
   "outputs": [],
   "source": [
    "moyenne( [[15,1],[13,2],[16, 0.5]])"
   ]
  },
  {
   "cell_type": "markdown",
   "id": "f17d6941",
   "metadata": {},
   "source": [
    "2. Créer un test de post-condition qui vérifie que la moyenne pondérée est bien un nombre entre 0 et 20."
   ]
  }
 ],
 "metadata": {
  "kernelspec": {
   "display_name": "Python 3 (ipykernel)",
   "language": "python",
   "name": "python3"
  },
  "language_info": {
   "codemirror_mode": {
    "name": "ipython",
    "version": 3
   },
   "file_extension": ".py",
   "mimetype": "text/x-python",
   "name": "python",
   "nbconvert_exporter": "python",
   "pygments_lexer": "ipython3",
   "version": "3.11.0"
  }
 },
 "nbformat": 4,
 "nbformat_minor": 5
}

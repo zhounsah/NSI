{
 "cells": [
  {
   "cell_type": "markdown",
   "id": "abd65a7f",
   "metadata": {},
   "source": [
    "##### Listes\n",
    "\n",
    "## Exercice 1\n",
    "Exécuter chacune des consignes suivantes sans utiliser deux fois la même instruction.\n",
    "1. Créer la liste [7, 8, 12, 25]\n",
    "2. Ajouter la valeur 30 en fin de liste.\n",
    "3. Modifier la valeur 8 en 10.\n",
    "4. Ajouter la valeur 40 en début de liste.\n",
    "5. Supprimer le dernier élément de la liste.\n",
    "6. Supprimer l’élément d’indice 1 de la liste.\n",
    "7. Afficher le 3ème élément de la liste.\n",
    "7. Afficher la liste. Vous devez obtenir [40, 10, 12, 25]."
   ]
  },
  {
   "cell_type": "code",
   "execution_count": 1,
   "id": "e016d2bd",
   "metadata": {},
   "outputs": [
    {
     "name": "stdout",
     "output_type": "stream",
     "text": [
      "12\n",
      "[40, 10, 12, 25]\n"
     ]
    }
   ],
   "source": [
    "# 1. Créer la liste [7, 8, 12, 25]\n",
    "ma_liste = [7, 8, 12, 25]\n",
    "\n",
    "# 2. Ajouter la valeur 30 en fin de liste.\n",
    "ma_liste.append(30)\n",
    "\n",
    "# 3. Modifier la valeur 8 en 10.\n",
    "ma_liste[1] = 10\n",
    "\n",
    "# 4. Ajouter la valeur 40 en début de liste.\n",
    "ma_liste.insert(0, 40)\n",
    "\n",
    "# 5. Supprimer le dernier élément de la liste.\n",
    "ma_liste.pop()\n",
    "\n",
    "# 6. Supprimer l’élément d’indice 1 de la liste.\n",
    "del ma_liste[1]\n",
    "\n",
    "# 7. Afficher le 3ème élément de la liste.\n",
    "print(ma_liste[2])\n",
    "\n",
    "# 8. Afficher la liste. Vous devez obtenir [40, 10, 12, 25].\n",
    "print(ma_liste)"
   ]
  },
  {
   "cell_type": "markdown",
   "id": "26c7c53a",
   "metadata": {},
   "source": [
    "## Exercice 2\n",
    "1. Créer la liste [7, 8, 12].\n",
    "2. Afficher tous les éléments à l’aide d’une boucle itérant sur les indices.\n",
    "3. Afficher tous les éléments à l’aide d’une boucle itérant directement sur les valeurs."
   ]
  },
  {
   "cell_type": "code",
   "execution_count": 2,
   "id": "cf73f90b",
   "metadata": {},
   "outputs": [
    {
     "name": "stdout",
     "output_type": "stream",
     "text": [
      "7\n",
      "8\n",
      "12\n",
      "7\n",
      "8\n",
      "12\n"
     ]
    }
   ],
   "source": [
    "# 1. Créer la liste [7, 8, 12]\n",
    "ma_liste = [7, 8, 12]\n",
    "\n",
    "# 2. Afficher tous les éléments à l’aide d’une boucle itérant sur les indices.\n",
    "for i in range(len(ma_liste)):\n",
    "    print(ma_liste[i])\n",
    "\n",
    "# 3. Afficher tous les éléments à l’aide d’une boucle itérant directement sur les valeurs.\n",
    "for element in ma_liste:\n",
    "    print(element)"
   ]
  },
  {
   "cell_type": "code",
   "execution_count": null,
   "id": "825b15a8",
   "metadata": {},
   "outputs": [],
   "source": []
  },
  {
   "cell_type": "markdown",
   "id": "20cc8a5e",
   "metadata": {},
   "source": [
    "## Exercice 3  \n",
    "1. Compléter le tableau d'évolution des variables pour la fonction ci-dessous avec :\n",
    "liste = [3,5, - 1, 10]\n",
    "| x | y |m | \n",
    "|---|-------|--------------|\n",
    "| _ |   _   |   _          |\n",
    "| _ |   _   |   _          |\n",
    "| _ |   _   |   _          |\n",
    "| _ |   _   |   _          |\n",
    "| _ |   _   |   _          |\n",
    "\n",
    "2. Que fait la fonction mystere ?"
   ]
  },
  {
   "cell_type": "code",
   "execution_count": 3,
   "id": "f5ecee7e",
   "metadata": {},
   "outputs": [],
   "source": [
    "def mystere(liste) :\n",
    "    m = []\n",
    "    y = 0\n",
    "    for x in liste :\n",
    "        y = y + x\n",
    "        m.append(y)\n",
    "    return m"
   ]
  },
  {
   "cell_type": "markdown",
   "id": "be925f7f",
   "metadata": {},
   "source": [
    "## QCM 1\n",
    "a/ **QCM :** Que contient la liste `liste = [i % 2 for i in range(4,10)]` ?  B     \n",
    " &nbsp; &nbsp;  &nbsp; &nbsp; *A/ `[2, 4, 6, 8, 10]`  &nbsp; &nbsp; B/ `[2, 4, 6, 8]` &nbsp; &nbsp; C/ `[0, 1, 0, 1, 0]` &nbsp; &nbsp; D/ `[0, 1, 0, 1, 0, 1]`*  \n",
    "b/ **Auto-correction :** lancer l'évaluation console."
   ]
  },
  {
   "cell_type": "code",
   "execution_count": 4,
   "id": "5b759c72",
   "metadata": {},
   "outputs": [
    {
     "data": {
      "text/plain": [
       "[0, 1, 0, 1, 0, 1]"
      ]
     },
     "execution_count": 4,
     "metadata": {},
     "output_type": "execute_result"
    }
   ],
   "source": [
    "liste = [i % 2 for i in range(4,10)]\n",
    "liste"
   ]
  },
  {
   "cell_type": "markdown",
   "id": "2765fbac",
   "metadata": {},
   "source": [
    "## QCM 2\n",
    "a/ **QCM :** Que contient la liste `liste = [i // 2 for i in range(2,18,3)]` ?  C    \n",
    " &nbsp; &nbsp;  &nbsp; &nbsp; *A/ `[1, 2, 3, 4, 5, 6, 7, 8]`  &nbsp; &nbsp; B/ `[1, 3, 4, 6, 7]` &nbsp; &nbsp; C/ `[1, 2, 4, 5, 7, 8]` &nbsp; &nbsp; D/ `[1, 3, 5, 7]`*  \n",
    "b/ **Auto-correction :** lancer l'évaluation console."
   ]
  },
  {
   "cell_type": "code",
   "execution_count": 5,
   "id": "49e80316",
   "metadata": {},
   "outputs": [
    {
     "data": {
      "text/plain": [
       "[1, 2, 4, 5, 7, 8]"
      ]
     },
     "execution_count": 5,
     "metadata": {},
     "output_type": "execute_result"
    }
   ],
   "source": [
    "[i // 2 for i in range(2,18,3)]"
   ]
  },
  {
   "cell_type": "markdown",
   "id": "a9399891",
   "metadata": {},
   "source": [
    "## QCM 3\n",
    "a/ **QCM :** Dans le programme ci-dessous, que contient la liste `liste` ?   C    \n",
    " &nbsp; &nbsp;  &nbsp; &nbsp; *A/ `[0, 1, 4, 9, 16, 25, 36, 49, 64, 81]`  &nbsp; &nbsp; B/ `[0, 1, 4, 9, 16, 25, 36, 49, 64, 81, 100]`  \n",
    "&nbsp; &nbsp; &nbsp; &nbsp; C/ `[0, 4, 16, 36, 64]` &nbsp; &nbsp; D/ `[4, 16, 36, 64, 100]`*  \n",
    "b/ **Auto-correction :** lancer le programme."
   ]
  },
  {
   "cell_type": "code",
   "execution_count": 6,
   "id": "125ce7a2",
   "metadata": {},
   "outputs": [
    {
     "name": "stdout",
     "output_type": "stream",
     "text": [
      "[0, 4, 16, 36, 64]\n"
     ]
    }
   ],
   "source": [
    "liste = [i*i for i in range(10) if i%2 == 0]\n",
    "print(liste)"
   ]
  },
  {
   "cell_type": "markdown",
   "id": "b345efb3",
   "metadata": {},
   "source": [
    "## Vrai/Faux :\n",
    "Parmi les scripts suivants, quels sont ceux qui construisent la listes des 5 premiers entiers impairs ?  B, C   \n",
    "Plusieurs réponses sont possibles :"
   ]
  },
  {
   "cell_type": "code",
   "execution_count": 7,
   "id": "017bad3d",
   "metadata": {},
   "outputs": [],
   "source": [
    "impairs = []\n",
    "for n in range(5):\n",
    "    impairs.append(2 * n + 1)"
   ]
  },
  {
   "cell_type": "code",
   "execution_count": 8,
   "id": "f8005c40",
   "metadata": {},
   "outputs": [
    {
     "name": "stdout",
     "output_type": "stream",
     "text": [
      "[1, 3, 5, 7]\n"
     ]
    }
   ],
   "source": [
    "impairs = [2 * n + 1 for n in range(4)]\n",
    "print(impairs)"
   ]
  },
  {
   "cell_type": "code",
   "execution_count": 9,
   "id": "bbbf74fd",
   "metadata": {},
   "outputs": [
    {
     "name": "stdout",
     "output_type": "stream",
     "text": [
      "[1, 3, 5, 7, 9]\n"
     ]
    }
   ],
   "source": [
    "impairs = [n for n in range(1,10,2)]\n",
    "print(impairs)"
   ]
  },
  {
   "cell_type": "code",
   "execution_count": null,
   "id": "cb0e8a20",
   "metadata": {},
   "outputs": [],
   "source": [
    "impairs = []\n",
    "n = 0\n",
    "while len(impairs) != 5:\n",
    "    if n % 2 == 1: \n",
    "        impairs.append(n)\n",
    "    n = n + 2\n",
    "print(impairs)"
   ]
  },
  {
   "cell_type": "markdown",
   "id": "22a3b5ba",
   "metadata": {},
   "source": [
    "## Exercice 4\n",
    "A l'aide d'une liste en compréhension, créer la fonction *table_multiplication* qui renvoie la liste des 11 premiers multiples d'un entier n.\n",
    "\n",
    "Facultatif : Améliorer cette fonction pour qu'elle affiche comme ceci la table de mutliplication de 3  \n",
    "Table de multiplication de  3  \n",
    "['3x0=0', '3x1=3', '3x2=6', '3x3=9', '3x4=12', '3x5=15', '3x6=18', '3x7=21', '3x8=24', '3x9=27', '3x10=30']\n"
   ]
  },
  {
   "cell_type": "code",
   "execution_count": 1,
   "id": "3f3e4eb8",
   "metadata": {},
   "outputs": [
    {
     "name": "stdout",
     "output_type": "stream",
     "text": [
      "Table de multiplication de 3\n",
      "['3x0=0', '3x1=3', '3x2=6', '3x3=9', '3x4=12', '3x5=15', '3x6=18', '3x7=21', '3x8=24', '3x9=27', '3x10=30']\n"
     ]
    }
   ],
   "source": [
    "def table_multiplication(n):\n",
    "    multiplication_table = [f'{n}x{i}={n*i}' for i in range(11)]\n",
    "    print(f\"Table de multiplication de {n}\")\n",
    "    return multiplication_table\n",
    "\n",
    "# Exemple pour la table de multiplication de 3\n",
    "result = table_multiplication(3)\n",
    "print(result)"
   ]
  },
  {
   "cell_type": "markdown",
   "id": "18fbc3fa",
   "metadata": {},
   "source": [
    "## Exercice 5\n",
    "Écrire une fonction `sous_liste_paire` qui renvoie la liste des nombres pairs issus d'une liste initiale.\n"
   ]
  },
  {
   "cell_type": "code",
   "execution_count": 14,
   "id": "d5a34b82",
   "metadata": {},
   "outputs": [
    {
     "name": "stdout",
     "output_type": "stream",
     "text": [
      "[8, 4, 4, -8, 10]\n",
      "[]\n"
     ]
    }
   ],
   "source": [
    "def sous_liste_paire(ma_liste):\n",
    "\n",
    "    return [nombre for nombre in ma_liste if nombre % 2 == 0]\n",
    "\n",
    "# Exemples d'utilisation\n",
    "resultat1 = sous_liste_paire([5, 8, 1, 7, 9, 4, 4, 5, -8, 10])\n",
    "print(resultat1)  # Output: [8, 4, 4, -8, 10]\n",
    "\n",
    "resultat2 = sous_liste_paire([5, -11, 1, 7, 9, 5, -13])\n",
    "print(resultat2)  # Output: []"
   ]
  },
  {
   "cell_type": "code",
   "execution_count": 17,
   "id": "d10009ea",
   "metadata": {},
   "outputs": [
    {
     "data": {
      "text/plain": [
       "[8, 4, 4, -8, 10]"
      ]
     },
     "execution_count": 17,
     "metadata": {},
     "output_type": "execute_result"
    }
   ],
   "source": [
    "sous_liste_paire([5, 8, 1, 7, 9, 4, 4, 5, -8, 10])"
   ]
  },
  {
   "cell_type": "code",
   "execution_count": 18,
   "id": "5fe66447",
   "metadata": {},
   "outputs": [
    {
     "data": {
      "text/plain": [
       "[]"
      ]
     },
     "execution_count": 18,
     "metadata": {},
     "output_type": "execute_result"
    }
   ],
   "source": [
    "sous_liste_paire([5, -11, 1, 7, 9, 5, -13])"
   ]
  },
  {
   "cell_type": "markdown",
   "id": "aa784b8c",
   "metadata": {},
   "source": [
    "## Exercice 6\n",
    "1.  \n",
    "    1. Écrire en python une fonction `compte_positifs` prenant en argument une liste de nombres et renvoyant le nombre de valeurs positives ou nulles de cette liste.\n",
    "    2. Ecrire la documentation de cette fonction."
   ]
  },
  {
   "cell_type": "code",
   "execution_count": 19,
   "id": "58b4d379",
   "metadata": {},
   "outputs": [
    {
     "name": "stdout",
     "output_type": "stream",
     "text": [
      "Nombre de valeurs positives ou nulles : 4\n"
     ]
    }
   ],
   "source": [
    "def compte_positifs(ma_liste):\n",
    "    \"\"\"\n",
    "    Compte le nombre de valeurs positives ou nulles dans une liste de nombres.\n",
    "    \n",
    "    Parameters:\n",
    "    ma_liste (list): Liste de nombres.\n",
    "    \n",
    "    Returns:\n",
    "    int: Nombre de valeurs positives ou nulles dans la liste.\n",
    "    \"\"\"\n",
    "    compteur = sum(1 for nombre in ma_liste if nombre >= 0)\n",
    "    return compteur\n",
    "\n",
    "# Exemple d'utilisation\n",
    "ma_liste = [5, -3, 0, 7, -1, 10, -2]\n",
    "resultat = compte_positifs(ma_liste)\n",
    "print(f\"Nombre de valeurs positives ou nulles : {resultat}\")"
   ]
  },
  {
   "cell_type": "code",
   "execution_count": 20,
   "id": "dd98fe61",
   "metadata": {},
   "outputs": [
    {
     "data": {
      "text/plain": [
       "5"
      ]
     },
     "execution_count": 20,
     "metadata": {},
     "output_type": "execute_result"
    }
   ],
   "source": [
    "compte_positifs([40, -7, 8, -10, 12, 0, -25.3, 30])"
   ]
  },
  {
   "cell_type": "markdown",
   "id": "9c318fa0",
   "metadata": {},
   "source": [
    "2. Écrire en python une fonction `nb_positifs` prenant en argument une liste de nombres et renvoyant une nouvelle liste formée des valeurs positives ou nulles de cette liste."
   ]
  },
  {
   "cell_type": "code",
   "execution_count": 23,
   "id": "e301fc09",
   "metadata": {},
   "outputs": [
    {
     "name": "stdout",
     "output_type": "stream",
     "text": [
      "Liste des valeurs positives ou nulles : [5, 0, 7, 10]\n"
     ]
    }
   ],
   "source": [
    "def nb_positifs(ma_liste):\n",
    "    \"\"\"\n",
    "    Renvoie une nouvelle liste formée des valeurs positives ou nulles de la liste initiale.\n",
    "    \n",
    "    Parameters:\n",
    "    ma_liste (list): Liste de nombres.\n",
    "    \n",
    "    Returns:\n",
    "    list: Liste des valeurs positives ou nulles.\n",
    "    \"\"\"\n",
    "    liste_positive = [nombre for nombre in ma_liste if nombre >= 0]\n",
    "    return liste_positive\n",
    "\n",
    "# Exemple d'utilisation\n",
    "ma_liste = [5, -3, 0, 7, -1, 10, -2]\n",
    "resultat = nb_positifs(ma_liste)\n",
    "print(f\"Liste des valeurs positives ou nulles : {resultat}\")"
   ]
  },
  {
   "cell_type": "code",
   "execution_count": 24,
   "id": "19a7642f",
   "metadata": {},
   "outputs": [
    {
     "data": {
      "text/plain": [
       "[40, 8, 12, 0, 30]"
      ]
     },
     "execution_count": 24,
     "metadata": {},
     "output_type": "execute_result"
    }
   ],
   "source": [
    "nb_positifs([40, -7, 8, -10, 12, 0, -25.3, 30])"
   ]
  },
  {
   "cell_type": "markdown",
   "id": "977047aa",
   "metadata": {},
   "source": [
    "## Exercice 7\n",
    "Dans la fonction suivante :\n",
    "1. Quel rôle joue la variable `somme` ? \n",
    "\n",
    "2. Parcourt-on la liste par indice ou par valeurs ?\n",
    "\n",
    "3. Que fait la fonction pour une liste de nombres flottants ?\n",
    "\n",
    "4. Modifier seulement une ligne pour que cette fonction calcule la moyenne des nombres de la variable `liste`.\n",
    "\n",
    "\n",
    "1. La variable `somme` joue le rôle d'accumulateur, elle est utilisée pour calculer la somme des éléments de la liste.\n",
    "\n",
    "2. La liste est parcourue par valeurs, utilisant la syntaxe `for element in liste`.\n",
    "\n",
    "3. La fonction fonctionne correctement avec une liste de nombres flottants, car elle additionne simplement les éléments de la liste.\n",
    "\n",
    "4. Pour que la fonction calcule la moyenne, vous pouvez diviser la somme par la longueur de la liste. Voici la modification :\n",
    "   "
   ]
  },
  {
   "cell_type": "code",
   "execution_count": 28,
   "id": "0ad97298",
   "metadata": {},
   "outputs": [],
   "source": [
    "def ma_fonction(liste) :\n",
    "    somme = 0\n",
    "    for element in liste :\n",
    "        somme = somme + element\n",
    "    return somme"
   ]
  },
  {
   "cell_type": "markdown",
   "id": "357f74ea",
   "metadata": {},
   "source": [
    "## Exercice 8 : occurence du minimum\n",
    "Créer une fonction `mini_indice` qui renvoie le minimum d'une liste d'entiers et les indices auquel il apparait."
   ]
  },
  {
   "cell_type": "code",
   "execution_count": null,
   "id": "3354fcfe",
   "metadata": {},
   "outputs": [],
   "source": [
    "# votre fonction ici"
   ]
  },
  {
   "cell_type": "code",
   "execution_count": 29,
   "id": "ce66e645",
   "metadata": {},
   "outputs": [
    {
     "name": "stdout",
     "output_type": "stream",
     "text": [
      "[12, 42, -8, -13, -68, 14, 11, -23, -5, -7]\n"
     ]
    },
    {
     "ename": "NameError",
     "evalue": "name 'mini_indice' is not defined",
     "output_type": "error",
     "traceback": [
      "\u001b[0;31m---------------------------------------------------------------------------\u001b[0m",
      "\u001b[0;31mNameError\u001b[0m                                 Traceback (most recent call last)",
      "Cell \u001b[0;32mIn [29], line 5\u001b[0m\n\u001b[1;32m      3\u001b[0m ma_listeA \u001b[38;5;241m=\u001b[39m [randint(\u001b[38;5;241m-\u001b[39m\u001b[38;5;241m100\u001b[39m,\u001b[38;5;241m100\u001b[39m) \u001b[38;5;28;01mfor\u001b[39;00m i \u001b[38;5;129;01min\u001b[39;00m \u001b[38;5;28mrange\u001b[39m(\u001b[38;5;241m10\u001b[39m)]\n\u001b[1;32m      4\u001b[0m \u001b[38;5;28mprint\u001b[39m(ma_listeA)\n\u001b[0;32m----> 5\u001b[0m \u001b[43mmini_indice\u001b[49m(ma_listeA)\n",
      "\u001b[0;31mNameError\u001b[0m: name 'mini_indice' is not defined"
     ]
    }
   ],
   "source": [
    "from random import randint\n",
    "#test 1\n",
    "ma_listeA = [randint(-100,100) for i in range(10)]\n",
    "print(ma_listeA)\n",
    "mini_indice(ma_listeA)"
   ]
  },
  {
   "cell_type": "code",
   "execution_count": null,
   "id": "b4d80ad0",
   "metadata": {},
   "outputs": [],
   "source": [
    "#test 2\n",
    "ma_listeB = [-6, 1, -6, 2, 4, 3, -6]"
   ]
  },
  {
   "cell_type": "code",
   "execution_count": null,
   "id": "438ad2f4",
   "metadata": {},
   "outputs": [],
   "source": [
    "assert liste_decroissante([9,6, 2, 1])\n",
    "assert not liste_decroissante([9, 6, 1, 2])"
   ]
  },
  {
   "cell_type": "markdown",
   "id": "7f40003a",
   "metadata": {},
   "source": [
    "## QCM 4\n",
    "a/ **QCM :** Soit la liste `groupes = [['a', 'b'], ['c', 'd'], ['e', 'f', 'g']]` .  \n",
    "**Comment accéder à `'b'` ?**  \n",
    " &nbsp; &nbsp;  &nbsp; &nbsp; *A/ `groupes[1][1]`  &nbsp; &nbsp; B/ `groupes[0][1]` &nbsp; &nbsp; C/ `groupes[1]` &nbsp; &nbsp; D/ `groupes[2]`*  \n",
    "b/ **Auto-correction :** Ajouter un print et lancer le programme."
   ]
  },
  {
   "cell_type": "code",
   "execution_count": null,
   "id": "d6fa01e1",
   "metadata": {},
   "outputs": [],
   "source": [
    "groupes = [['a', 'b'], ['c', 'd'], ['e', 'f', 'g']]\n",
    "# ajouter un print"
   ]
  },
  {
   "cell_type": "markdown",
   "id": "e38bbe9d",
   "metadata": {},
   "source": [
    "## QCM 5\n",
    "a/ **QCM :** Soit la liste `carré = [[1, 2, 3], [4, 5, 6], [7, 8, 9]]` .  \n",
    "**Que renvoie `carré[1]` ?**  \n",
    " &nbsp; &nbsp;  &nbsp; &nbsp; *A/ `1`  &nbsp; &nbsp; B/ `2` &nbsp; &nbsp; C/ `[7, 8, 9]` &nbsp; &nbsp; D/ `[1, 2, 3]` &nbsp; &nbsp; E/ aucune de ces propositions*  \n",
    "b/ **Auto-correction :** Ajouter un print et lancer le programme.²"
   ]
  },
  {
   "cell_type": "code",
   "execution_count": null,
   "id": "5c0ddce9",
   "metadata": {},
   "outputs": [],
   "source": [
    "carré = [[1, 2, 3], [4, 5, 6], [7, 8, 9]]\n",
    "print(carré[1])"
   ]
  },
  {
   "cell_type": "markdown",
   "id": "ffa2b486",
   "metadata": {},
   "source": [
    "## QCM 6\n",
    "a/ **QCM :** Qu'affiche le code ci-dessous ?  \n",
    "\n",
    "| réponse A       | réponse B       | réponse C     | réponse D       |\n",
    "|-----------------|-----------------|---------------|----------------|\n",
    "| 1 3 0 7<br>5 7 0 2<br>1 8 0 1 | 1 8 0 1<br>5 7 0 2<br>1 3 0 7 | 1 5 1<br>3 7 8 <br>0 0 0<br>7 2 1 | 1 5 1<br>8 7 3<br>0 0 0 <br>1 2 7 |\n",
    "\n",
    "\n",
    "b/ **Auto-correction :** lancer le programme."
   ]
  },
  {
   "cell_type": "code",
   "execution_count": null,
   "id": "301da4a6",
   "metadata": {},
   "outputs": [],
   "source": [
    "t = [[1, 3, 0, 7], [5, 7, 0, 2], [1, 8, 0, 1 ]]\n",
    "for i in range(len(t)):\n",
    "    for j in range(len(t[i])):\n",
    "        print(t[i][j], end=' ')\n",
    "    print() # pour passer une ligne"
   ]
  },
  {
   "cell_type": "markdown",
   "id": "5f6868f5",
   "metadata": {},
   "source": [
    "## QCM 7\n",
    "a/ **QCM :** Que contient la liste `[[i, j] for j in range(3) for i in range(2)]` ?\n",
    "\n",
    " &nbsp; &nbsp;  &nbsp; &nbsp; *A/ `[[0, 0], [1, 0], [0, 1], [1, 1], [0, 2], [1, 2]]`  \n",
    "  &nbsp; &nbsp;  &nbsp; &nbsp; B/ `[[0, 0], [0, 1], [1, 0], [1, 1], [2, 0], [2, 1]]`  \n",
    "&nbsp; &nbsp; &nbsp; &nbsp; C/ `[[0, 0], [0, 1], [0, 2], [1, 0], [1, 1], [1, 2]]`  \n",
    " &nbsp; &nbsp;  &nbsp; &nbsp; D/ `[[0, 0], [1, 0], [2, 0], [0, 1], [1, 1], [2, 1]]`*  \n",
    "b/ **Auto-correction :** lancer l'évaluation console."
   ]
  },
  {
   "cell_type": "code",
   "execution_count": null,
   "id": "d3b789ff",
   "metadata": {},
   "outputs": [],
   "source": [
    "[[i, j] for j in range(3) for i in range(2)]"
   ]
  },
  {
   "cell_type": "code",
   "execution_count": null,
   "id": "25b8e262",
   "metadata": {},
   "outputs": [],
   "source": []
  },
  {
   "cell_type": "code",
   "execution_count": null,
   "id": "f25e7320",
   "metadata": {},
   "outputs": [],
   "source": []
  },
  {
   "cell_type": "markdown",
   "id": "03be1317",
   "metadata": {},
   "source": [
    "## Exercice 9\n",
    "On donne la liste de listes :\n",
    "tableau = [[3, 2, 5], [7, -1, 1]]\n",
    "\n",
    "1. Ecrire ce tableau sous forme d'un tableau en lignes et colonnes ( soit un tableau à deux dimensions)\n",
    "Par exemple\n",
    "| colonne 0| colonne 1 | colonne 2| colonne 3 |\n",
    "|---|---|---|---|\n",
    "| ... | ... | ... | ... | \n",
    "| ... | ... | ... | ... | \n",
    "| ... | ... | ... | ... | \n",
    "| ... | ... | ... | ... | \n",
    "\n",
    "2. Comment accéder à la valeur 7?\n",
    "3. Comment afficher la premiere liste [3, 2, 5] ?"
   ]
  },
  {
   "cell_type": "code",
   "execution_count": null,
   "id": "5e0edecd",
   "metadata": {},
   "outputs": [],
   "source": []
  },
  {
   "cell_type": "markdown",
   "id": "eaa3b98c",
   "metadata": {},
   "source": [
    "4. Compléter le code ci-dessous permettant de créer une liste reprenant les valeurs de la première colonne "
   ]
  },
  {
   "cell_type": "code",
   "execution_count": 1,
   "id": "c6c0f610",
   "metadata": {},
   "outputs": [
    {
     "name": "stdout",
     "output_type": "stream",
     "text": [
      "[3, 7]\n"
     ]
    }
   ],
   "source": [
    "tableau = [[3, 2, 5], [7, -1, 1]]\n",
    "colonne = []\n",
    "\n",
    "for i in range(len(tableau)):\n",
    "    colonne.append(tableau[i][0])\n",
    "\n",
    "print(colonne)"
   ]
  },
  {
   "cell_type": "markdown",
   "id": "be755779",
   "metadata": {},
   "source": [
    "5. Écrire en python la fonction *n_ieme_colonne* qui prend en argument une liste des listes et un entier n et renvoie la n-ième colonne de la liste."
   ]
  },
  {
   "cell_type": "code",
   "execution_count": 2,
   "id": "9fe0bc2c",
   "metadata": {},
   "outputs": [],
   "source": [
    "def n_ieme_colonne(liste_de_listes, n):\n",
    "    return [colonne[n] for colonne in liste_de_listes]"
   ]
  },
  {
   "cell_type": "code",
   "execution_count": 3,
   "id": "86719ee1",
   "metadata": {},
   "outputs": [
    {
     "data": {
      "text/plain": [
       "[2, -1]"
      ]
     },
     "execution_count": 3,
     "metadata": {},
     "output_type": "execute_result"
    }
   ],
   "source": [
    "n_ieme_colonne([[3, 2, 5], [7, -1, 1]],1)"
   ]
  },
  {
   "cell_type": "markdown",
   "id": "dddd116c",
   "metadata": {},
   "source": [
    "## Exercice 10\n",
    "Les notes sur 20 d'un élève en mathématiques associées au coefficient de chaque devoir sont données dans une liste.   Par exemple,  \n",
    "notes = [[15,1],[13,2],[16, 0.5]]  \n",
    "signifie qu'il a un 15/20 au premier devoir coefficienté 1, il a eu 13/20 au 2ème devoir coefficienté 2 et 16/20 au 3ème devoir coefficienté 0.5.\n",
    "\n",
    "\n",
    "1. Créer une fonction qui calcule la moyenne des notes en mathématiques quand on donne une telle liste pour un élève de la classe."
   ]
  },
  {
   "cell_type": "code",
   "execution_count": 10,
   "id": "8aea5fa7",
   "metadata": {},
   "outputs": [
    {
     "ename": "AssertionError",
     "evalue": "Valid moyenne result: 19.714285714285715",
     "output_type": "error",
     "traceback": [
      "\u001b[0;31m---------------------------------------------------------------------------\u001b[0m",
      "\u001b[0;31mAssertionError\u001b[0m                            Traceback (most recent call last)",
      "Cell \u001b[0;32mIn [10], line 22\u001b[0m\n\u001b[1;32m     19\u001b[0m     \u001b[38;5;28;01massert\u001b[39;00m \u001b[38;5;129;01mnot\u001b[39;00m (\u001b[38;5;241m0\u001b[39m \u001b[38;5;241m<\u001b[39m\u001b[38;5;241m=\u001b[39m moyenne_result_invalid \u001b[38;5;241m<\u001b[39m\u001b[38;5;241m=\u001b[39m \u001b[38;5;241m20\u001b[39m), \u001b[38;5;124mf\u001b[39m\u001b[38;5;124m\"\u001b[39m\u001b[38;5;124mValid moyenne result: \u001b[39m\u001b[38;5;132;01m{\u001b[39;00mmoyenne_result_invalid\u001b[38;5;132;01m}\u001b[39;00m\u001b[38;5;124m\"\u001b[39m\n\u001b[1;32m     21\u001b[0m \u001b[38;5;66;03m# Run the test\u001b[39;00m\n\u001b[0;32m---> 22\u001b[0m \u001b[43mtest_moyenne\u001b[49m\u001b[43m(\u001b[49m\u001b[43m)\u001b[49m\n",
      "Cell \u001b[0;32mIn [10], line 19\u001b[0m, in \u001b[0;36mtest_moyenne\u001b[0;34m()\u001b[0m\n\u001b[1;32m     17\u001b[0m \u001b[38;5;66;03m# Test invalid case\u001b[39;00m\n\u001b[1;32m     18\u001b[0m moyenne_result_invalid \u001b[38;5;241m=\u001b[39m moyenne(notes_invalid)\n\u001b[0;32m---> 19\u001b[0m \u001b[38;5;28;01massert\u001b[39;00m \u001b[38;5;129;01mnot\u001b[39;00m (\u001b[38;5;241m0\u001b[39m \u001b[38;5;241m<\u001b[39m\u001b[38;5;241m=\u001b[39m moyenne_result_invalid \u001b[38;5;241m<\u001b[39m\u001b[38;5;241m=\u001b[39m \u001b[38;5;241m20\u001b[39m), \u001b[38;5;124mf\u001b[39m\u001b[38;5;124m\"\u001b[39m\u001b[38;5;124mValid moyenne result: \u001b[39m\u001b[38;5;132;01m{\u001b[39;00mmoyenne_result_invalid\u001b[38;5;132;01m}\u001b[39;00m\u001b[38;5;124m\"\u001b[39m\n",
      "\u001b[0;31mAssertionError\u001b[0m: Valid moyenne result: 19.714285714285715"
     ]
    }
   ],
   "source": [
    "def moyenne(liste):\n",
    "    somme_notes = sum(note * coef for note, coef in liste)\n",
    "    somme_coefficients = sum(coef for _, coef in liste)\n",
    "    \n",
    "    moyenne_ponderee = somme_notes / somme_coefficients if somme_coefficients != 0 else 0\n",
    "    return moyenne_ponderee\n",
    "\n",
    "def test_moyenne():\n",
    "    # Example test data\n",
    "    notes_valid = [[15, 1], [13, 2], [16, 0.5]]\n",
    "    notes_invalid = [[25, 1], [18, 2], [16, 0.5]]\n",
    "\n",
    "    # Test valid case\n",
    "    moyenne_result_valid = moyenne(notes_valid)\n",
    "    assert 0 <= moyenne_result_valid <= 20, f\"Invalid moyenne result: {moyenne_result_valid}\"\n",
    "\n",
    "    # Test invalid case\n",
    "    moyenne_result_invalid = moyenne(notes_invalid)\n",
    "    assert not (0 <= moyenne_result_invalid <= 20), f\"Valid moyenne result: {moyenne_result_invalid}\"\n",
    "\n",
    "# Run the test\n",
    "test_moyenne()"
   ]
  },
  {
   "cell_type": "code",
   "execution_count": 8,
   "id": "9f8dbe67",
   "metadata": {},
   "outputs": [
    {
     "data": {
      "text/plain": [
       "14.0"
      ]
     },
     "execution_count": 8,
     "metadata": {},
     "output_type": "execute_result"
    }
   ],
   "source": [
    "moyenne( [[15,1],[13,2],[16, 0.5]])"
   ]
  },
  {
   "cell_type": "markdown",
   "id": "f17d6941",
   "metadata": {},
   "source": [
    "2. Créer un test de post-condition qui vérifie que la moyenne pondérée est bien un nombre entre 0 et 20."
   ]
  },
  {
   "cell_type": "code",
   "execution_count": null,
   "id": "8e0eef9c",
   "metadata": {},
   "outputs": [],
   "source": []
  }
 ],
 "metadata": {
  "kernelspec": {
   "display_name": "Python 3 (ipykernel)",
   "language": "python",
   "name": "python3"
  },
  "language_info": {
   "codemirror_mode": {
    "name": "ipython",
    "version": 3
   },
   "file_extension": ".py",
   "mimetype": "text/x-python",
   "name": "python",
   "nbconvert_exporter": "python",
   "pygments_lexer": "ipython3",
   "version": "3.11.0"
  }
 },
 "nbformat": 4,
 "nbformat_minor": 5
}

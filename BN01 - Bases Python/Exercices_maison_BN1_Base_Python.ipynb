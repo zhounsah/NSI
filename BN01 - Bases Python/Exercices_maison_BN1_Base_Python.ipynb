{
 "cells": [
  {
   "cell_type": "markdown",
   "id": "6b4554af",
   "metadata": {},
   "source": [
    "# Bases de Python"
   ]
  },
  {
   "cell_type": "markdown",
   "id": "86e62354",
   "metadata": {},
   "source": [
    "## types de variable\n",
    "On donne le programme suivant :  \n",
    "```\n",
    "a = '8'  \n",
    "b = 5  \n",
    "a + b  \n",
    "```\n",
    "\n",
    "Que renvoie-t-il ?\n",
    "\n",
    "Réponses :\n",
    "\n",
    "    \"13\"\n",
    "    Une erreur\n",
    "    False\n",
    "    13"
   ]
  },
  {
   "cell_type": "code",
   "execution_count": null,
   "id": "c96bf8ef",
   "metadata": {},
   "outputs": [],
   "source": [
    "a = '8'\n",
    "b = 5\n",
    "a + b"
   ]
  },
  {
   "cell_type": "markdown",
   "id": "c24f2631",
   "metadata": {},
   "source": [
    "## print et concaténation\n",
    "Dans le \" Bourgeois Gentilhomme\"( acte II, scène 4), le maître de philosophie dit : \n",
    "\n",
    "*On les peut mettre premièrement comme vous avez dit : \"Belle Marquise, vos beaux yeux me font mourir d’amour\". Ou bien : \"D’amour mourir me font, belle Marquise, vos beaux yeux\". Ou bien : \"Vos yeux beaux d’amour me font, belle Marquise, mourir\". Ou bien : \"Mourir vos beaux yeux, belle Marquise, d’amour me font\". Ou bien : \"Me font vos yeux beaux mourir, belle Marquise, d’amour\".*\n",
    "\n",
    "Définir plusieurs variables (groupeA, groupeB, ...) contenant les morceaux de la phrase de telle sorte que l'on puisse afficher les différentes variantes énoncées en concaténant les morceaux. *On ignore la distinction entre majuscule et minuscule.*"
   ]
  },
  {
   "cell_type": "code",
   "execution_count": null,
   "id": "a837f437",
   "metadata": {},
   "outputs": [],
   "source": [
    "groupeA = \"Belle Marquise \"\n",
    "#à compléter"
   ]
  },
  {
   "cell_type": "markdown",
   "id": "4933158b",
   "metadata": {},
   "source": [
    "Compléter le programme suivant qui affiche un triangle de 'X' sur 4 lignes. \n",
    "Vous utiliserez :\n",
    " - une boucle\n",
    " - l'opération * pour répéter une chaine de caractères  \n",
    " \n",
    "Vous devez obtenir l'affichage suivant :  \n",
    "\n",
    "X   <br />\n",
    "X X      \n",
    "X X X  \n",
    "X X X X  "
   ]
  },
  {
   "cell_type": "code",
   "execution_count": null,
   "id": "675197b3",
   "metadata": {},
   "outputs": [],
   "source": [
    "caractere = 'X '\n",
    "ligne = ''\n",
    "# à compléter"
   ]
  },
  {
   "cell_type": "markdown",
   "id": "bb54ddbb",
   "metadata": {},
   "source": [
    "## input\n",
    "Compléter le programme pour qu'il demande un mois  \n",
    "et qu'il affiche  :\n",
    " - si le mois est correctement écrit, le nombre de jours dans ce mois pour une année non bissectile,\n",
    " - sinon un message d'erreur \n",
    "``` \n",
    "Entrer un mois : octobre\n",
    ">>> 31\n",
    "Entrer un mois : février\n",
    ">>> 28\n",
    "Entrer un mois : fevrier\n",
    ">>> Je n'ai pas compris votre demande.\n",
    "```"
   ]
  },
  {
   "cell_type": "code",
   "execution_count": null,
   "id": "f2cd8822",
   "metadata": {},
   "outputs": [],
   "source": [
    "mois = input(\"Entrer un mois : \")\n",
    "if mois in ['janvier', 'mars', 'mai', 'juillet','août','octobre','décembre' ] :\n",
    "    # à compléter\n",
    "elif  # à compléter \n",
    "# à compléter "
   ]
  },
  {
   "cell_type": "markdown",
   "id": "e2b5711a",
   "metadata": {},
   "source": [
    "## Caster\n",
    "Ecrire un programme qui demande deux nombres décimaux positifs à l'utilisateur puis affiche le calcul de leur somme\n",
    "```\n",
    ">>> 12.0 + 13.0 = 25.0  \n",
    ">>> 4.5 + 9.6 = 14.1\n",
    "```"
   ]
  },
  {
   "cell_type": "code",
   "execution_count": null,
   "id": "07de2155",
   "metadata": {},
   "outputs": [],
   "source": [
    "# à compléter\n",
    "nb1 = ... input(\"Donner un premier nombre décimal positif : \")\n",
    "\n",
    "\n",
    "print(...)"
   ]
  },
  {
   "cell_type": "markdown",
   "id": "8e627c1d",
   "metadata": {},
   "source": [
    "## Utiliser l'aide\n",
    "Demander de l'aide sur la méthode `upper` qui s'applique aux chaines de caractères : `str.upper`.\n",
    "Puis écrire un programme qui demande une lettre de l'alphabet en minuscule et la transforme en majuscule"
   ]
  },
  {
   "cell_type": "code",
   "execution_count": null,
   "id": "c44097ea",
   "metadata": {},
   "outputs": [],
   "source": [
    "# Demander de l'aide sur la méthode upper \n"
   ]
  },
  {
   "cell_type": "code",
   "execution_count": null,
   "id": "f74478dc",
   "metadata": {},
   "outputs": [],
   "source": [
    "lettre = input(\"Donner une lettre de l'alphabet en minuscule : \")\n",
    "# à compléter"
   ]
  },
  {
   "cell_type": "markdown",
   "id": "0e610a9b-34a1-46c1-a58b-f68c7504fb76",
   "metadata": {},
   "source": [
    "Demander de l'aide sur la fonction `divmod`.  \n",
    "Puis compléter le programme qui vérifie que deux paires de nombres ( dividende, diviseur) ont le même quotient et le même reste.  \n",
    "Par exemple  pour les paires :\n",
    "- (7,2) et (13,4) : 7/2 = 3 reste 1    et     13/4 = 3 reste 1.   Donc les paires (7,2) et (13,4) ont le même quotient et le même reste. \n",
    "- (7,2) et (26,5) : 7/2 = 3 reste 1    et     26/5 = 5 reste 1.   Donc les paires (7,2) et (26,5) n'ont pas le même quotient mais ont le même reste. \n",
    "- (7,2) et (29,9) : 7/2 = 3 reste 1    et     29/9 = 3 reste 2.   Donc les paires (7,2) et (26,5) ont le même quotient mais n'ont pas le même reste.  \n",
    "On obtient ceci : \n",
    "\n",
    "```\n",
    "(7,2)\n",
    "(13,4)\n",
    ">>> True  \n",
    "(7,2)\n",
    "(26,5)  \n",
    ">>> False\n",
    "(7,2)\n",
    "(29,9)  \n",
    ">>> False\n",
    "```"
   ]
  },
  {
   "cell_type": "code",
   "execution_count": null,
   "id": "023fe217",
   "metadata": {},
   "outputs": [],
   "source": [
    "# Demander de l'aide sur la fonction divmod\n"
   ]
  },
  {
   "cell_type": "code",
   "execution_count": null,
   "id": "de128aae-cd21-4bba-874a-e286a5ce0f71",
   "metadata": {},
   "outputs": [],
   "source": [
    "(x1,y1) = (7,2)\n",
    "(x2,y2) = (26,5)\n",
    "# à compléter"
   ]
  },
  {
   "cell_type": "markdown",
   "id": "c5c72625",
   "metadata": {},
   "source": [
    "## longueur de chaîne"
   ]
  },
  {
   "cell_type": "markdown",
   "id": "5b4489d2-f49e-46a3-9225-e1af082dd93e",
   "metadata": {},
   "source": [
    "**Longueur de mot de passe**  \n",
    "Construire un programme qui demande à l'utilisateur deux mots code `mot1` et `mot2` pour établir un mot de passe.  \n",
    "Le programme génère un mot de passe à l'aide des lettres des mots code en alternant les lettres de `mot1` et `mot2` dans l'ordre.\n",
    "La génération s'arrête dès que l'un des mots de passe n'a plus de lettres.  \n",
    "```\n",
    "math \n",
    "Helene\n",
    ">>>mHaetlhe\n",
    "\n",
    "informatique\n",
    "NSI\n",
    ">>>iNnSfIo\n",
    "```\n"
   ]
  },
  {
   "cell_type": "code",
   "execution_count": null,
   "id": "eadf49e7",
   "metadata": {},
   "outputs": [],
   "source": [
    "mot1 = input(\"Entrer votre premier mot code.\")\n",
    "mot2 = input(\"Entrer votre deuxième mot code.\")\n",
    "# à compléter"
   ]
  }
 ],
 "metadata": {
  "kernelspec": {
   "display_name": "Python 3 (ipykernel)",
   "language": "python",
   "name": "python3"
  },
  "language_info": {
   "codemirror_mode": {
    "name": "ipython",
    "version": 3
   },
   "file_extension": ".py",
   "mimetype": "text/x-python",
   "name": "python",
   "nbconvert_exporter": "python",
   "pygments_lexer": "ipython3",
   "version": "3.9.13"
  }
 },
 "nbformat": 4,
 "nbformat_minor": 5
}

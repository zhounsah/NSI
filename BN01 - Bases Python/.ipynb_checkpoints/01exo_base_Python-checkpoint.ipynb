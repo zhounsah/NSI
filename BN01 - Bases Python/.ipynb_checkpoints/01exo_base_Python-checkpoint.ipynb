{
 "cells": [
  {
   "cell_type": "markdown",
   "metadata": {},
   "source": [
    "**TOUS LES QCM SONT DES ENTRAINEMENTS AUX EVALUATIONS, DONC IL FAUT REPONDRE SANS LANCER LE PROGRAMME (tel un devoir sur table).**\n",
    "\n",
    "## Exercice 1 : Affectation de variable\n",
    "1°/ a/ **QCM :** Qu'affiche le programme ci-dessous ? **C**  \n",
    " &nbsp; &nbsp;  &nbsp; &nbsp; *A/ Kevin  &nbsp; &nbsp; B/ 23 &nbsp; &nbsp; C/ une erreur Python &nbsp; &nbsp; D/ y*  \n",
    " &nbsp; &nbsp; b/ **Auto-correction :** Lancer le programme."
   ]
  },
  {
   "cell_type": "code",
   "execution_count": 1,
   "metadata": {},
   "outputs": [
    {
     "ename": "NameError",
     "evalue": "name 'y' is not defined",
     "output_type": "error",
     "traceback": [
      "\u001b[0;31m---------------------------------------------------------------------------\u001b[0m",
      "\u001b[0;31mNameError\u001b[0m                                 Traceback (most recent call last)",
      "Cell \u001b[0;32mIn [1], line 4\u001b[0m\n\u001b[1;32m      2\u001b[0m age \u001b[38;5;241m=\u001b[39m \u001b[38;5;241m16\u001b[39m\n\u001b[1;32m      3\u001b[0m x \u001b[38;5;241m=\u001b[39m \u001b[38;5;241m23\u001b[39m\n\u001b[0;32m----> 4\u001b[0m x \u001b[38;5;241m=\u001b[39m \u001b[43my\u001b[49m\n\u001b[1;32m      5\u001b[0m \u001b[38;5;28mprint\u001b[39m(y)\n",
      "\u001b[0;31mNameError\u001b[0m: name 'y' is not defined"
     ]
    }
   ],
   "source": [
    "nom = \"Kevin\"\n",
    "age = 16\n",
    "x = 23\n",
    "x = y\n",
    "print(y)"
   ]
  },
  {
   "cell_type": "markdown",
   "metadata": {},
   "source": [
    "2°/ a/ **QCM :** Qu'affiche le programme ci-dessous ? **D**  \n",
    " &nbsp; &nbsp;  &nbsp; &nbsp; *A/ a = 1 et b = -5   &nbsp; &nbsp; &nbsp; &nbsp; B/  a = -5 et b = 1 &nbsp; &nbsp;  \n",
    " &nbsp; &nbsp;  &nbsp; &nbsp;  C/ b = 1 et a = -5  &nbsp; &nbsp; &nbsp; &nbsp; D/ a = -5 et b = -5*  \n",
    " &nbsp; &nbsp; b/ **Auto-correction :** Lancer le programme."
   ]
  },
  {
   "cell_type": "code",
   "execution_count": null,
   "metadata": {},
   "outputs": [],
   "source": [
    "a = 1\n",
    "b = -5\n",
    "a = b\n",
    "b = a\n",
    "print(\"a =\",a,\"et b =\",b)"
   ]
  },
  {
   "cell_type": "markdown",
   "metadata": {},
   "source": [
    "## Exercice 2 : Les types de variables\n",
    "1°/ **QCM :** Notez en commentaire le type de chaque variable :  \n",
    " &nbsp; &nbsp;  &nbsp; &nbsp; *A/ booléens &nbsp; &nbsp; B/ chaînes de caractères &nbsp; &nbsp; C/ entiers  &nbsp; &nbsp; D/ flottant*   \n",
    " \n",
    " a : flottant\n",
    " b : booléen\n",
    " c : chaîne de caractères\n",
    " d : entiers\n",
    " e : flottant\n",
    " f : flottant\n",
    " g : booléen\n",
    " h : booléen\n",
    " i : chaîne de caractères\n",
    "\n",
    "2°/ **Auto-correction :** Utiliser des instructions telles que `print(type(a))` pour vous corriger."
   ]
  },
  {
   "cell_type": "code",
   "execution_count": null,
   "metadata": {},
   "outputs": [],
   "source": [
    "a = -45.67\n",
    "b = False\n",
    "c = '1936'\n",
    "d = 2021\n",
    "e = 4/3\n",
    "f = 10.0\n",
    "g = (6 >= 6.0)\n",
    "h = (0.1+0.2 == 0.3)\n",
    "i = \"l'été était ensoleillé.\"\n",
    "# Notez l'apostrophe dans le texte donc doubles quotes"
   ]
  },
  {
   "cell_type": "markdown",
   "metadata": {},
   "source": [
    "## Exercice 3\n",
    "1°/ **QCM :** Qu'affiche ce programme ? **<class 'str'>**\n",
    " \n",
    "&nbsp; &nbsp;  &nbsp; &nbsp; *A/ une erreur Python &nbsp; &nbsp; B/ <class 'str'> &nbsp; &nbsp; C/ <class 'int'>  &nbsp; &nbsp; D/ <class 'float'>*   "
   ]
  },
  {
   "cell_type": "code",
   "execution_count": 2,
   "metadata": {},
   "outputs": [
    {
     "name": "stdout",
     "output_type": "stream",
     "text": [
      "<class 'str'>\n"
     ]
    }
   ],
   "source": [
    "x = 45\n",
    "x = \"Python !\"\n",
    "print(type(x))"
   ]
  },
  {
   "cell_type": "markdown",
   "metadata": {},
   "source": [
    "2°/ **QCM :** Qu'affiche ce programme ? **3-7**  \n",
    " &nbsp; &nbsp;  &nbsp; &nbsp; *A/ -10 &nbsp; &nbsp; B/ -4 &nbsp; &nbsp; C/ -73  &nbsp; &nbsp; D/ 3-7*  "
   ]
  },
  {
   "cell_type": "code",
   "execution_count": null,
   "metadata": {},
   "outputs": [],
   "source": [
    "a = \"-7\"\n",
    "b = \"3\"\n",
    "print(b + a)"
   ]
  },
  {
   "cell_type": "markdown",
   "metadata": {},
   "source": [
    "## Exercice 4 : Transtyper en booléen\n",
    "####  String &#8658; booléen\n",
    "1/a/ Ci-dessous le programme caste le texte \"truc\" en booléen.\n",
    "Quel est le booléen affiché ? .....  \n",
    "\n",
    "b/ Une seule chaîne est transtypée en `False`, laquelle ? ............"
   ]
  },
  {
   "cell_type": "code",
   "execution_count": null,
   "metadata": {},
   "outputs": [],
   "source": [
    "chaine1 = \"truc\"\n",
    "t_chaine1 = bool(chaine1) # Transtypage en BOOLEEN\n",
    "print(t_chaine1)"
   ]
  },
  {
   "cell_type": "markdown",
   "metadata": {},
   "source": [
    "####  Entier &#8658; booléen\n",
    "2/a/ Ecrire le programme qui caste l'entier 34 en booléen. Quel est le booléen affiché ? .....  \n",
    "\n",
    "b/ Idem, un seul entier est transtypé en `False`, lequel ? ............"
   ]
  },
  {
   "cell_type": "code",
   "execution_count": null,
   "metadata": {},
   "outputs": [],
   "source": [
    "# Transtypage : int => booléen\n",
    "n = 34\n",
    "\n",
    "\n"
   ]
  },
  {
   "cell_type": "markdown",
   "metadata": {},
   "source": [
    "#### Un flottant &#8658; booléen\n",
    "3°/ Idem : un seul flottant est transtypé en `False`, lequel ? ..........."
   ]
  },
  {
   "cell_type": "code",
   "execution_count": null,
   "metadata": {},
   "outputs": [],
   "source": [
    "# Transtypage : flottant => booléen\n",
    "\n"
   ]
  },
  {
   "cell_type": "markdown",
   "metadata": {},
   "source": [
    "## Exercice 5 : Caster l'input"
   ]
  },
  {
   "cell_type": "code",
   "execution_count": null,
   "metadata": {},
   "outputs": [],
   "source": [
    "# Demander l'année de naissance de l'utilisateur :\n",
    "\n",
    "\n",
    "# Calculer l'âge que l'utilisateur aura durant cette année :\n",
    "\n",
    "\n",
    "# Afficher le résultat dans une phrase réponse.\n",
    "\n"
   ]
  },
  {
   "cell_type": "markdown",
   "metadata": {},
   "source": [
    "## Exercice 6 : Trois calculs de puissance\n",
    "En fait il existe plusieurs méthodes présentées ci-dessous. Lancer le programme pour vérifier :"
   ]
  },
  {
   "cell_type": "code",
   "execution_count": null,
   "metadata": {},
   "outputs": [],
   "source": [
    "# Méthode 1 : l'opérateur **\n",
    "print(2 ** 100)\n",
    "\n",
    "# Méthode 2 : la fonction pow() de Python\n",
    "print(pow(2, 100))\n",
    "\n",
    "# Méthode 3 : la fonction pow() de la librairie math, \n",
    "#       et dans ce cas il faut d'abord importer la librairie math.\n",
    "import math\n",
    "print (math.pow(2, 100))"
   ]
  },
  {
   "cell_type": "markdown",
   "metadata": {},
   "source": [
    "Et on peut comparer ces 3 méthodes en les **chronométrant** avec la fonction `timeit()` du module `timeit` :"
   ]
  },
  {
   "cell_type": "code",
   "execution_count": null,
   "metadata": {},
   "outputs": [],
   "source": [
    "import timeit\n",
    "print(timeit.timeit(\"2 ** 100\"))\n",
    "print(timeit.timeit(\"pow(2, 100)\"))\n",
    "print(timeit.timeit(\"math.pow(2, 100)\",setup='import math'))"
   ]
  },
  {
   "cell_type": "markdown",
   "metadata": {},
   "source": [
    "Quelle méthode est la plus rapide ? ....................."
   ]
  },
  {
   "cell_type": "markdown",
   "metadata": {},
   "source": [
    "## Exercice 7 : Opérations sur les nombres\n",
    "Même question :  \n",
    "**1°/ QCM type bac (sans ordi) :** Les variables ci-dessous sont-elles des booléens, chaîne de caractères, entiers ou flottant ?  Ecrire la réponse juste à côté, en commentaire.\n",
    "\n",
    "2°/ Vérifier vos réponses avec un programme."
   ]
  },
  {
   "cell_type": "code",
   "execution_count": null,
   "metadata": {},
   "outputs": [],
   "source": [
    "# Pour chacune de ces variables, afficher son type :\n",
    "a = 45 - 45.67\n",
    "\n",
    "b = 6//7\n",
    "\n",
    "c = 15.0//5\n",
    "\n",
    "d = 6/7\n",
    "\n",
    "e = 6%7\n",
    "\n",
    "f = 14/2\n",
    "\n",
    "g = 12//4.0\n",
    "\n",
    "h = (3 + 1 * 4 == 16)"
   ]
  },
  {
   "cell_type": "markdown",
   "metadata": {},
   "source": [
    "## exercice 8 : la plus grande chaîne\n",
    "1°/ a) Demander à l'utilisateur de saisir 2 chaînes de caractères.  \n",
    "    b) Afficher la chaîne qui contient le plus de caractères.\n",
    "\n",
    "2°/ Etes-vous sûr d'avoir envisagé toutes les éventualités ?"
   ]
  },
  {
   "cell_type": "code",
   "execution_count": null,
   "metadata": {},
   "outputs": [],
   "source": [
    "## programme sur la plus grande chaîne\n",
    "\n",
    "\n"
   ]
  },
  {
   "cell_type": "markdown",
   "metadata": {},
   "source": [
    "## exercice 9 : programme sur le n° Sécurité Sociale\n",
    "Le numéro de sécurité sociale est constitué de 13 chiffres auquel s'ajoute la clé de contrôle (2 chiffres).  \n",
    "\n",
    "Exemple : n° = 1 89 11 26 108 268  &nbsp; &nbsp; &nbsp; &nbsp; &nbsp; &nbsp; clé = 91\n",
    "\n",
    "La clé de contrôle est calculée par la formule :  \n",
    "clé = 97 - (n° sécurité sociale modulo 97)\n",
    "\n",
    "ex : clé = 97 - (1891126108268 modulo 97) = 91  \n",
    "donc le n° donné en exemple est correct.\n",
    "\n",
    "1°/ Quel est l'intérêt de la clé de contrôle ?\n",
    "\n",
    "2°/ Etablir un programme permettant de vérifier si un n° de sécurité sociale est valide."
   ]
  },
  {
   "cell_type": "code",
   "execution_count": null,
   "metadata": {},
   "outputs": [],
   "source": [
    "## programme sur le n° Sécurité Sociale\n",
    "\n"
   ]
  },
  {
   "cell_type": "markdown",
   "metadata": {},
   "source": [
    "## exercice 10 : programme sur les initiales\n",
    "\n",
    "A partir des 2 variables `Prénom` et `Nom`, afficher les initiales (par exemple LM pour Léa Martin)."
   ]
  },
  {
   "cell_type": "code",
   "execution_count": null,
   "metadata": {},
   "outputs": [],
   "source": [
    "## programme donnant les 2 initiales\n",
    "\n"
   ]
  },
  {
   "cell_type": "markdown",
   "metadata": {},
   "source": [
    "## exercice 11 :  programme sur l'identifiant réseau\n",
    "\n",
    "L'identifiant d'accès au réseau d'un lycée est construit de la manière suivante :  \n",
    "* initiale du prénom \n",
    "* puis les 8 premiers caractères du nom  \n",
    "* le tout en minuscule.\n",
    "\n",
    "Exemple : Alexandre Lecouturier → alecoutur\n",
    "\n",
    "A partir des 2 variables `Prénom` et `Nom`, construire l'identifiant."
   ]
  },
  {
   "cell_type": "code",
   "execution_count": null,
   "metadata": {},
   "outputs": [],
   "source": [
    "## programme donnant l'identifiant réseau\n",
    "\n"
   ]
  },
  {
   "cell_type": "markdown",
   "metadata": {},
   "source": [
    "## TP : la course de tortue (45 min)\n",
    "Un petit TP amusant : [https://projects.raspberrypi.org/fr-FR/projects/turtle-race](https://projects.raspberrypi.org/fr-FR/projects/turtle-race)  \n",
    "à exécuter dans un navigateur (Safari ou autre) : [https://jumpto.cc/python-new](https://jumpto.cc/python-new)"
   ]
  },
  {
   "cell_type": "code",
   "execution_count": null,
   "metadata": {},
   "outputs": [],
   "source": []
  }
 ],
 "metadata": {
  "kernelspec": {
   "display_name": "Python 3 (ipykernel)",
   "language": "python",
   "name": "python3"
  },
  "language_info": {
   "codemirror_mode": {
    "name": "ipython",
    "version": 3
   },
   "file_extension": ".py",
   "mimetype": "text/x-python",
   "name": "python",
   "nbconvert_exporter": "python",
   "pygments_lexer": "ipython3",
   "version": "3.10.6"
  }
 },
 "nbformat": 4,
 "nbformat_minor": 2
}

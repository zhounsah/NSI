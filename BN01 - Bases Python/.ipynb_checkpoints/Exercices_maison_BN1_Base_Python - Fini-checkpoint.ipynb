{
 "cells": [
  {
   "cell_type": "markdown",
   "metadata": {},
   "source": [
    "# Bases de Python"
   ]
  },
  {
   "cell_type": "markdown",
   "metadata": {},
   "source": [
    "## types de variable\n",
    "On donne le programme suivant :  \n",
    "```\n",
    "a = '8'  \n",
    "b = 5  \n",
    "a + b  \n",
    "```\n",
    "\n",
    "Que renvoie-t-il ?\n",
    "\n",
    "Réponses :\n",
    "\n",
    "    \"13\"\n",
    "    Une erreur\n",
    "    False\n",
    "    13"
   ]
  },
  {
   "cell_type": "code",
   "execution_count": 19,
   "metadata": {},
   "outputs": [
    {
     "data": {
      "text/plain": [
       "13"
      ]
     },
     "execution_count": 19,
     "metadata": {},
     "output_type": "execute_result"
    }
   ],
   "source": [
    "a = 8\n",
    "b = 5\n",
    "a + b"
   ]
  },
  {
   "cell_type": "markdown",
   "metadata": {},
   "source": [
    "## print et concaténation\n",
    "Dans le \"Bourgeois Gentilhomme\" (acte II, scène 4), le maître de philosophie dit : \n",
    "\n",
    "*On les peut mettre premièrement comme vous avez dit : \"Belle Marquise, vos beaux yeux me font mourir d’amour\". Ou bien : \"D’amour mourir me font, belle Marquise, vos beaux yeux\". Ou bien : \"Vos yeux beaux d’amour me font, belle Marquise, mourir\". Ou bien : \"Mourir vos beaux yeux, belle Marquise, d’amour me font\". Ou bien : \"Me font vos yeux beaux mourir, belle Marquise, d’amour\".*\n",
    "\n",
    "Définir plusieurs variables (groupeA, groupeB, ...) contenant les morceaux de la phrase de telle sorte que l'on puisse afficher les différentes variantes énoncées en concaténant les morceaux. *On ignore la distinction entre majuscule et minuscule.*"
   ]
  },
  {
   "cell_type": "code",
   "execution_count": 4,
   "metadata": {},
   "outputs": [
    {
     "name": "stdout",
     "output_type": "stream",
     "text": [
      "Belle Marquise vos beaux yeux me font mourir d’amour \n",
      "d’amour mourir vos beaux yeux, Belle Marquise vos beaux yeux me font mourir \n",
      "Belle Marquise vos beaux yeux me font mourir d’amour belle Marquise, \n",
      "mourir vos beaux yeux, d’amour belle Marquise, vos beaux yeux me font mourir \n",
      "me font Belle Marquise vos beaux yeux me font mourir d’amour belle Marquise, \n"
     ]
    }
   ],
   "source": [
    "groupeA = \"Belle Marquise \"\n",
    "groupeB = \"vos beaux yeux me font mourir \"\n",
    "groupeC = \"d’amour \"\n",
    "groupeD = \"mourir vos beaux yeux, \"\n",
    "groupeE = \"belle Marquise, \"\n",
    "groupeF = \"me font \"\n",
    "\n",
    "variante1 = groupeA + groupeB + groupeC\n",
    "variante2 = groupeC + groupeD + groupeA + groupeB\n",
    "variante3 = groupeA + groupeB + groupeC + groupeE\n",
    "variante4 = groupeD + groupeC + groupeE + groupeB\n",
    "variante5 = groupeF + groupeA + groupeB + groupeC + groupeE\n",
    "\n",
    "print(variante1)\n",
    "print(variante2)\n",
    "print(variante3)\n",
    "print(variante4)\n",
    "print(variante5)"
   ]
  },
  {
   "cell_type": "markdown",
   "metadata": {},
   "source": [
    "Compléter le programme suivant qui affiche un triangle de 'X' sur 4 lignes. \n",
    "Vous utiliserez :\n",
    " - une boucle\n",
    " - l'opération * pour répéter une chaine de caractères  \n",
    " \n",
    "Vous devez obtenir l'affichage suivant :  \n",
    "\n",
    "X   <br />\n",
    "X X      \n",
    "X X X  \n",
    "X X X X  "
   ]
  },
  {
   "cell_type": "code",
   "execution_count": 6,
   "metadata": {},
   "outputs": [
    {
     "name": "stdout",
     "output_type": "stream",
     "text": [
      "X \n",
      "X X \n",
      "X X X \n",
      "X X X X \n"
     ]
    }
   ],
   "source": [
    "caractere = 'X '\n",
    "\n",
    "for i in range(1, 5):\n",
    "    ligne += caractere\n",
    "    print(ligne)"
   ]
  },
  {
   "cell_type": "markdown",
   "metadata": {},
   "source": [
    "## input\n",
    "Compléter le programme pour qu'il demande un mois  \n",
    "et qu'il affiche  :\n",
    " - si le mois est correctement écrit, le nombre de jours dans ce mois pour une année non bissectile,\n",
    " - sinon un message d'erreur \n",
    "``` \n",
    "Entrer un mois : octobre\n",
    ">>> 31\n",
    "Entrer un mois : février\n",
    ">>> 28\n",
    "Entrer un mois : fevrier\n",
    ">>> Je n'ai pas compris votre demande.\n",
    "```"
   ]
  },
  {
   "cell_type": "code",
   "execution_count": 8,
   "metadata": {},
   "outputs": [
    {
     "name": "stdout",
     "output_type": "stream",
     "text": [
      "Entrer un mois : Janvier\n",
      "31\n"
     ]
    }
   ],
   "source": [
    "mois = input(\"Entrer un mois : \").lower()\n",
    "\n",
    "if mois in ['janvier', 'mars', 'mai', 'juillet', 'août', 'octobre', 'décembre']:\n",
    "    print(\"31\")\n",
    "elif mois in ['avril', 'juin', 'septembre', 'novembre']:\n",
    "    print(\"30\")\n",
    "elif mois == 'février':\n",
    "    print(\"28\")\n",
    "else:\n",
    "    print(\"Je n'ai pas compris votre demande.\")"
   ]
  },
  {
   "cell_type": "markdown",
   "metadata": {},
   "source": [
    "## Caster\n",
    "Ecrire un programme qui demande deux nombres décimaux positifs à l'utilisateur puis affiche le calcul de leur somme\n",
    "```\n",
    ">>> 12.0 + 13.0 = 25.0  \n",
    ">>> 4.5 + 9.6 = 14.1\n",
    "```"
   ]
  },
  {
   "cell_type": "code",
   "execution_count": 10,
   "metadata": {},
   "outputs": [
    {
     "name": "stdout",
     "output_type": "stream",
     "text": [
      "Donnez un premier nombre décimal positif : 23.7\n",
      "Donnez un deuxième nombre décimal positif : 32.7\n",
      "23.7 + 32.7 = 56.400000000000006\n"
     ]
    }
   ],
   "source": [
    "nb1 = float(input(\"Donnez un premier nombre décimal positif : \"))\n",
    "nb2 = float(input(\"Donnez un deuxième nombre décimal positif : \"))\n",
    "\n",
    "somme = nb1 + nb2\n",
    "\n",
    "print(f\"{nb1} + {nb2} = {somme}\")"
   ]
  },
  {
   "cell_type": "markdown",
   "metadata": {},
   "source": [
    "## Utiliser l'aide\n",
    "Demander de l'aide sur la méthode `upper` qui s'applique aux chaines de caractères : `str.upper`.\n",
    "Puis écrire un programme qui demande une lettre de l'alphabet en minuscule et la transforme en majuscule"
   ]
  },
  {
   "cell_type": "code",
   "execution_count": 11,
   "metadata": {},
   "outputs": [],
   "source": [
    "# Demander de l'aide sur la méthode upper\n",
    "help(str.upper)\n",
    "\n",
    "# Écrire un programme pour convertir une lettre minuscule en majuscule\n",
    "lettre_minuscule = input(\"Entrez une lettre minuscule : \")\n",
    "\n",
    "if len(lettre_minuscule) == 1 and lettre_minuscule.islower():\n",
    "    lettre_majuscule = lettre_minuscule.upper()\n",
    "    print(f\"Lettre en majuscule : {lettre_majuscule}\")\n",
    "else:\n",
    "    print(\"Veuillez entrer une seule lettre minuscule.\")"
   ]
  },
  {
   "cell_type": "code",
   "execution_count": 12,
   "metadata": {},
   "outputs": [
    {
     "name": "stdout",
     "output_type": "stream",
     "text": [
      "Donner une lettre de l'alphabet en minuscule : k\n",
      "Lettre en majuscule : K\n"
     ]
    }
   ],
   "source": [
    "lettre = input(\"Donner une lettre de l'alphabet en minuscule : \")\n",
    "\n",
    "# Vérifier si l'entrée est une seule lettre minuscule\n",
    "if len(lettre) == 1 and lettre.islower():\n",
    "    lettre_majuscule = lettre.upper()\n",
    "    print(f\"Lettre en majuscule : {lettre_majuscule}\")\n",
    "else:\n",
    "    print(\"Veuillez entrer une seule lettre minuscule.\")"
   ]
  },
  {
   "cell_type": "markdown",
   "metadata": {},
   "source": [
    "Demander de l'aide sur la fonction `divmod`.  \n",
    "Puis compléter le programme qui vérifie que deux paires de nombres ( dividende, diviseur) ont le même quotient et le même reste.  \n",
    "Par exemple  pour les paires :\n",
    "- (7,2) et (13,4) : 7/2 = 3 reste 1    et     13/4 = 3 reste 1.   Donc les paires (7,2) et (13,4) ont le même quotient et le même reste. \n",
    "- (7,2) et (26,5) : 7/2 = 3 reste 1    et     26/5 = 5 reste 1.   Donc les paires (7,2) et (26,5) n'ont pas le même quotient mais ont le même reste. \n",
    "- (7,2) et (29,9) : 7/2 = 3 reste 1    et     29/9 = 3 reste 2.   Donc les paires (7,2) et (26,5) ont le même quotient mais n'ont pas le même reste.  \n",
    "On obtient ceci : \n",
    "\n",
    "```\n",
    "(7,2)\n",
    "(13,4)\n",
    ">>> True  \n",
    "(7,2)\n",
    "(26,5)  \n",
    ">>> False\n",
    "(7,2)\n",
    "(29,9)  \n",
    ">>> False\n",
    "```"
   ]
  },
  {
   "cell_type": "code",
   "execution_count": null,
   "metadata": {},
   "outputs": [],
   "source": [
    "# Demander de l'aide sur la fonction divmod\n",
    "help(divmod)\n",
    "\n",
    "# Fonction pour vérifier si deux paires de nombres ont le même quotient et le même reste\n",
    "def meme_quotient_reste(pair1, pair2):\n",
    "    quotient1, reste1 = divmod(pair1[0], pair1[1])\n",
    "    quotient2, reste2 = divmod(pair2[0], pair2[1])\n",
    "    \n",
    "    return quotient1 == quotient2 and reste1 == reste2\n",
    "\n",
    "# Paires de nombres à comparer\n",
    "pair1 = (7, 2)\n",
    "pair2 = (13, 4)\n",
    "pair3 = (7, 2)\n",
    "pair4 = (26, 5)\n",
    "pair5 = (7, 2)\n",
    "pair6 = (29, 9)\n",
    "\n",
    "# Afficher le résultat pour chaque paire de nombres\n",
    "print(pair1)\n",
    "print(pair2)\n",
    "print(meme_quotient_reste(pair1, pair2))\n",
    "\n",
    "print(pair3)\n",
    "print(pair4)\n",
    "print(meme_quotient_reste(pair3, pair4))\n",
    "\n",
    "print(pair5)\n",
    "print(pair6)\n",
    "print(meme_quotient_reste(pair5, pair6))\n"
   ]
  },
  {
   "cell_type": "code",
   "execution_count": null,
   "metadata": {},
   "outputs": [],
   "source": [
    "(x1,y1) = (7,2)\n",
    "(x2,y2) = (26,5)\n",
    "# à compléter"
   ]
  },
  {
   "cell_type": "markdown",
   "metadata": {},
   "source": [
    "## longueur de chaîne"
   ]
  },
  {
   "cell_type": "markdown",
   "metadata": {},
   "source": [
    "**Longueur de mot de passe**  \n",
    "Construire un programme qui demande à l'utilisateur deux mots code `mot1` et `mot2` pour établir un mot de passe.  \n",
    "Le programme génère un mot de passe à l'aide des lettres des mots code en alternant les lettres de `mot1` et `mot2` dans l'ordre.\n",
    "La génération s'arrête dès que l'un des mots de passe n'a plus de lettres.  \n",
    "```\n",
    "math \n",
    "Helene\n",
    ">>>mHaetlhe\n",
    "\n",
    "informatique\n",
    "NSI\n",
    ">>>iNnSfIo\n",
    "```\n"
   ]
  },
  {
   "cell_type": "code",
   "execution_count": 1,
   "metadata": {},
   "outputs": [
    {
     "name": "stdout",
     "output_type": "stream",
     "text": [
      "Entrez le premier mot code : Hello\n",
      "Entrez le deuxième mot code : World\n",
      "Mot de passe généré : HWeolrllod\n"
     ]
    }
   ],
   "source": [
    "def generer_mot_de_passe(mot1, mot2):\n",
    "    mot_de_passe = \"\"\n",
    "    i = 0\n",
    "    while i < len(mot1) and i < len(mot2):\n",
    "        mot_de_passe += mot1[i] + mot2[i]\n",
    "        i += 1\n",
    "    return mot_de_passe\n",
    "\n",
    "# Demander à l'utilisateur de saisir les deux mots code\n",
    "mot1 = input(\"Entrez le premier mot code : \")\n",
    "mot2 = input(\"Entrez le deuxième mot code : \")\n",
    "\n",
    "# Générer le mot de passe en alternant les lettres\n",
    "mot_de_passe = generer_mot_de_passe(mot1, mot2)\n",
    "\n",
    "print(\"Mot de passe généré :\", mot_de_passe)"
   ]
  },
  {
   "cell_type": "code",
   "execution_count": null,
   "metadata": {},
   "outputs": [],
   "source": []
  }
 ],
 "metadata": {
  "kernelspec": {
   "display_name": "Python 3 (ipykernel)",
   "language": "python",
   "name": "python3"
  },
  "language_info": {
   "codemirror_mode": {
    "name": "ipython",
    "version": 3
   },
   "file_extension": ".py",
   "mimetype": "text/x-python",
   "name": "python",
   "nbconvert_exporter": "python",
   "pygments_lexer": "ipython3",
   "version": "3.10.6"
  }
 },
 "nbformat": 4,
 "nbformat_minor": 2
}

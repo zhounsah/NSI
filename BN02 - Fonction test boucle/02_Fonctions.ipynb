{
 "cells": [
  {
   "cell_type": "markdown",
   "id": "27e70ced",
   "metadata": {},
   "source": [
    "##### Fonction\n",
    "# Notion de fonction\n",
    "\n",
    "Imaginez un gros programme informatique en Python de plusieurs milliers de lignes ! Par exemple pour créer un jeu évolué. Si toutes les instructions étaient organisées dans un seul bloc au sein d’un script, le code serait illisible et difficile à mettre en œuvre.  \n",
    "C’est pour cela qu’un gros programme est toujours découpé en petits bouts permettant de faire une action bien précise. Chaque  petit bout de programme  sera ce qu'on appelle une **fonction**. \n",
    "\n",
    "## Vocabulaire\n",
    "\n",
    "\n",
    "\n",
    "Une **fonction**, c’est donc un ensemble d’instructions  regroupées dans un bloc dont le but est de faire une tâche bien précise. Cette fonction possède un **nom**. Si on veut ensuite exécuter le bloc d'instructions associé à la fonction, il suffit d'utiliser ce nom, on dit que l'on **appelle** cette fonction.\n",
    "\n",
    "Par exemple, si on sait que l'on va avoir besoin de calculer (éventuellement plusieurs fois) le montant total des tickets d'entrée au cinéma pour des groupes différents, alors on va **définir** une fonction à l'aide du mot clé `def` et l'on va choisir un nom pour cette fonction, par exemple `prix`.\n",
    "Le prix d'une entrée adulte et d'une entrée enfant sera différent. Le `prix` dépendra donc de deux **paramètres** le nombre d'adultes et le nombre d'enfants.\n",
    "\n",
    "Pour coder une fonction en Python :\n",
    "\n",
    "```Python\n",
    "def ma_fonction(liste de parametres):\n",
    "    instructions\n",
    "    return resultat\n",
    "```"
   ]
  },
  {
   "cell_type": "markdown",
   "id": "f0bbdb48",
   "metadata": {},
   "source": [
    "# Activité introductive : le cinéma\n",
    "## La caisse est en panne\n",
    "Le prix d'une place dans un cinéma est de 5,20€ pour un adulte et de 3,60€ pour un enfant.\n",
    "Alice et Bob doivent faire payer les entrées, mais leur caisse est malheureusement tombée en panne, et la queue s’allonge très vite…\n",
    "On leur fournit en urgence une calculatrice qui dispose de Python pour les aider.\n",
    "\n",
    "Un groupe de 2 adultes et 2 enfants se présente à la caisse. Il faut donc calculer :  \n",
    "$2×5,20+2×3,60 = 17,60 $\n",
    "\n",
    "Un groupe de 3 adultes et 5 enfants se présente à la caisse. Il faut donc calculer :         \n",
    "$3×5,20+5×3,60 = 33,60 $\n",
    "\n",
    "Un groupe de 1 adulte et 3 enfants se présente à la caisse. Il faut donc calculer :   \n",
    "$1×5,20+3×3,60 = 16,00 $\n",
    "\n",
    "\n",
    "😢 Ces calculs sont très répétitifs, et prennent du temps. La queue continue à s’allonger …  \n",
    "Ils remarquent qu’il suffirait de saisir le nombre d’adultes et le nombre d’enfants pour automatiser le calcul. Ils décident d’écrire une fonction en Python : "
   ]
  },
  {
   "cell_type": "markdown",
   "id": "fe99a836",
   "metadata": {},
   "source": [
    "<span class=\"enonce\"> Exécuter la cellule suivante.  \n",
    "Que se passe-t-il ? ...<span>\n"
   ]
  },
  {
   "cell_type": "code",
   "execution_count": 1,
   "id": "838d5166",
   "metadata": {},
   "outputs": [],
   "source": [
    "def prix(nbre_adultes, nbre_enfants):\n",
    "    resultat = 5.20 * nbre_adultes + 3.60 * nbre_enfants\n",
    "    return resultat"
   ]
  },
  {
   "cell_type": "markdown",
   "id": "6e1d8491",
   "metadata": {},
   "source": [
    "<details>\n",
    "    <summary>👉Explication</summary>\n",
    "    Effectivement, ici on a **défini** la fonction mais on ne l'a pas encore **appelée**.</details>"
   ]
  },
  {
   "cell_type": "markdown",
   "id": "d5f36699",
   "metadata": {},
   "source": [
    "Si on « appelle » `prix(3, 2)` :  \n",
    " - 3 est automatiquement affecté à la première variable nbre_adultes\n",
    " - 2 est automatiquement affecté à la deuxième variable nbre_enfants"
   ]
  },
  {
   "cell_type": "markdown",
   "id": "97ce2dd6",
   "metadata": {},
   "source": [
    "<span class=\"enonce\"> Appeler la fonction <code>prix </code> pour :\n",
    "- 2 adultes et 2 enfants \n",
    "- 3 adultes et 5 enfants \n",
    "- 1 adulte et 3 enfants </span>"
   ]
  },
  {
   "cell_type": "code",
   "execution_count": null,
   "id": "2d5b92e4",
   "metadata": {},
   "outputs": [],
   "source": []
  },
  {
   "cell_type": "code",
   "execution_count": null,
   "id": "80f317af",
   "metadata": {},
   "outputs": [],
   "source": []
  },
  {
   "cell_type": "code",
   "execution_count": null,
   "id": "03d3acc3",
   "metadata": {},
   "outputs": [],
   "source": []
  },
  {
   "cell_type": "markdown",
   "id": "3da6e921",
   "metadata": {},
   "source": [
    "Lorsqu'on appelle la fonction `prix` avec une valeur explicite pour `nbre_adultes` et ` nbre_enfants` comme dans `prix(3, 2)`, on dit que 3 et 2 sont des **arguments** de la fonction `prix`.    \n",
    "\n",
    "Dans la ligne `return`, on obtient ce qui est **renvoyé** (pas retourné ) par une fonction. Ici c'est la valeur de la variable `resultat`."
   ]
  },
  {
   "cell_type": "markdown",
   "id": "0df7585b",
   "metadata": {},
   "source": [
    "## La situation s'améliore\n",
    "La situation d’Alice et Bob s’est nettement améliorée, mais ils veulent aller encore plus vite.\n",
    "Ils voudraient juste saisir les nombres d’adultes et d’enfants, par exemple 3 et 2 , et ne pas avoir à écrire prix(3, 2)\n",
    "Pour cela, ils écrivent le script suivant :"
   ]
  },
  {
   "cell_type": "code",
   "execution_count": 6,
   "id": "1dbb3767",
   "metadata": {},
   "outputs": [
    {
     "name": "stdout",
     "output_type": "stream",
     "text": [
      "nombre d'adultes ? 2\n",
      "nombre d'enfants ? 2\n",
      "A payer :  17.6\n"
     ]
    }
   ],
   "source": [
    "def prix(nbre_adultes, nbre_enfants):\n",
    "    resultat = 5.20  *nbre_adultes + 3.60 * nbre_enfants\n",
    "    return resultat\n",
    "\n",
    "adultes = int(input(\"nombre d'adultes ? \"))\n",
    "enfants = int(input(\"nombre d'enfants ? \"))\n",
    "a_payer = prix(adultes, enfants)\n",
    "print(\"A payer : \", a_payer)"
   ]
  },
  {
   "cell_type": "markdown",
   "id": "3b98527a",
   "metadata": {},
   "source": [
    "<details>\n",
    "    <summary>👉 Explication</summary>\n",
    "    La fonction <code>prix</code> a été appelée. Le résultat <b>renvoyé</b> par la fonction a été affecté à la variable <code>a_payer</code>. Cette variable a ensuite été affichée.\n",
    "</details>"
   ]
  },
  {
   "cell_type": "markdown",
   "id": "59d5379f",
   "metadata": {},
   "source": [
    "## Le tarif étudiant\n",
    "\n",
    "On vient signaler à Alice et Bob qu’un nouveau tarif entre en vigueur instantanément : le tarif « étudiant » à 4.70€."
   ]
  },
  {
   "cell_type": "markdown",
   "id": "5bf8891e",
   "metadata": {},
   "source": [
    "<span class=\"enonce\">\n",
    "En vous inspirant de ce que vous avez déjà vu, compléter ce script qui tient compte de ce nouveau tarif.\n",
    "\n",
    "Le tester pour 1 adulte, 2 étudiants, 3 enfants. Le prix à payer doit être 181 €.\n",
    "</span>"
   ]
  },
  {
   "cell_type": "code",
   "execution_count": 4,
   "id": "b1eb6a2e",
   "metadata": {},
   "outputs": [
    {
     "data": {
      "text/plain": [
       "16.0"
      ]
     },
     "execution_count": 4,
     "metadata": {},
     "output_type": "execute_result"
    }
   ],
   "source": [
    "def prix_avec_etudiants(nbre_adultes, nbre_enfants, nbre_etudiants):\n",
    "    # à compléter\n",
    "\n",
    "adultes = int(input(\"nombre d'adultes ? \"))\n",
    "enfants = int(input(\"nombre d'enfants ? \"))\n",
    "etudiants = int(input(\"nombre d'étudiants ? \"))\n",
    "a_payer = prix_etudiants(adultes, enfants, etudiants)\n",
    "print(\"A payer : \", a_payer)\n",
    "\n",
    "# Tests\n",
    "print(\"pour 1 adulte, 3 enfants et 2 étudiants : \", prix_etudiants(1, 3, 2))"
   ]
  },
  {
   "cell_type": "markdown",
   "id": "89a3262b",
   "metadata": {},
   "source": [
    "## 🎂 Jour d'anniversaire\n",
    "Nouveauté : si c’est le jour d’anniversaire d’une personne du groupe, tout le groupe bénéficie d’une réduction de 10 %."
   ]
  },
  {
   "cell_type": "markdown",
   "id": "ebe66944",
   "metadata": {},
   "source": [
    "<span class=\"enonce\"> Recopier **sans la modifier la fonction <code>prix_avec_etudiants</code>**, compléter le programme pour qu’il demande si c’est un jour anniversaire, et qu’il affiche le prix à payer suivant les cas.  \n",
    "\n",
    "On rappelle que pour diminuer un prix de 10%, il suffit de le multiplier par 0.9. \n"
   ]
  },
  {
   "cell_type": "code",
   "execution_count": null,
   "id": "808bc144",
   "metadata": {},
   "outputs": [],
   "source": [
    "def prix_avec_etudiants(nbre_adultes, nbre_enfants, nbre_etudiants):\n",
    "    # à compléter\n",
    "\n",
    "adultes = int(input(\"nombre d'adultes ? \"))\n",
    "enfants = int(input(\"nombre d'enfants ? \"))\n",
    "etudiants = int(input(\"nombre d'étudiants ? \"))\n",
    "# à compléter\n",
    "\n",
    "a_payer = prix_etudiants(adultes, enfants, etudiants)\n",
    "print(\"A payer : \", a_payer)\n",
    "\n",
    "# Tests\n",
    "print(\"pour 1 adulte, 3 enfants et 2 étudiants : \", prix_etudiants(1, 3, 2))"
   ]
  },
  {
   "cell_type": "markdown",
   "id": "2155c3d8",
   "metadata": {},
   "source": [
    "# Une fonction qui fait plusieurs choses\n",
    "\n",
    "On souhaite créer une fonction qui renvoie le périmètre et l'aire d'un rectangle quand on fournit les paramètres de longueur et largeur."
   ]
  },
  {
   "cell_type": "code",
   "execution_count": 9,
   "id": "33050ebd",
   "metadata": {},
   "outputs": [
    {
     "name": "stdout",
     "output_type": "stream",
     "text": [
      "résultat :  (14, 10)\n",
      "Le périmètre vaut  14 et l'aire vaut  10\n"
     ]
    }
   ],
   "source": [
    "def perimetre_aire_rectangle(longueur, largeur) :\n",
    "    return longueur*2+largeur*2, longueur*largeur\n",
    "\n",
    "resultat = perimetre_aire_rectangle(2,5)\n",
    "print(\"résultat : \" ,resultat)\n",
    "\n",
    "\n",
    "perimetre, aire = perimetre_aire_rectangle(2,5)\n",
    "print(\"Le périmètre vaut \" ,perimetre, \"et l'aire vaut \", aire)"
   ]
  },
  {
   "cell_type": "markdown",
   "id": "e085f16c",
   "metadata": {},
   "source": [
    "<details>\n",
    "    <summary>👉 Explication</summary>\n",
    "    Des parenthèses sont apparues dans l’affichage du résultat.  \n",
    "    En fait il y a une seule variable renvoyée, et non deux, qui est de type *tuple*.\n",
    "    Mais on peut aussi dissocier ce résultat dans deux variables qui sont de type *entier*.\n",
    "</details>"
   ]
  },
  {
   "cell_type": "markdown",
   "id": "a7331632",
   "metadata": {},
   "source": [
    "# Une fonction qui ne renvoie rien\n",
    "On peut écrire une fonction qui ne renvoie rien, mais qui fait des actions, comme par exemple des affichages.  \n",
    "Dans ce cas, on ne parlera plus de fonction mais de **procédure**.  \n",
    "Dans une procédure, la ligne `return None` est facultative "
   ]
  },
  {
   "cell_type": "markdown",
   "id": "378e5073",
   "metadata": {},
   "source": [
    "<span class=\"enonce\"> Compléter la fonction suivante pour qu'elle affiche les 11 premiers  multiples d'un nombre. <span>\n",
    "Par exemple pour 9, elle doit afficher : 0,9,18,27,36,45,54,63,72,81,90."
   ]
  },
  {
   "cell_type": "code",
   "execution_count": null,
   "id": "8401d50a",
   "metadata": {},
   "outputs": [],
   "source": [
    "def table_multiplication(nbre):\n",
    "    for i in ... :\n",
    "        print(...)\n",
    "    return None\n",
    "\n",
    "table_multiplication(9)"
   ]
  },
  {
   "cell_type": "markdown",
   "id": "68969f45",
   "metadata": {},
   "source": [
    "<span class=\"enonce\"> Supprimer la ligne `return None`  et tester à nouveau. <span>"
   ]
  },
  {
   "cell_type": "markdown",
   "id": "1c41b79b",
   "metadata": {},
   "source": [
    "# Une fonction sans paramètre\n",
    "Il arrive qu'une fonction n'ait pas besoin de paramètre pour fonctionner.\n",
    "Par exemple, pour décliner son identité, on peut donner son nom, son prénom et son sexe."
   ]
  },
  {
   "cell_type": "code",
   "execution_count": 11,
   "id": "fd3724fd",
   "metadata": {},
   "outputs": [
    {
     "name": "stdout",
     "output_type": "stream",
     "text": [
      " Nom : Passelande \n",
      " Prénom : Hélène \n",
      " Sexe : féminin\n"
     ]
    }
   ],
   "source": [
    "def mon_identite():\n",
    "    return \" Nom : Passelande \\n Prénom : Hélène \\n Sexe : féminin\"\n",
    "\n",
    "identite = mon_identite()\n",
    "print(identite)"
   ]
  },
  {
   "cell_type": "markdown",
   "id": "6a78ee73",
   "metadata": {},
   "source": [
    "# Fin d'une fonction\n",
    "Dans la fonction `mon_identite`, on personnalise l'affichage pour obtenir :  \n",
    "\n",
    "##################  \n",
    " Nom : Passelande  \n",
    " Prénom : Hélène   \n",
    " Sexe : féminin  \n",
    "##################  \n",
    "\n",
    "On ajoute donc les lignes suivantes."
   ]
  },
  {
   "cell_type": "code",
   "execution_count": 12,
   "id": "e5c47bab",
   "metadata": {},
   "outputs": [
    {
     "name": "stdout",
     "output_type": "stream",
     "text": [
      "##################\n",
      " Nom : Passelande \n",
      " Prénom : Hélène \n",
      " Sexe : féminin\n"
     ]
    }
   ],
   "source": [
    "def mon_identite():\n",
    "    print(\"##################\")\n",
    "    return \" Nom : Passelande \\n Prénom : Hélène \\n Sexe : féminin\"\n",
    "    print(\"##################\")\n",
    "\n",
    "identite = mon_identite()\n",
    "print(identite)"
   ]
  },
  {
   "cell_type": "markdown",
   "id": "4199f402",
   "metadata": {},
   "source": [
    "<span class=\"enonce\"> Obtient-on le résultat attendu ? <span>\n",
    "    ..."
   ]
  },
  {
   "cell_type": "markdown",
   "id": "154403ae",
   "metadata": {},
   "source": [
    "<details>\n",
    "    <summary>👉 Explication</summary>\n",
    "    <b>A retenir</b> : lorsque l'on rencontre l'instruction <code>return</code>, on sort de la fonction. Si un <code>return</code> se trouve avant la fin du bloc d'instruction, les instructions placées après <code>return</code> ne seront pas exécutées.\n",
    "</details>"
   ]
  },
  {
   "cell_type": "markdown",
   "id": "6e3976b0",
   "metadata": {},
   "source": [
    "# Typer une fonction\n",
    "Une fonction peut être définie en précisant le type de chaque paramètre et le type du résultat sorti.  "
   ]
  },
  {
   "cell_type": "code",
   "execution_count": 17,
   "id": "89b426a1",
   "metadata": {},
   "outputs": [
    {
     "data": {
      "text/plain": [
       "False"
      ]
     },
     "execution_count": 17,
     "metadata": {},
     "output_type": "execute_result"
    }
   ],
   "source": [
    "def est_pair(n : int) -> bool:\n",
    "    if n % 2 == 0:\n",
    "        return True\n",
    "    else :\n",
    "        return False\n",
    "\n",
    "est_pair(7)  "
   ]
  },
  {
   "cell_type": "markdown",
   "id": "dc7e3edb",
   "metadata": {},
   "source": [
    "# A vous de jouer !"
   ]
  },
  {
   "cell_type": "markdown",
   "id": "fcdd2014",
   "metadata": {},
   "source": [
    "Les fonctions peuvent travailler sur tout type de données. Par exemple, on peut écrire une fonction qui calcule l'IMC d'une personne.\n",
    "\n",
    "L’IMC ou indice de masse corporelle est une grandeur qui permet d'estimer la corpulence d’une personne.  \n",
    "$ IMC=P/T^2 $ (selon l'OMS) avec P la masse corporelle (en kilogrammes) et T la taille (en mètres). \n",
    "\n",
    "Les valeurs 18 et 25 constituent des repères communément admis pour un IMC normal et présentant donc un rapport de risque jugé acceptable.\n",
    "\n",
    "| IMC        | Interprétation        |\n",
    "| -----------|:---------------------:| \n",
    "| < 16,5     |dénutrition ou anorexie|\n",
    "| 16,5 - 18,5| maigreur              |\n",
    "| 18,5 - 25  | normal                |\n",
    "| 25 - 30    | surpoids              |\n",
    "| > 30       | obésité               |"
   ]
  },
  {
   "cell_type": "markdown",
   "id": "6b14f386",
   "metadata": {},
   "source": [
    "<span class=\"enonce\"> Quels sont les paramètres de la fonction <code>calcul_imc</code> ci-dessous ?\n",
    "    ...\n",
    "\n",
    "<span class=\"enonce\">Compléter les arguments de la ligne 19 ci-dessous.</span>"
   ]
  },
  {
   "cell_type": "code",
   "execution_count": null,
   "id": "b867ca6e",
   "metadata": {},
   "outputs": [],
   "source": [
    "def calcul_imc(poids, taille):\n",
    "    imc = poids/(taille**2)\n",
    "    if imc < 16.5 :\n",
    "        interpretation = \"dénutrition ou anorexie\"\n",
    "    elif 16.5 <= imc < 18.5 :\n",
    "        interpretation = \"maigreur\"\n",
    "    elif 18.5 <= imc < 25 :\n",
    "        interpretation = \"normale\"\n",
    "    elif 25 <= imc < 30 :\n",
    "        interpretation = \"surpoids\"\n",
    "    else : \n",
    "        interpretation = \"obésité\"\n",
    "    return imc, interpretation\n",
    "\n",
    "mon_poids = float(input(\"Entrer le poids en kg:\"))\n",
    "ma_taille = float(input(\"Entrer la taille en mètre:\"))\n",
    "\n",
    "# à compléter\n",
    "resultat, situation = calcul_imc(...)\n",
    "print(\"L'IMC est de\", resultat, \". Situation :\", situation)"
   ]
  },
  {
   "cell_type": "markdown",
   "id": "9e4f9504",
   "metadata": {},
   "source": [
    "#  La portée des variables d'une fonction est locale\n",
    "> **variable de fonction = variable locale**\n",
    "\n",
    "## 1er exemple : sans paramètre\n",
    "\n",
    "> **TOUTES LES VARIABLES DE LA FONCTION SONT LOCALES.**\n",
    "\n",
    "Une [animation Python Tutor du programme ci-dessous](http://www.pythontutor.com/visualize.html#code=def%20test%28%29%3A%0A%20%20%20%20a%20%3D%201%0A%20%20%20%20print%28%22--%3C%20A%20l'int%C3%A9rieur%20de%20test,%20a%20%3D%22,%20a%29%0A%0A%23%23%23%23%20PGM%20PRINCIPAL%20%23%23%23%23%20%20%0A%23%20AVANT%20LE%20TEST%0Aa%20%3D%202%0Aprint%28%22AVANT%20le%20test,%20a%20%3D%22,%20a%29%0A%0A%23%20PENDANT%20%20LE%20TEST%0Atest%28%29%0A%0A%23%20APRES%20LE%20TEST%0Aprint%28%22APRES%20le%20test,%20a%20%3D%22,%20a%29&cumulative=false&curInstr=0&heapPrimitives=nevernest&mode=display&origin=opt-frontend.js&py=3&rawInputLstJSON=%5B%5D&textReferences=false) pour mieux distinguer les variables du programme et les variables de la fonction"
   ]
  },
  {
   "cell_type": "code",
   "execution_count": null,
   "id": "e9592918",
   "metadata": {},
   "outputs": [],
   "source": [
    "def test():\n",
    "    a = 1\n",
    "    print(\"--< A l'intérieur de test, a =\", a)\n",
    "\n",
    "#### PGM PRINCIPAL ####  \n",
    "# AVANT LE TEST\n",
    "a = 2\n",
    "print(\"AVANT le test, a =\", a)\n",
    "\n",
    "# PENDANT  LE TEST\n",
    "test()\n",
    "\n",
    "# APRES LE TEST\n",
    "print(\"APRES le test, a =\", a)"
   ]
  },
  {
   "attachments": {
    "Fonction-Tutor1.svg": {
     "image/svg+xml": [
      "PD94bWwgdmVyc2lvbj0iMS4wIiBlbmNvZGluZz0iVVRGLTgiPz4KPCFET0NUWVBFIHN2ZyBQVUJMSUMgIi0vL1czQy8vRFREIFNWRyAxLjEvL0VOIiAiaHR0cDovL3d3dy53My5vcmcvR3JhcGhpY3MvU1ZHLzEuMS9EVEQvc3ZnMTEuZHRkIj4KPHN2ZyB4bWxucz0iaHR0cDovL3d3dy53My5vcmcvMjAwMC9zdmciIHhtbG5zOnhsaW5rPSJodHRwOi8vd3d3LnczLm9yZy8xOTk5L3hsaW5rIiB2ZXJzaW9uPSIxLjEiIHdpZHRoPSI0MzZweCIgaGVpZ2h0PSIyMjhweCIgdmlld0JveD0iLTAuNSAtMC41IDQzNiAyMjgiIHN0eWxlPSJiYWNrZ3JvdW5kLWNvbG9yOiByZ2IoMjU1LCAyNTUsIDI1NSk7Ij48ZGVmcy8+PGc+PHJlY3QgeD0iNSIgeT0iNDciIHdpZHRoPSIxMTAiIGhlaWdodD0iMTAwIiBmaWxsPSIjZGFlOGZjIiBzdHJva2U9IiM2YzhlYmYiIHBvaW50ZXItZXZlbnRzPSJhbGwiLz48cmVjdCB4PSIyMCIgeT0iODciIHdpZHRoPSI4MCIgaGVpZ2h0PSI1MCIgZmlsbD0iI2ZmZmZmZiIgc3Ryb2tlPSJub25lIiBwb2ludGVyLWV2ZW50cz0iYWxsIi8+PGcgdHJhbnNmb3JtPSJ0cmFuc2xhdGUoLTAuNSAtMC41KSI+PHN3aXRjaD48Zm9yZWlnbk9iamVjdCBzdHlsZT0ib3ZlcmZsb3c6IHZpc2libGU7IHRleHQtYWxpZ246IGxlZnQ7IiBwb2ludGVyLWV2ZW50cz0ibm9uZSIgd2lkdGg9IjEwMCUiIGhlaWdodD0iMTAwJSIgcmVxdWlyZWRGZWF0dXJlcz0iaHR0cDovL3d3dy53My5vcmcvVFIvU1ZHMTEvZmVhdHVyZSNFeHRlbnNpYmlsaXR5Ij48ZGl2IHhtbG5zPSJodHRwOi8vd3d3LnczLm9yZy8xOTk5L3hodG1sIiBzdHlsZT0iZGlzcGxheTogZmxleDsgYWxpZ24taXRlbXM6IHVuc2FmZSBmbGV4LXN0YXJ0OyBqdXN0aWZ5LWNvbnRlbnQ6IHVuc2FmZSBmbGV4LXN0YXJ0OyB3aWR0aDogODJweDsgaGVpZ2h0OiA1MHB4OyBwYWRkaW5nLXRvcDogODdweDsgbWFyZ2luLWxlZnQ6IDIwcHg7Ij48ZGl2IHN0eWxlPSJib3gtc2l6aW5nOiBib3JkZXItYm94OyBmb250LXNpemU6IDA7IHRleHQtYWxpZ246IGxlZnQ7IHdpZHRoOiA4MnB4OyBoZWlnaHQ6IDUwcHg7IG92ZXJmbG93OiBoaWRkZW47ICI+PGRpdiBzdHlsZT0iZGlzcGxheTogaW5saW5lLWJsb2NrOyBmb250LXNpemU6IDEycHg7IGZvbnQtZmFtaWx5OiBIZWx2ZXRpY2E7IGNvbG9yOiAjMDAwMDAwOyBsaW5lLWhlaWdodDogMS4yOyBwb2ludGVyLWV2ZW50czogYWxsOyB3aWR0aDogMTAwJTsgaGVpZ2h0OiAxMDAlOyB3aGl0ZS1zcGFjZTogbm93cmFwOyAiPjx0YWJsZSBib3JkZXI9IjEiIHdpZHRoPSIxMDAlIiBzdHlsZT0id2lkdGg6IDEwMCUgOyBoZWlnaHQ6IDEwMCUgOyBib3JkZXItY29sbGFwc2U6IGNvbGxhcHNlIj48dGJvZHk+PHRyPjx0ZD50ZXN0PC90ZD48dGQ+ZnVuY3Rpb248L3RkPjwvdHI+PHRyPjx0ZCBhbGlnbj0iY2VudGVyIj5hPC90ZD48dGQgYWxpZ249ImNlbnRlciI+MjwvdGQ+PC90cj48L3Rib2R5PjwvdGFibGU+PC9kaXY+PC9kaXY+PC9kaXY+PC9mb3JlaWduT2JqZWN0Pjx0ZXh0IHg9IjIwIiB5PSI5OSIgZmlsbD0iIzAwMDAwMCIgZm9udC1mYW1pbHk9IkhlbHZldGljYSIgZm9udC1zaXplPSIxMnB4Ij50ZXN0ZnVuY3Rpb25hMjwvdGV4dD48L3N3aXRjaD48L2c+PHJlY3QgeD0iNDAiIHk9IjU3IiB3aWR0aD0iNDAiIGhlaWdodD0iMjAiIGZpbGw9Im5vbmUiIHN0cm9rZT0ibm9uZSIgcG9pbnRlci1ldmVudHM9ImFsbCIvPjxnIHRyYW5zZm9ybT0idHJhbnNsYXRlKC0wLjUgLTAuNSkiPjxzd2l0Y2g+PGZvcmVpZ25PYmplY3Qgc3R5bGU9Im92ZXJmbG93OiB2aXNpYmxlOyB0ZXh0LWFsaWduOiBsZWZ0OyIgcG9pbnRlci1ldmVudHM9Im5vbmUiIHdpZHRoPSIxMDAlIiBoZWlnaHQ9IjEwMCUiIHJlcXVpcmVkRmVhdHVyZXM9Imh0dHA6Ly93d3cudzMub3JnL1RSL1NWRzExL2ZlYXR1cmUjRXh0ZW5zaWJpbGl0eSI+PGRpdiB4bWxucz0iaHR0cDovL3d3dy53My5vcmcvMTk5OS94aHRtbCIgc3R5bGU9ImRpc3BsYXk6IGZsZXg7IGFsaWduLWl0ZW1zOiB1bnNhZmUgY2VudGVyOyBqdXN0aWZ5LWNvbnRlbnQ6IHVuc2FmZSBjZW50ZXI7IHdpZHRoOiAzOHB4OyBoZWlnaHQ6IDFweDsgcGFkZGluZy10b3A6IDY3cHg7IG1hcmdpbi1sZWZ0OiA0MXB4OyI+PGRpdiBzdHlsZT0iYm94LXNpemluZzogYm9yZGVyLWJveDsgZm9udC1zaXplOiAwOyB0ZXh0LWFsaWduOiBjZW50ZXI7ICI+PGRpdiBzdHlsZT0iZGlzcGxheTogaW5saW5lLWJsb2NrOyBmb250LXNpemU6IDEycHg7IGZvbnQtZmFtaWx5OiBIZWx2ZXRpY2E7IGNvbG9yOiAjMDAwMDAwOyBsaW5lLWhlaWdodDogMS4yOyBwb2ludGVyLWV2ZW50czogYWxsOyB3aGl0ZS1zcGFjZTogbm9ybWFsOyB3b3JkLXdyYXA6IG5vcm1hbDsgIj48Zm9udCBjb2xvcj0iIzY2NjZmZiI+UFJPR1JBTU1FwqA8YnIgLz5QUklOQ0lQQUw8L2ZvbnQ+PC9kaXY+PC9kaXY+PC9kaXY+PC9mb3JlaWduT2JqZWN0Pjx0ZXh0IHg9IjYwIiB5PSI3MSIgZmlsbD0iIzAwMDAwMCIgZm9udC1mYW1pbHk9IkhlbHZldGljYSIgZm9udC1zaXplPSIxMnB4IiB0ZXh0LWFuY2hvcj0ibWlkZGxlIj5QUk9HUkEuLi48L3RleHQ+PC9zd2l0Y2g+PC9nPjxyZWN0IHg9IjAiIHk9IjExIiB3aWR0aD0iMTIwIiBoZWlnaHQ9IjIwIiBmaWxsPSJub25lIiBzdHJva2U9Im5vbmUiIHBvaW50ZXItZXZlbnRzPSJhbGwiLz48ZyB0cmFuc2Zvcm09InRyYW5zbGF0ZSgtMC41IC0wLjUpIj48c3dpdGNoPjxmb3JlaWduT2JqZWN0IHN0eWxlPSJvdmVyZmxvdzogdmlzaWJsZTsgdGV4dC1hbGlnbjogbGVmdDsiIHBvaW50ZXItZXZlbnRzPSJub25lIiB3aWR0aD0iMTAwJSIgaGVpZ2h0PSIxMDAlIiByZXF1aXJlZEZlYXR1cmVzPSJodHRwOi8vd3d3LnczLm9yZy9UUi9TVkcxMS9mZWF0dXJlI0V4dGVuc2liaWxpdHkiPjxkaXYgeG1sbnM9Imh0dHA6Ly93d3cudzMub3JnLzE5OTkveGh0bWwiIHN0eWxlPSJkaXNwbGF5OiBmbGV4OyBhbGlnbi1pdGVtczogdW5zYWZlIGNlbnRlcjsganVzdGlmeS1jb250ZW50OiB1bnNhZmUgY2VudGVyOyB3aWR0aDogMTE4cHg7IGhlaWdodDogMXB4OyBwYWRkaW5nLXRvcDogMjFweDsgbWFyZ2luLWxlZnQ6IDFweDsiPjxkaXYgc3R5bGU9ImJveC1zaXppbmc6IGJvcmRlci1ib3g7IGZvbnQtc2l6ZTogMDsgdGV4dC1hbGlnbjogY2VudGVyOyAiPjxkaXYgc3R5bGU9ImRpc3BsYXk6IGlubGluZS1ibG9jazsgZm9udC1zaXplOiAxMnB4OyBmb250LWZhbWlseTogSGVsdmV0aWNhOyBjb2xvcjogIzAwMDAwMDsgbGluZS1oZWlnaHQ6IDEuMjsgcG9pbnRlci1ldmVudHM6IGFsbDsgd2hpdGUtc3BhY2U6IG5vcm1hbDsgd29yZC13cmFwOiBub3JtYWw7ICI+PGI+PGZvbnQgY29sb3I9IiM2NjY2ZmYiPkFWQU5UPC9mb250PjwvYj48YnIgLz5sZSBwYXNzYWdlIGRhbnMgbGEgZm9uY3Rpb248L2Rpdj48L2Rpdj48L2Rpdj48L2ZvcmVpZ25PYmplY3Q+PHRleHQgeD0iNjAiIHk9IjI1IiBmaWxsPSIjMDAwMDAwIiBmb250LWZhbWlseT0iSGVsdmV0aWNhIiBmb250LXNpemU9IjEycHgiIHRleHQtYW5jaG9yPSJtaWRkbGUiPkFWQU5ULi4uPC90ZXh0Pjwvc3dpdGNoPjwvZz48cmVjdCB4PSIxNzAiIHk9IjQ3IiB3aWR0aD0iMTEwIiBoZWlnaHQ9IjEwMCIgZmlsbD0iI2RhZThmYyIgc3Ryb2tlPSIjNmM4ZWJmIiBwb2ludGVyLWV2ZW50cz0iYWxsIi8+PHJlY3QgeD0iMjA1IiB5PSI1NyIgd2lkdGg9IjQwIiBoZWlnaHQ9IjIwIiBmaWxsPSJub25lIiBzdHJva2U9Im5vbmUiIHBvaW50ZXItZXZlbnRzPSJhbGwiLz48ZyB0cmFuc2Zvcm09InRyYW5zbGF0ZSgtMC41IC0wLjUpIj48c3dpdGNoPjxmb3JlaWduT2JqZWN0IHN0eWxlPSJvdmVyZmxvdzogdmlzaWJsZTsgdGV4dC1hbGlnbjogbGVmdDsiIHBvaW50ZXItZXZlbnRzPSJub25lIiB3aWR0aD0iMTAwJSIgaGVpZ2h0PSIxMDAlIiByZXF1aXJlZEZlYXR1cmVzPSJodHRwOi8vd3d3LnczLm9yZy9UUi9TVkcxMS9mZWF0dXJlI0V4dGVuc2liaWxpdHkiPjxkaXYgeG1sbnM9Imh0dHA6Ly93d3cudzMub3JnLzE5OTkveGh0bWwiIHN0eWxlPSJkaXNwbGF5OiBmbGV4OyBhbGlnbi1pdGVtczogdW5zYWZlIGNlbnRlcjsganVzdGlmeS1jb250ZW50OiB1bnNhZmUgY2VudGVyOyB3aWR0aDogMzhweDsgaGVpZ2h0OiAxcHg7IHBhZGRpbmctdG9wOiA2N3B4OyBtYXJnaW4tbGVmdDogMjA2cHg7Ij48ZGl2IHN0eWxlPSJib3gtc2l6aW5nOiBib3JkZXItYm94OyBmb250LXNpemU6IDA7IHRleHQtYWxpZ246IGNlbnRlcjsgIj48ZGl2IHN0eWxlPSJkaXNwbGF5OiBpbmxpbmUtYmxvY2s7IGZvbnQtc2l6ZTogMTJweDsgZm9udC1mYW1pbHk6IEhlbHZldGljYTsgY29sb3I6ICMwMDAwMDA7IGxpbmUtaGVpZ2h0OiAxLjI7IHBvaW50ZXItZXZlbnRzOiBhbGw7IHdoaXRlLXNwYWNlOiBub3JtYWw7IHdvcmQtd3JhcDogbm9ybWFsOyAiPjxmb250IGNvbG9yPSIjNjY2NmZmIj5QUk9HUkFNTUXCoDxiciAvPlBSSU5DSVBBTDwvZm9udD48L2Rpdj48L2Rpdj48L2Rpdj48L2ZvcmVpZ25PYmplY3Q+PHRleHQgeD0iMjI1IiB5PSI3MSIgZmlsbD0iIzAwMDAwMCIgZm9udC1mYW1pbHk9IkhlbHZldGljYSIgZm9udC1zaXplPSIxMnB4IiB0ZXh0LWFuY2hvcj0ibWlkZGxlIj5QUk9HUkEuLi48L3RleHQ+PC9zd2l0Y2g+PC9nPjxyZWN0IHg9IjE2NSIgeT0iMTIiIHdpZHRoPSIxMjAiIGhlaWdodD0iMjAiIGZpbGw9Im5vbmUiIHN0cm9rZT0ibm9uZSIgcG9pbnRlci1ldmVudHM9ImFsbCIvPjxnIHRyYW5zZm9ybT0idHJhbnNsYXRlKC0wLjUgLTAuNSkiPjxzd2l0Y2g+PGZvcmVpZ25PYmplY3Qgc3R5bGU9Im92ZXJmbG93OiB2aXNpYmxlOyB0ZXh0LWFsaWduOiBsZWZ0OyIgcG9pbnRlci1ldmVudHM9Im5vbmUiIHdpZHRoPSIxMDAlIiBoZWlnaHQ9IjEwMCUiIHJlcXVpcmVkRmVhdHVyZXM9Imh0dHA6Ly93d3cudzMub3JnL1RSL1NWRzExL2ZlYXR1cmUjRXh0ZW5zaWJpbGl0eSI+PGRpdiB4bWxucz0iaHR0cDovL3d3dy53My5vcmcvMTk5OS94aHRtbCIgc3R5bGU9ImRpc3BsYXk6IGZsZXg7IGFsaWduLWl0ZW1zOiB1bnNhZmUgY2VudGVyOyBqdXN0aWZ5LWNvbnRlbnQ6IHVuc2FmZSBjZW50ZXI7IHdpZHRoOiAxMThweDsgaGVpZ2h0OiAxcHg7IHBhZGRpbmctdG9wOiAyMnB4OyBtYXJnaW4tbGVmdDogMTY2cHg7Ij48ZGl2IHN0eWxlPSJib3gtc2l6aW5nOiBib3JkZXItYm94OyBmb250LXNpemU6IDA7IHRleHQtYWxpZ246IGNlbnRlcjsgIj48ZGl2IHN0eWxlPSJkaXNwbGF5OiBpbmxpbmUtYmxvY2s7IGZvbnQtc2l6ZTogMTJweDsgZm9udC1mYW1pbHk6IEhlbHZldGljYTsgY29sb3I6ICMwMDAwMDA7IGxpbmUtaGVpZ2h0OiAxLjI7IHBvaW50ZXItZXZlbnRzOiBhbGw7IHdoaXRlLXNwYWNlOiBub3JtYWw7IHdvcmQtd3JhcDogbm9ybWFsOyAiPjxiPjxmb250IGNvbG9yPSIjZmYwMDgwIj5QRU5EQU5UPC9mb250PjwvYj48YnIgLz5sZSBwYXNzYWdlIGRhbnMgbGEgZm9uY3Rpb248L2Rpdj48L2Rpdj48L2Rpdj48L2ZvcmVpZ25PYmplY3Q+PHRleHQgeD0iMjI1IiB5PSIyNiIgZmlsbD0iIzAwMDAwMCIgZm9udC1mYW1pbHk9IkhlbHZldGljYSIgZm9udC1zaXplPSIxMnB4IiB0ZXh0LWFuY2hvcj0ibWlkZGxlIj5QRU5EQU5ULi4uPC90ZXh0Pjwvc3dpdGNoPjwvZz48cmVjdCB4PSIxNzAiIHk9IjE1NiIgd2lkdGg9IjExMCIgaGVpZ2h0PSI3MSIgZmlsbD0iI2ZhZDlkNSIgc3Ryb2tlPSIjYWU0MTMyIiBwb2ludGVyLWV2ZW50cz0iYWxsIi8+PHJlY3QgeD0iMTg1IiB5PSIxOTEiIHdpZHRoPSI4MCIgaGVpZ2h0PSIyNiIgZmlsbD0iI2ZmZmZmZiIgc3Ryb2tlPSJub25lIiBwb2ludGVyLWV2ZW50cz0iYWxsIi8+PGcgdHJhbnNmb3JtPSJ0cmFuc2xhdGUoLTAuNSAtMC41KSI+PHN3aXRjaD48Zm9yZWlnbk9iamVjdCBzdHlsZT0ib3ZlcmZsb3c6IHZpc2libGU7IHRleHQtYWxpZ246IGxlZnQ7IiBwb2ludGVyLWV2ZW50cz0ibm9uZSIgd2lkdGg9IjEwMCUiIGhlaWdodD0iMTAwJSIgcmVxdWlyZWRGZWF0dXJlcz0iaHR0cDovL3d3dy53My5vcmcvVFIvU1ZHMTEvZmVhdHVyZSNFeHRlbnNpYmlsaXR5Ij48ZGl2IHhtbG5zPSJodHRwOi8vd3d3LnczLm9yZy8xOTk5L3hodG1sIiBzdHlsZT0iZGlzcGxheTogZmxleDsgYWxpZ24taXRlbXM6IHVuc2FmZSBmbGV4LXN0YXJ0OyBqdXN0aWZ5LWNvbnRlbnQ6IHVuc2FmZSBmbGV4LXN0YXJ0OyB3aWR0aDogODJweDsgaGVpZ2h0OiAyNnB4OyBwYWRkaW5nLXRvcDogMTkxcHg7IG1hcmdpbi1sZWZ0OiAxODVweDsiPjxkaXYgc3R5bGU9ImJveC1zaXppbmc6IGJvcmRlci1ib3g7IGZvbnQtc2l6ZTogMDsgdGV4dC1hbGlnbjogbGVmdDsgd2lkdGg6IDgycHg7IGhlaWdodDogMjZweDsgb3ZlcmZsb3c6IGhpZGRlbjsgIj48ZGl2IHN0eWxlPSJkaXNwbGF5OiBpbmxpbmUtYmxvY2s7IGZvbnQtc2l6ZTogMTJweDsgZm9udC1mYW1pbHk6IEhlbHZldGljYTsgY29sb3I6ICMwMDAwMDA7IGxpbmUtaGVpZ2h0OiAxLjI7IHBvaW50ZXItZXZlbnRzOiBhbGw7IHdpZHRoOiAxMDAlOyBoZWlnaHQ6IDEwMCU7IHdoaXRlLXNwYWNlOiBub3dyYXA7ICI+PHRhYmxlIGJvcmRlcj0iMSIgd2lkdGg9IjEwMCUiIHN0eWxlPSJ3aWR0aDogMTAwJSA7IGhlaWdodDogMTAwJSA7IGJvcmRlci1jb2xsYXBzZTogY29sbGFwc2UiPjx0Ym9keT48dHI+PHRkIGFsaWduPSJjZW50ZXIiPmE8L3RkPjx0ZCBhbGlnbj0iY2VudGVyIj48c3BhbiBzdHlsZT0iYmFja2dyb3VuZC1jb2xvcjogcmdiKDI1NSAsIDI1NSAsIDUxKSI+wqAxwqA8L3NwYW4+PC90ZD48L3RyPjwvdGJvZHk+PC90YWJsZT48L2Rpdj48L2Rpdj48L2Rpdj48L2ZvcmVpZ25PYmplY3Q+PHRleHQgeD0iMTg1IiB5PSIyMDMiIGZpbGw9IiMwMDAwMDAiIGZvbnQtZmFtaWx5PSJIZWx2ZXRpY2EiIGZvbnQtc2l6ZT0iMTJweCI+YcKgMcKgPC90ZXh0Pjwvc3dpdGNoPjwvZz48cmVjdCB4PSIxODEiIHk9IjE2MiIgd2lkdGg9IjkwIiBoZWlnaHQ9IjIwIiBmaWxsPSJub25lIiBzdHJva2U9Im5vbmUiIHBvaW50ZXItZXZlbnRzPSJhbGwiLz48ZyB0cmFuc2Zvcm09InRyYW5zbGF0ZSgtMC41IC0wLjUpIj48c3dpdGNoPjxmb3JlaWduT2JqZWN0IHN0eWxlPSJvdmVyZmxvdzogdmlzaWJsZTsgdGV4dC1hbGlnbjogbGVmdDsiIHBvaW50ZXItZXZlbnRzPSJub25lIiB3aWR0aD0iMTAwJSIgaGVpZ2h0PSIxMDAlIiByZXF1aXJlZEZlYXR1cmVzPSJodHRwOi8vd3d3LnczLm9yZy9UUi9TVkcxMS9mZWF0dXJlI0V4dGVuc2liaWxpdHkiPjxkaXYgeG1sbnM9Imh0dHA6Ly93d3cudzMub3JnLzE5OTkveGh0bWwiIHN0eWxlPSJkaXNwbGF5OiBmbGV4OyBhbGlnbi1pdGVtczogdW5zYWZlIGNlbnRlcjsganVzdGlmeS1jb250ZW50OiB1bnNhZmUgY2VudGVyOyB3aWR0aDogODhweDsgaGVpZ2h0OiAxcHg7IHBhZGRpbmctdG9wOiAxNzJweDsgbWFyZ2luLWxlZnQ6IDE4MnB4OyI+PGRpdiBzdHlsZT0iYm94LXNpemluZzogYm9yZGVyLWJveDsgZm9udC1zaXplOiAwOyB0ZXh0LWFsaWduOiBjZW50ZXI7ICI+PGRpdiBzdHlsZT0iZGlzcGxheTogaW5saW5lLWJsb2NrOyBmb250LXNpemU6IDEycHg7IGZvbnQtZmFtaWx5OiBIZWx2ZXRpY2E7IGNvbG9yOiAjRkYwMDgwOyBsaW5lLWhlaWdodDogMS4yOyBwb2ludGVyLWV2ZW50czogYWxsOyB3aGl0ZS1zcGFjZTogbm9ybWFsOyB3b3JkLXdyYXA6IG5vcm1hbDsgIj48Zm9udD5GT05DVElPTjxiciAvPsKgPGZvbnQgc2l6ZT0iMSIgZmFjZT0iQ291cmllciBOZXciPjxiIHN0eWxlPSJmb250LXNpemU6IDEzcHgiPnRlc3QoPC9iPjwvZm9udD48Zm9udCBmYWNlPSJDb3VyaWVyIE5ldyI+PGI+KTwvYj48L2ZvbnQ+PC9mb250PjwvZGl2PjwvZGl2PjwvZGl2PjwvZm9yZWlnbk9iamVjdD48dGV4dCB4PSIyMjYiIHk9IjE3NiIgZmlsbD0iI0ZGMDA4MCIgZm9udC1mYW1pbHk9IkhlbHZldGljYSIgZm9udC1zaXplPSIxMnB4IiB0ZXh0LWFuY2hvcj0ibWlkZGxlIj5GT05DVElPTi4uLjwvdGV4dD48L3N3aXRjaD48L2c+PHJlY3QgeD0iMzIwIiB5PSI0NyIgd2lkdGg9IjExMCIgaGVpZ2h0PSIxMDAiIGZpbGw9IiNkYWU4ZmMiIHN0cm9rZT0iIzZjOGViZiIgcG9pbnRlci1ldmVudHM9ImFsbCIvPjxyZWN0IHg9IjM1NSIgeT0iNTUiIHdpZHRoPSI0MCIgaGVpZ2h0PSIyMCIgZmlsbD0ibm9uZSIgc3Ryb2tlPSJub25lIiBwb2ludGVyLWV2ZW50cz0iYWxsIi8+PGcgdHJhbnNmb3JtPSJ0cmFuc2xhdGUoLTAuNSAtMC41KSI+PHN3aXRjaD48Zm9yZWlnbk9iamVjdCBzdHlsZT0ib3ZlcmZsb3c6IHZpc2libGU7IHRleHQtYWxpZ246IGxlZnQ7IiBwb2ludGVyLWV2ZW50cz0ibm9uZSIgd2lkdGg9IjEwMCUiIGhlaWdodD0iMTAwJSIgcmVxdWlyZWRGZWF0dXJlcz0iaHR0cDovL3d3dy53My5vcmcvVFIvU1ZHMTEvZmVhdHVyZSNFeHRlbnNpYmlsaXR5Ij48ZGl2IHhtbG5zPSJodHRwOi8vd3d3LnczLm9yZy8xOTk5L3hodG1sIiBzdHlsZT0iZGlzcGxheTogZmxleDsgYWxpZ24taXRlbXM6IHVuc2FmZSBjZW50ZXI7IGp1c3RpZnktY29udGVudDogdW5zYWZlIGNlbnRlcjsgd2lkdGg6IDM4cHg7IGhlaWdodDogMXB4OyBwYWRkaW5nLXRvcDogNjVweDsgbWFyZ2luLWxlZnQ6IDM1NnB4OyI+PGRpdiBzdHlsZT0iYm94LXNpemluZzogYm9yZGVyLWJveDsgZm9udC1zaXplOiAwOyB0ZXh0LWFsaWduOiBjZW50ZXI7ICI+PGRpdiBzdHlsZT0iZGlzcGxheTogaW5saW5lLWJsb2NrOyBmb250LXNpemU6IDEycHg7IGZvbnQtZmFtaWx5OiBIZWx2ZXRpY2E7IGNvbG9yOiAjMDAwMDAwOyBsaW5lLWhlaWdodDogMS4yOyBwb2ludGVyLWV2ZW50czogYWxsOyB3aGl0ZS1zcGFjZTogbm9ybWFsOyB3b3JkLXdyYXA6IG5vcm1hbDsgIj48Zm9udCBjb2xvcj0iIzY2NjZmZiI+UFJPR1JBTU1FwqA8YnIgLz5QUklOQ0lQQUw8L2ZvbnQ+PC9kaXY+PC9kaXY+PC9kaXY+PC9mb3JlaWduT2JqZWN0Pjx0ZXh0IHg9IjM3NSIgeT0iNjkiIGZpbGw9IiMwMDAwMDAiIGZvbnQtZmFtaWx5PSJIZWx2ZXRpY2EiIGZvbnQtc2l6ZT0iMTJweCIgdGV4dC1hbmNob3I9Im1pZGRsZSI+UFJPR1JBLi4uPC90ZXh0Pjwvc3dpdGNoPjwvZz48cmVjdCB4PSIzMTUiIHk9IjEzIiB3aWR0aD0iMTIwIiBoZWlnaHQ9IjIwIiBmaWxsPSJub25lIiBzdHJva2U9Im5vbmUiIHBvaW50ZXItZXZlbnRzPSJhbGwiLz48ZyB0cmFuc2Zvcm09InRyYW5zbGF0ZSgtMC41IC0wLjUpIj48c3dpdGNoPjxmb3JlaWduT2JqZWN0IHN0eWxlPSJvdmVyZmxvdzogdmlzaWJsZTsgdGV4dC1hbGlnbjogbGVmdDsiIHBvaW50ZXItZXZlbnRzPSJub25lIiB3aWR0aD0iMTAwJSIgaGVpZ2h0PSIxMDAlIiByZXF1aXJlZEZlYXR1cmVzPSJodHRwOi8vd3d3LnczLm9yZy9UUi9TVkcxMS9mZWF0dXJlI0V4dGVuc2liaWxpdHkiPjxkaXYgeG1sbnM9Imh0dHA6Ly93d3cudzMub3JnLzE5OTkveGh0bWwiIHN0eWxlPSJkaXNwbGF5OiBmbGV4OyBhbGlnbi1pdGVtczogdW5zYWZlIGNlbnRlcjsganVzdGlmeS1jb250ZW50OiB1bnNhZmUgY2VudGVyOyB3aWR0aDogMTE4cHg7IGhlaWdodDogMXB4OyBwYWRkaW5nLXRvcDogMjNweDsgbWFyZ2luLWxlZnQ6IDMxNnB4OyI+PGRpdiBzdHlsZT0iYm94LXNpemluZzogYm9yZGVyLWJveDsgZm9udC1zaXplOiAwOyB0ZXh0LWFsaWduOiBjZW50ZXI7ICI+PGRpdiBzdHlsZT0iZGlzcGxheTogaW5saW5lLWJsb2NrOyBmb250LXNpemU6IDEycHg7IGZvbnQtZmFtaWx5OiBIZWx2ZXRpY2E7IGNvbG9yOiAjMDAwMDAwOyBsaW5lLWhlaWdodDogMS4yOyBwb2ludGVyLWV2ZW50czogYWxsOyB3aGl0ZS1zcGFjZTogbm9ybWFsOyB3b3JkLXdyYXA6IG5vcm1hbDsgIj48Yj48Zm9udCBjb2xvcj0iIzY2NjZmZiI+QVBSRVM8L2ZvbnQ+PC9iPjxiciAvPmxlIHBhc3NhZ2UgZGFucyBsYSBmb25jdGlvbjwvZGl2PjwvZGl2PjwvZGl2PjwvZm9yZWlnbk9iamVjdD48dGV4dCB4PSIzNzUiIHk9IjI3IiBmaWxsPSIjMDAwMDAwIiBmb250LWZhbWlseT0iSGVsdmV0aWNhIiBmb250LXNpemU9IjEycHgiIHRleHQtYW5jaG9yPSJtaWRkbGUiPkFQUkVTLi4uPC90ZXh0Pjwvc3dpdGNoPjwvZz48cGF0aCBkPSJNIDQwIDEyMiBMIDI1MCAxMjIiIGZpbGw9Im5vbmUiIHN0cm9rZT0iIzAwMDAwMCIgc3Ryb2tlLXdpZHRoPSIyIiBzdHJva2UtbWl0ZXJsaW1pdD0iMTAiIHRyYW5zZm9ybT0icm90YXRlKDkwLDE0NSwxMjIpIiBwb2ludGVyLWV2ZW50cz0iYWxsIi8+PHBhdGggZD0iTSAxOTkgMTIyIEwgNDA5IDEyMiIgZmlsbD0ibm9uZSIgc3Ryb2tlPSIjMDAwMDAwIiBzdHJva2Utd2lkdGg9IjIiIHN0cm9rZS1taXRlcmxpbWl0PSIxMCIgdHJhbnNmb3JtPSJyb3RhdGUoOTAsMzA0LDEyMikiIHBvaW50ZXItZXZlbnRzPSJhbGwiLz48cmVjdCB4PSIxODUiIHk9Ijg3IiB3aWR0aD0iODAiIGhlaWdodD0iNTAiIGZpbGw9IiNmZmZmZmYiIHN0cm9rZT0ibm9uZSIgcG9pbnRlci1ldmVudHM9ImFsbCIvPjxnIHRyYW5zZm9ybT0idHJhbnNsYXRlKC0wLjUgLTAuNSkiPjxzd2l0Y2g+PGZvcmVpZ25PYmplY3Qgc3R5bGU9Im92ZXJmbG93OiB2aXNpYmxlOyB0ZXh0LWFsaWduOiBsZWZ0OyIgcG9pbnRlci1ldmVudHM9Im5vbmUiIHdpZHRoPSIxMDAlIiBoZWlnaHQ9IjEwMCUiIHJlcXVpcmVkRmVhdHVyZXM9Imh0dHA6Ly93d3cudzMub3JnL1RSL1NWRzExL2ZlYXR1cmUjRXh0ZW5zaWJpbGl0eSI+PGRpdiB4bWxucz0iaHR0cDovL3d3dy53My5vcmcvMTk5OS94aHRtbCIgc3R5bGU9ImRpc3BsYXk6IGZsZXg7IGFsaWduLWl0ZW1zOiB1bnNhZmUgZmxleC1zdGFydDsganVzdGlmeS1jb250ZW50OiB1bnNhZmUgZmxleC1zdGFydDsgd2lkdGg6IDgycHg7IGhlaWdodDogNTBweDsgcGFkZGluZy10b3A6IDg3cHg7IG1hcmdpbi1sZWZ0OiAxODVweDsiPjxkaXYgc3R5bGU9ImJveC1zaXppbmc6IGJvcmRlci1ib3g7IGZvbnQtc2l6ZTogMDsgdGV4dC1hbGlnbjogbGVmdDsgd2lkdGg6IDgycHg7IGhlaWdodDogNTBweDsgb3ZlcmZsb3c6IGhpZGRlbjsgIj48ZGl2IHN0eWxlPSJkaXNwbGF5OiBpbmxpbmUtYmxvY2s7IGZvbnQtc2l6ZTogMTJweDsgZm9udC1mYW1pbHk6IEhlbHZldGljYTsgY29sb3I6ICMwMDAwMDA7IGxpbmUtaGVpZ2h0OiAxLjI7IHBvaW50ZXItZXZlbnRzOiBhbGw7IHdpZHRoOiAxMDAlOyBoZWlnaHQ6IDEwMCU7IHdoaXRlLXNwYWNlOiBub3dyYXA7ICI+PHRhYmxlIGJvcmRlcj0iMSIgd2lkdGg9IjEwMCUiIHN0eWxlPSJ3aWR0aDogMTAwJSA7IGhlaWdodDogMTAwJSA7IGJvcmRlci1jb2xsYXBzZTogY29sbGFwc2UiPjx0Ym9keT48dHI+PHRkPnRlc3Q8L3RkPjx0ZD5mdW5jdGlvbjwvdGQ+PC90cj48dHI+PHRkIGFsaWduPSJjZW50ZXIiPmE8L3RkPjx0ZCBhbGlnbj0iY2VudGVyIj4yPC90ZD48L3RyPjwvdGJvZHk+PC90YWJsZT48L2Rpdj48L2Rpdj48L2Rpdj48L2ZvcmVpZ25PYmplY3Q+PHRleHQgeD0iMTg1IiB5PSI5OSIgZmlsbD0iIzAwMDAwMCIgZm9udC1mYW1pbHk9IkhlbHZldGljYSIgZm9udC1zaXplPSIxMnB4Ij50ZXN0ZnVuY3Rpb25hMjwvdGV4dD48L3N3aXRjaD48L2c+PHJlY3QgeD0iMzM1IiB5PSI4NyIgd2lkdGg9IjgwIiBoZWlnaHQ9IjUwIiBmaWxsPSIjZmZmZmZmIiBzdHJva2U9Im5vbmUiIHBvaW50ZXItZXZlbnRzPSJhbGwiLz48ZyB0cmFuc2Zvcm09InRyYW5zbGF0ZSgtMC41IC0wLjUpIj48c3dpdGNoPjxmb3JlaWduT2JqZWN0IHN0eWxlPSJvdmVyZmxvdzogdmlzaWJsZTsgdGV4dC1hbGlnbjogbGVmdDsiIHBvaW50ZXItZXZlbnRzPSJub25lIiB3aWR0aD0iMTAwJSIgaGVpZ2h0PSIxMDAlIiByZXF1aXJlZEZlYXR1cmVzPSJodHRwOi8vd3d3LnczLm9yZy9UUi9TVkcxMS9mZWF0dXJlI0V4dGVuc2liaWxpdHkiPjxkaXYgeG1sbnM9Imh0dHA6Ly93d3cudzMub3JnLzE5OTkveGh0bWwiIHN0eWxlPSJkaXNwbGF5OiBmbGV4OyBhbGlnbi1pdGVtczogdW5zYWZlIGZsZXgtc3RhcnQ7IGp1c3RpZnktY29udGVudDogdW5zYWZlIGZsZXgtc3RhcnQ7IHdpZHRoOiA4MnB4OyBoZWlnaHQ6IDUwcHg7IHBhZGRpbmctdG9wOiA4N3B4OyBtYXJnaW4tbGVmdDogMzM1cHg7Ij48ZGl2IHN0eWxlPSJib3gtc2l6aW5nOiBib3JkZXItYm94OyBmb250LXNpemU6IDA7IHRleHQtYWxpZ246IGxlZnQ7IHdpZHRoOiA4MnB4OyBoZWlnaHQ6IDUwcHg7IG92ZXJmbG93OiBoaWRkZW47ICI+PGRpdiBzdHlsZT0iZGlzcGxheTogaW5saW5lLWJsb2NrOyBmb250LXNpemU6IDEycHg7IGZvbnQtZmFtaWx5OiBIZWx2ZXRpY2E7IGNvbG9yOiAjMDAwMDAwOyBsaW5lLWhlaWdodDogMS4yOyBwb2ludGVyLWV2ZW50czogYWxsOyB3aWR0aDogMTAwJTsgaGVpZ2h0OiAxMDAlOyB3aGl0ZS1zcGFjZTogbm93cmFwOyAiPjx0YWJsZSBib3JkZXI9IjEiIHdpZHRoPSIxMDAlIiBzdHlsZT0id2lkdGg6IDEwMCUgOyBoZWlnaHQ6IDEwMCUgOyBib3JkZXItY29sbGFwc2U6IGNvbGxhcHNlIj48dGJvZHk+PHRyPjx0ZD50ZXN0PC90ZD48dGQ+ZnVuY3Rpb248L3RkPjwvdHI+PHRyPjx0ZCBhbGlnbj0iY2VudGVyIj5hPC90ZD48dGQgYWxpZ249ImNlbnRlciI+MjwvdGQ+PC90cj48L3Rib2R5PjwvdGFibGU+PC9kaXY+PC9kaXY+PC9kaXY+PC9mb3JlaWduT2JqZWN0Pjx0ZXh0IHg9IjMzNSIgeT0iOTkiIGZpbGw9IiMwMDAwMDAiIGZvbnQtZmFtaWx5PSJIZWx2ZXRpY2EiIGZvbnQtc2l6ZT0iMTJweCI+dGVzdGZ1bmN0aW9uYTI8L3RleHQ+PC9zd2l0Y2g+PC9nPjwvZz48c3dpdGNoPjxnIHJlcXVpcmVkRmVhdHVyZXM9Imh0dHA6Ly93d3cudzMub3JnL1RSL1NWRzExL2ZlYXR1cmUjRXh0ZW5zaWJpbGl0eSIvPjxhIHRyYW5zZm9ybT0idHJhbnNsYXRlKDAsLTUpIiB4bGluazpocmVmPSJodHRwczovL2Rlc2suZHJhdy5pby9zdXBwb3J0L3NvbHV0aW9ucy9hcnRpY2xlcy8xNjAwMDA0MjQ4NyIgdGFyZ2V0PSJfYmxhbmsiPjx0ZXh0IHRleHQtYW5jaG9yPSJtaWRkbGUiIGZvbnQtc2l6ZT0iMTBweCIgeD0iNTAlIiB5PSIxMDAlIj5WaWV3ZXIgZG9lcyBub3Qgc3VwcG9ydCBmdWxsIFNWRyAxLjE8L3RleHQ+PC9hPjwvc3dpdGNoPjwvc3ZnPg=="
     ]
    }
   },
   "cell_type": "markdown",
   "id": "8423c128",
   "metadata": {},
   "source": [
    "![Fonction-Tutor1.svg](attachment:Fonction-Tutor1.svg)"
   ]
  },
  {
   "cell_type": "markdown",
   "id": "3b7114d9",
   "metadata": {},
   "source": [
    "## 2e exemple : avec paramètre\n",
    "> **Idem, LE PARAMETRE de la fonction est une variable NON-LIEE au programme principal.**\n",
    "\n",
    "Idem : [une autre visualisation PythonTutor](http://www.pythontutor.com/visualize.html#code=def%20test%28a,b%29%3A%0A%20%20%20%20print%28f%22--%3C%20A%20l'int%C3%A9rieur%20de%20test,%20a%20%3D%20%7Ba%7D%20et%20b%20%3D%20%7Bb%7D%22%29%0A%0A%23%23%23%23%20PGM%20PRINCIPAL%20%23%23%23%23%20%20%20%20%0A%23%20AVANT%20LE%20TEST%0Aa%20%3D%207%0Ab%20%3D%204%0Aprint%28f%22AVANT%20le%20test,%20a%20%3D%20%7Ba%7D%20et%20b%20%3D%20%7Bb%7D%22%29%0A%0A%23%20PENDANT%20%20LE%20TEST%0Atest%28b,a%29%20%23%20remarquer%20l'ordre%20invers%C3%A9%20%3A%20b,a%0A%0A%23%20APRES%20LE%20TEST%0Aprint%28f%22APRES%20le%20test,%20a%20%3D%20%7Ba%7D%20et%20b%20%3D%20%7Bb%7D%22%29&cumulative=false&curInstr=0&heapPrimitives=nevernest&mode=display&origin=opt-frontend.js&py=3&rawInputLstJSON=%5B%5D&textReferences=false) pour le programme ci-dessous"
   ]
  },
  {
   "cell_type": "code",
   "execution_count": null,
   "id": "915de3be",
   "metadata": {},
   "outputs": [],
   "source": [
    "def test(a,b):\n",
    "    print(f\"--< A l'intérieur de test, a = {a} et b = {b}\")\n",
    "\n",
    "#### PGM PRINCIPAL ####    \n",
    "# AVANT LE TEST\n",
    "a = 7\n",
    "b = 4\n",
    "print(f\"AVANT le test, a = {a} et b = {b}\")\n",
    "\n",
    "# PENDANT  LE TEST\n",
    "# remarquer l'ordre inversé : b,a donc c'est test(4,7) qui est appelé\n",
    "test(b,a) \n",
    "\n",
    "# APRES LE TEST\n",
    "print(f\"APRES le test, a = {a} et b = {b}\")"
   ]
  },
  {
   "attachments": {
    "Fonction-Tutor2.svg": {
     "image/svg+xml": [
      "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"
     ]
    }
   },
   "cell_type": "markdown",
   "id": "570408cf",
   "metadata": {},
   "source": [
    "![Fonction-Tutor2.svg](attachment:Fonction-Tutor2.svg)"
   ]
  },
  {
   "cell_type": "markdown",
   "id": "fb75d477",
   "metadata": {},
   "source": [
    "> **Les variables définies dans le corps du programme (sous-entendu : pas à l'intérieur d'une fonction) sont appelées VARIABLES GLOBALES**"
   ]
  },
  {
   "cell_type": "markdown",
   "id": "a26ac48c",
   "metadata": {},
   "source": [
    "# Le mode d'emploi d'une fonction\n",
    "On a vu que le mode d'emploi d'une fonction connue de Python est accessible grâce à la commande `help(print)`."
   ]
  },
  {
   "cell_type": "code",
   "execution_count": 19,
   "id": "355903f6",
   "metadata": {},
   "outputs": [
    {
     "name": "stdout",
     "output_type": "stream",
     "text": [
      "Help on built-in function print in module builtins:\n",
      "\n",
      "print(...)\n",
      "    print(value, ..., sep=' ', end='\\n', file=sys.stdout, flush=False)\n",
      "    \n",
      "    Prints the values to a stream, or to sys.stdout by default.\n",
      "    Optional keyword arguments:\n",
      "    file:  a file-like object (stream); defaults to the current sys.stdout.\n",
      "    sep:   string inserted between values, default a space.\n",
      "    end:   string appended after the last value, default a newline.\n",
      "    flush: whether to forcibly flush the stream.\n",
      "\n"
     ]
    }
   ],
   "source": [
    "help(print)"
   ]
  },
  {
   "cell_type": "markdown",
   "id": "1ba3a5e0",
   "metadata": {},
   "source": [
    "Il est possible, voire souhaitable (dès qu'on créé un code comportant plusieurs fonctions, et/ou qui sera amené à être lu par d'autres personnes), de créer un mode d'emploi pour ses fonctions. \n",
    "On appelle cela écrire la **docstring** ou **documentation** de la fonction, et c'est très simple : il suffit de l'encadrer par des triples double-quotes \"\"\"."
   ]
  },
  {
   "cell_type": "code",
   "execution_count": 22,
   "id": "884b20f5",
   "metadata": {},
   "outputs": [
    {
     "name": "stdout",
     "output_type": "stream",
     "text": [
      "0\n",
      "5\n",
      "10\n",
      "15\n",
      "20\n",
      "25\n",
      "30\n",
      "35\n",
      "40\n",
      "45\n",
      "50\n"
     ]
    }
   ],
   "source": [
    "def table_multiplication(nbre):\n",
    "    \"\"\"\n",
    "    Affiche les 11 premiers multiples de nbre\n",
    "    PARAM\n",
    "    -----\n",
    "    nbre(int) : nombre dont on veut la table\n",
    "    \n",
    "    RETURN\n",
    "    -------\n",
    "    None\n",
    "    \n",
    "    EXEMPLES\n",
    "    --------\n",
    "    >>> table_multiplication(3)\n",
    "    0\n",
    "    3\n",
    "    6\n",
    "    9\n",
    "    12\n",
    "    15\n",
    "    18\n",
    "    21\n",
    "    24\n",
    "    27\n",
    "    30\n",
    "    \"\"\"\n",
    "    for i in range(11) :\n",
    "        print(i*nbre)\n",
    "\n",
    "table_multiplication(5)"
   ]
  },
  {
   "cell_type": "markdown",
   "id": "f717a9d0",
   "metadata": {},
   "source": [
    "# Tester une fonction\n"
   ]
  },
  {
   "attachments": {
    "BY-NC-SA_88x31.png": {
     "image/png": "[encoded data removed]"
    }
   },
   "cell_type": "markdown",
   "id": "b0faad60",
   "metadata": {},
   "source": [
    "Inspiré d'une activité de Mireille Coilhac et d'une activité de Elias Berrabah\n",
    "![BY-NC-SA_88x31.png](attachment:BY-NC-SA_88x31.png)"
   ]
  }
 ],
 "metadata": {
  "kernelspec": {
   "display_name": "Python 3 (ipykernel)",
   "language": "python",
   "name": "python3"
  },
  "language_info": {
   "codemirror_mode": {
    "name": "ipython",
    "version": 3
   },
   "file_extension": ".py",
   "mimetype": "text/x-python",
   "name": "python",
   "nbconvert_exporter": "python",
   "pygments_lexer": "ipython3",
   "version": "3.9.13"
  }
 },
 "nbformat": 4,
 "nbformat_minor": 5
}

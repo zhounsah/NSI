{
 "cells": [
  {
   "cell_type": "markdown",
   "metadata": {},
   "source": [
    "##### Tests et boucles"
   ]
  },
  {
   "cell_type": "markdown",
   "metadata": {
    "slideshow": {
     "slide_type": "slide"
    }
   },
   "source": [
    "# Les conditions `if`"
   ]
  },
  {
   "cell_type": "markdown",
   "metadata": {
    "slideshow": {
     "slide_type": "subslide"
    }
   },
   "source": [
    "Les opérateurs de **tests** sont :\n",
    "\n",
    "|    python    | description |\n",
    "|-------------------|--------|\n",
    "| `x == y` | x est égal à y |\n",
    "|  `x != y`  |  x est différent de y |\n",
    "|    `x > y`       | x est strictement supérieur à y  |\n",
    "|    `x < y`      | x est strictement inférieur à y  |\n",
    "|     `x >= y`      | x est supérieur ou égal à y  |\n",
    "|    `x <= y`      | x est inférieur ou égal à y  |\n",
    "\n"
   ]
  },
  {
   "cell_type": "markdown",
   "metadata": {},
   "source": [
    "Python permet aussi les **encadrements** :\n",
    "```python\n",
    "if 14 <= bac < 16:\n",
    "    print(\"Il s'agit d'une mention : BIEN\")\n",
    "```"
   ]
  },
  {
   "cell_type": "markdown",
   "metadata": {
    "slideshow": {
     "slide_type": "slide"
    }
   },
   "source": [
    "## si .. alors .."
   ]
  },
  {
   "cell_type": "code",
   "execution_count": null,
   "metadata": {
    "slideshow": {
     "slide_type": "fragment"
    }
   },
   "outputs": [],
   "source": [
    "age = int(input(\"votre age ?\"))\n",
    "if age == 16 :\n",
    "    print(f\"Vous êtes probablement en classe de 1ère.\")"
   ]
  },
  {
   "cell_type": "markdown",
   "metadata": {
    "slideshow": {
     "slide_type": "subslide"
    }
   },
   "source": [
    "Noter la distinction entre `=` et `==` :\n",
    "* `=` est une affectation\n",
    "* `==` est un test d'égalité\n",
    "\n",
    "NB : La condition peut être une variable booléenne."
   ]
  },
  {
   "cell_type": "code",
   "execution_count": null,
   "metadata": {},
   "outputs": [],
   "source": [
    "age = int(input(\"votre age ?\"))\n",
    "est_en_1ere = (age == 16) # donne True ou False\n",
    "if est_en_1ere :\n",
    "    print(f\"Vous êtes probablement en classe de 1ère.\")"
   ]
  },
  {
   "cell_type": "markdown",
   "metadata": {
    "slideshow": {
     "slide_type": "slide"
    }
   },
   "source": [
    "## si .. alors .. sinon .."
   ]
  },
  {
   "cell_type": "code",
   "execution_count": null,
   "metadata": {
    "slideshow": {
     "slide_type": "subslide"
    }
   },
   "outputs": [],
   "source": [
    "from random import randint\n",
    "\n",
    "nb = randint(0, 9) # un entier aléatoire entre 0 et 9 (inclus)\n",
    "if nb > 5:\n",
    "    print (nb, \"est un nb strictement supérieur à 5.\")\n",
    "else :\n",
    "    print (nb, \"est un nb inférieur à 5.\")"
   ]
  },
  {
   "cell_type": "markdown",
   "metadata": {},
   "source": [
    "## sinon si ... : `else if` ou `elif`\n",
    "Ces deux structures sont équivalentes :"
   ]
  },
  {
   "cell_type": "code",
   "execution_count": null,
   "metadata": {},
   "outputs": [],
   "source": [
    "if x > 100:\n",
    "    print(\"x est très très grand : x > 100\")\n",
    "else :\n",
    "    if x < 10:\n",
    "        print(\"x est très petit : x < 10\")\n",
    "    else :\n",
    "        print(\"x est moyen : entre 10 et 100.\")"
   ]
  },
  {
   "cell_type": "code",
   "execution_count": null,
   "metadata": {},
   "outputs": [],
   "source": [
    "if x > 100:\n",
    "    print(\"x est très très grand : x > 100\")\n",
    "elif x < 10:\n",
    "    print(\"x est très petit : x < 10\")\n",
    "else :\n",
    "    print(\"x est moyen : entre 10 et 100.\")"
   ]
  },
  {
   "cell_type": "markdown",
   "metadata": {
    "slideshow": {
     "slide_type": "slide"
    }
   },
   "source": [
    "## Opérateurs logiques  `and`  et  `or`"
   ]
  },
  {
   "cell_type": "markdown",
   "metadata": {
    "slideshow": {
     "slide_type": "fragment"
    }
   },
   "source": [
    "Pour combiner des tests, on utilise les **opérateurs logiques** :\n",
    "* `and` est le \"**et**\"\n",
    "* `or` est le \"**ou**\""
   ]
  },
  {
   "cell_type": "code",
   "execution_count": null,
   "metadata": {
    "slideshow": {
     "slide_type": "subslide"
    }
   },
   "outputs": [],
   "source": [
    "### opérateur AND\n",
    "\n",
    "# Afficher les entiers entre 100 et 150\n",
    "# qui sont à la fois des multiples de 3 et 7.\n",
    "for k in range(100,151):\n",
    "    if (k % 3 == 0) and (k % 7 == 0) :\n",
    "        print(k)        "
   ]
  },
  {
   "cell_type": "code",
   "execution_count": null,
   "metadata": {},
   "outputs": [],
   "source": [
    "### opérateur OR\n",
    "\n",
    "rep = input(\"Quel super-héros s'appelle Clark Kent ?\")\n",
    "if (rep == \"superman\") or (rep == \"SUPERMAN\") :\n",
    "    print(\"bravo\")\n",
    "else :\n",
    "    print(\"non\")"
   ]
  },
  {
   "cell_type": "markdown",
   "metadata": {
    "slideshow": {
     "slide_type": "slide"
    }
   },
   "source": [
    "# Boucle conditionnelle `while` (boucle `Tant que`)"
   ]
  },
  {
   "cell_type": "markdown",
   "metadata": {
    "slideshow": {
     "slide_type": "fragment"
    }
   },
   "source": [
    "À la différence essentielle des boucles `for`, dont on peut savoir à l'avance combien de fois elles vont être exécutées, les boucles `while` sont des boucles indéterminées.  \n",
    "Avec donc le **risque** de rester infiniment bloqué à l'intérieur : **la boucle infinie** !!!"
   ]
  },
  {
   "cell_type": "code",
   "execution_count": null,
   "metadata": {
    "slideshow": {
     "slide_type": "fragment"
    }
   },
   "outputs": [],
   "source": [
    "i = 0\n",
    "while i < 10:\n",
    "    print(\"i =\",i)\n",
    "    i = i + 1\n",
    "print(\"C'est fini.\")"
   ]
  },
  {
   "cell_type": "markdown",
   "metadata": {},
   "source": [
    "### Obliger l'utilisateur à entrer un chiffre"
   ]
  },
  {
   "cell_type": "code",
   "execution_count": null,
   "metadata": {},
   "outputs": [],
   "source": [
    "n = \"\" # on commence par affecter n, sinon le test du while sera Error\n",
    "\n",
    "while not (n in \"0123456789\" and len(n)==1):\n",
    "    n = input(\"Entrer un entier :\")"
   ]
  },
  {
   "cell_type": "markdown",
   "metadata": {},
   "source": [
    "### Ne jamais entrer dans la boucle :\n",
    "Si la condition est fausse dès le début alors la boucle ne sera jamais exécutée.  \n",
    "Exemple :"
   ]
  },
  {
   "cell_type": "code",
   "execution_count": null,
   "metadata": {},
   "outputs": [],
   "source": [
    "a = 7\n",
    "while a > 10:\n",
    "    b = 4/0 # cette erreur Python ne sera jamais rencontée"
   ]
  },
  {
   "cell_type": "markdown",
   "metadata": {
    "slideshow": {
     "slide_type": "slide"
    }
   },
   "source": [
    "# Boucle itérative `for` (boucle `Pour`)"
   ]
  },
  {
   "cell_type": "markdown",
   "metadata": {
    "slideshow": {
     "slide_type": "slide"
    }
   },
   "source": [
    "## itérer jusqu'à n"
   ]
  },
  {
   "cell_type": "code",
   "execution_count": null,
   "metadata": {
    "slideshow": {
     "slide_type": "fragment"
    }
   },
   "outputs": [],
   "source": [
    "# On itère de 0 à 4 :\n",
    "for i in range(5) :\n",
    "    print (i)"
   ]
  },
  {
   "cell_type": "markdown",
   "metadata": {
    "slideshow": {
     "slide_type": "fragment"
    }
   },
   "source": [
    "> **`range(6)`** signifie *6 itérations* allant de 0 à 5.   \n",
    "> **`range(n)` : la borne finale `n` est exclue** : de 0 à n-1.  \n",
    "\n",
    "> `range(0)` signifie que le programme ne rentre même pas dans la boucle."
   ]
  },
  {
   "cell_type": "code",
   "execution_count": null,
   "metadata": {},
   "outputs": [],
   "source": [
    "for i in range(0) :\n",
    "    x = 4/0    # range (0) donc cette erreur ne sera même pas rencontrée"
   ]
  },
  {
   "cell_type": "markdown",
   "metadata": {
    "slideshow": {
     "slide_type": "slide"
    }
   },
   "source": [
    "## itérer entre 2 bornes "
   ]
  },
  {
   "cell_type": "code",
   "execution_count": null,
   "metadata": {
    "slideshow": {
     "slide_type": "fragment"
    }
   },
   "outputs": [],
   "source": [
    "# On itère de 4 à 8\n",
    "for i in range(4, 9) :\n",
    "    print (i)"
   ]
  },
  {
   "cell_type": "markdown",
   "metadata": {
    "slideshow": {
     "slide_type": "fragment"
    }
   },
   "source": [
    "Noter que la borne finale est exclue, mais la borne initiale est incluse."
   ]
  },
  {
   "cell_type": "markdown",
   "metadata": {
    "slideshow": {
     "slide_type": "slide"
    }
   },
   "source": [
    "## itération selon un pas"
   ]
  },
  {
   "cell_type": "code",
   "execution_count": null,
   "metadata": {
    "slideshow": {
     "slide_type": "fragment"
    }
   },
   "outputs": [],
   "source": [
    "# On itère de 3 à 22, avec un pas de 5 (càd de 5 en 5) :\n",
    "for i in range(3,23,5) :\n",
    "    print (i)"
   ]
  },
  {
   "cell_type": "markdown",
   "metadata": {
    "slideshow": {
     "slide_type": "fragment"
    }
   },
   "source": [
    "NB : La valeur suivante aurait été 23 mais c'est la borne finale .. donc exclue !!"
   ]
  },
  {
   "cell_type": "markdown",
   "metadata": {
    "slideshow": {
     "slide_type": "slide"
    }
   },
   "source": [
    "## itération décroissante"
   ]
  },
  {
   "cell_type": "code",
   "execution_count": null,
   "metadata": {
    "slideshow": {
     "slide_type": "fragment"
    }
   },
   "outputs": [],
   "source": [
    "# On itère dans le sens décroissant : de 23 à 3 avec un pas de -5 :\n",
    "for i in range(23,3,-5) :\n",
    "    print (i)"
   ]
  },
  {
   "cell_type": "markdown",
   "metadata": {
    "slideshow": {
     "slide_type": "fragment"
    }
   },
   "source": [
    "NB : La valeur suivante aurait été 3 mais encore une fois, c'est la borne finale (exclue)."
   ]
  }
 ],
 "metadata": {
  "celltoolbar": "Format de la Cellule Texte Brut",
  "kernelspec": {
   "display_name": "Python 3 (ipykernel)",
   "language": "python",
   "name": "python3"
  },
  "language_info": {
   "codemirror_mode": {
    "name": "ipython",
    "version": 3
   },
   "file_extension": ".py",
   "mimetype": "text/x-python",
   "name": "python",
   "nbconvert_exporter": "python",
   "pygments_lexer": "ipython3",
   "version": "3.10.6"
  }
 },
 "nbformat": 4,
 "nbformat_minor": 2
}

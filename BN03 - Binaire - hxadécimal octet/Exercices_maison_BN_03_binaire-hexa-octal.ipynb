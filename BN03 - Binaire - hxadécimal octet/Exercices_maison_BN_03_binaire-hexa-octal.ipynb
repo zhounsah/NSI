{
 "cells": [
  {
   "cell_type": "markdown",
   "id": "29b11319",
   "metadata": {},
   "source": [
    "##### Binaire, hexadécimal, octal\n",
    "**Tous les exercices sont à faire à la main.**\n",
    "\n",
    "## Exercice 1 : Du binaire du décimal\n",
    "Compter jusqu'à 10(décimal) en binaire : 0 -> 0, 1 -> 1, 2 -> ..., 3 -> ..., etc.  \n",
    "Convertir en décimal : 0100110  \n",
    "\n",
    "**38**"
   ]
  },
  {
   "cell_type": "markdown",
   "id": "2b2181cf",
   "metadata": {},
   "source": [
    "##  Exercice 2 : Du décimal au binaire\n",
    "Convertir en binaire :\n",
    "- par la méthode de la somme des puissances de 2 : 356 **2^8 + 2^6 + 2^5 + 2^2 ; 11010100\n",
    "- par la méthode des divisions successives 204 : \n",
    "\n",
    "**204/2 = 102 // reste : 0\n",
    "102/2 = 51 // reste : 0\n",
    "51/2 = 25 // reste : 1\n",
    "25/2 = 12 // reste : 1\n",
    "12/2 = 6 // reste : 0\n",
    "6/2 = 3 // reste : 0\n",
    "3/2 = 1 // reste : 1\n",
    "1/2 = 0 // reste : 1**\n",
    "\n",
    "**Résultat : 11001100**"
   ]
  },
  {
   "cell_type": "markdown",
   "id": "2dabc94a",
   "metadata": {},
   "source": [
    "##  Exercice 3 : Addition binaire\n",
    "Faire l'addition binaire suivante : 01 + 01 puis donner l'addition décimale correspondante. **10**  \n",
    "Faire l'addition binaire suivante : 110011 + 111100 **1101111**"
   ]
  },
  {
   "cell_type": "markdown",
   "id": "c565998f",
   "metadata": {},
   "source": [
    "##  Exercice 4 : Hexadécimal\n",
    "On prend le binaire : 00011100.  \n",
    "- Donner son écriture en hexadécimal  \n",
    "- Donner sa valeur en décimal  "
   ]
  },
  {
   "cell_type": "markdown",
   "id": "f4be0b67",
   "metadata": {},
   "source": [
    "##  Exercice 5 : Binaire - Hexadécimal - Décimal\n",
    "On donne la couleur dont le code en hexadécimal est : #6667AB. La convertir en code RVB.  \n",
    "On donne la couleur dont le code RVB est (206,86,126). La convertir en code hexadécimal.  "
   ]
  },
  {
   "cell_type": "markdown",
   "id": "2697f46e",
   "metadata": {},
   "source": [
    "## Octal\n",
    "\n",
    "##  Exercice 6 : Droits Linux\n",
    "Convertir en droits \"rwx\" le droit octal 755 et expliquer les droits conférés.  \n",
    "L'utilisateur d'un fichier souhaite  :\n",
    " - avoir des droits en lecture et en écriture, \n",
    " - donner seulement des droits de lecture au groupe \n",
    " - donner des droits de lecture et d'exécution aux autres.   \n",
    " \n",
    "Quel code en droits octal doit-il choisir ?  "
   ]
  },
  {
   "cell_type": "markdown",
   "id": "6450118b",
   "metadata": {},
   "source": [
    "##  Exercice 7 : Code Ascii\n",
    "En utilisant la table ASCII du BN, décoder le message suivant donné en **hexadécimal** : 42-61-63-5F-32-30-32-34.\n",
    "\n",
    "##  Exercice 8 : Encodage des caractères\n",
    "Chercher ce que sont : la norme ISO-8859-1 et le standard Unicode.\n",
    "Citer leurs avantages et inconvénients par rapport au code ASCII."
   ]
  }
 ],
 "metadata": {
  "kernelspec": {
   "display_name": "Python 3 (ipykernel)",
   "language": "python",
   "name": "python3"
  },
  "language_info": {
   "codemirror_mode": {
    "name": "ipython",
    "version": 3
   },
   "file_extension": ".py",
   "mimetype": "text/x-python",
   "name": "python",
   "nbconvert_exporter": "python",
   "pygments_lexer": "ipython3",
   "version": "3.11.0"
  }
 },
 "nbformat": 4,
 "nbformat_minor": 5
}

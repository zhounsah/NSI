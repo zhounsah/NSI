{
 "cells": [
  {
   "cell_type": "markdown",
   "metadata": {},
   "source": [
    "##### Binaire\n",
    "\n",
    "## Exercice : fonction binaire\n",
    "a/ **QCM :** Une seule des fonctions suivantes renvoie l'écriture binaire de l'entier `n` entré en paramètre.    \n",
    "b/ **Auto-correction :** Lancer le programme : `binaire(243)` doit renvoyer `\"11110011\"`."
   ]
  },
  {
   "cell_type": "code",
   "execution_count": 25,
   "metadata": {},
   "outputs": [],
   "source": [
    "## Réponse A\n",
    "def binaire(n):\n",
    "    mot = \"\"\n",
    "    while n>0 :\n",
    "        n = n // 2\n",
    "        r = n % 2\n",
    "        mot = str(r) + mot\n",
    "    return mot"
   ]
  },
  {
   "cell_type": "code",
   "execution_count": 19,
   "metadata": {},
   "outputs": [],
   "source": [
    "## Réponse B\n",
    "def binaire(n):\n",
    "    mot = \"\"\n",
    "    while n>0 :\n",
    "        n = n // 2\n",
    "        r = n % 2\n",
    "        mot = mot + str(r)\n",
    "    return mot"
   ]
  },
  {
   "cell_type": "code",
   "execution_count": 15,
   "metadata": {},
   "outputs": [],
   "source": [
    "## Réponse C\n",
    "def binaire(n):\n",
    "    mot = \"\"\n",
    "    while n>0 :\n",
    "        r = n % 2\n",
    "        n = n // 2\n",
    "        mot = mot + str(r)\n",
    "    return mot\n"
   ]
  },
  {
   "cell_type": "code",
   "execution_count": 256,
   "metadata": {},
   "outputs": [],
   "source": [
    "## Réponse D\n",
    "def binaire(n):\n",
    "    mot = \"\"\n",
    "    while n>0 :\n",
    "        r = n % 2\n",
    "        n = n // 2\n",
    "        mot = str(r) + mot\n",
    "    return mot"
   ]
  },
  {
   "cell_type": "markdown",
   "metadata": {},
   "source": [
    "## Exercice : boucle infinie\n",
    "a/ **QCM :** Parmi les programmes suivants, un seul n'est pas une boucle infinie, lequel ? D \n",
    "b/ **Auto-correction :** Lancer le programme ... si vous vous trompez, il faudra fermer Carnets et le ré-ouvrir pour libérer le noyau Python."
   ]
  },
  {
   "cell_type": "code",
   "execution_count": null,
   "metadata": {},
   "outputs": [],
   "source": [
    "## Réponse A\n",
    "n = 12\n",
    "while n > 0:\n",
    "    n = n // 2\n",
    "print(n)"
   ]
  },
  {
   "cell_type": "code",
   "execution_count": null,
   "metadata": {},
   "outputs": [],
   "source": [
    "## Réponse B\n",
    "n = 12\n",
    "while n >= 0:\n",
    "    n = n % 2\n",
    "print(n)"
   ]
  },
  {
   "cell_type": "code",
   "execution_count": null,
   "metadata": {},
   "outputs": [],
   "source": [
    "## Réponse C\n",
    "n = 13\n",
    "while n >= 0:\n",
    "    n = n // 2\n",
    "print(n)"
   ]
  },
  {
   "cell_type": "code",
   "execution_count": null,
   "metadata": {},
   "outputs": [],
   "source": [
    "## Réponse D\n",
    "n = 13\n",
    "while n > 0:\n",
    "    n = n % 2\n",
    "print(n)"
   ]
  },
  {
   "cell_type": "markdown",
   "metadata": {},
   "source": [
    "## Exercice : décimal => binaire\n",
    "1°/ a/ **QCM :** Quelle est l'écriture binaire de l'entier 9 sur 4 bits ?    \n",
    " &nbsp; &nbsp;  &nbsp; &nbsp; *A/ 1100  &nbsp; &nbsp; B/ 1011 &nbsp; &nbsp; C/ 1001 &nbsp; &nbsp; D/ on ne peut pas représenter 9 sur 4 bits*  \n",
    " &nbsp; &nbsp; b/ **Auto-correction :** Ecrire et lancer l'instruction `bin(9)`. "
   ]
  },
  {
   "cell_type": "code",
   "execution_count": null,
   "metadata": {},
   "outputs": [],
   "source": [
    "## pour vérifier :\n",
    "C'est la code "
   ]
  },
  {
   "cell_type": "markdown",
   "metadata": {},
   "source": [
    "2°/ a/ **QCM :** Quelle est l'écriture binaire de l'entier 28 sur 1 octet ?    \n",
    " &nbsp; &nbsp;  &nbsp; &nbsp; *A/ 00111100  &nbsp; &nbsp; B/ 00011100 &nbsp; &nbsp; C/ 1101 &nbsp; &nbsp; D/ on ne peut pas représenter 28 sur 1 octet*  \n",
    " &nbsp; &nbsp; b/ **Auto-correction :** Lancer l'instruction `bin(28)` ci-dessus."
   ]
  },
  {
   "cell_type": "markdown",
   "metadata": {},
   "source": [
    "3°/ **QCM :**  Les affirmations suivantes concernent l'écriture binaire d'un entier non signé. Une seule est vraie, laquelle ?  \n",
    "a/ Pour multiplier un entier par 2, il suffit d'ajouter un 0 à droite de son écriture binaire.  \n",
    "b/ Pour multiplier un entier par 2, il suffit d'ajouter un 1 à gauche de son écriture binaire.  \n",
    "c/ Pour additionner 2 entiers, il suffit de concaténer leurs écritures binaires.   \n",
    "d/ L'entier 0 a 2 écritures binaires : `00000000` et `11111111`."
   ]
  },
  {
   "cell_type": "markdown",
   "metadata": {},
   "source": [
    "4°/ **QCM :**  Les affirmations suivantes concernent l'écriture binaire d'un entier non signé. Une seule est vraie, laquelle ?  \n",
    "a/ Sur 4 bits, on peut coder 16 entiers.  \n",
    "b/ Sur 8 bits, l'entier maximum est 256.  \n",
    "c/ Un bit représente 8 octets.   \n",
    "d/ Un byte est 8 octets."
   ]
  },
  {
   "cell_type": "markdown",
   "metadata": {},
   "source": [
    "## Exercice : la capacité d'un disque dur\n",
    "**Pourquoi la taille des disques dur ou clés USB est « toujours fausse » ?**\n",
    "J'ai acheté un disque dur de 320 Go (c'écrit sur la boîte) et en réalité mon système d'exploitation Windows affiche 298 Go.  \n",
    "\n",
    "**Explication (avec calculatrice) :** En fait, le fabricant de disques durs compte avec des puissances de 10 :   \n",
    "> Pour le fabricant de disques durs :  **1&nbsp;Go&nbsp;=&nbsp;10<sup>9</sup>&nbsp;octets&nbsp;=&nbsp;1&nbsp;000&nbsp;000&nbsp;000&nbsp;octets**.\n",
    "\n",
    "Mais Windows compte avec des puissances de 2 (car ce sont des bits mémoire, donc du binaire), et pour éviter la confusion,  Windows devrait noter **Gio** (et non Go) :  \n",
    "> Pour Windows : **1&nbsp;Gio&nbsp;=&nbsp;2<sup>10</sup>&nbsp;octets =&nbsp;1&nbsp;073&nbsp;741&nbsp;824&nbsp;octets**.\n",
    "\n",
    "Par conséquent, le fabricant de disque dur a bien compté :\n",
    "320 Go = 320&nbsp;000&nbsp;000&nbsp;000&nbsp;octets  \n",
    "\n",
    "Mais pour convertir dans l'unité de Windows, on divise par 2<sup>10</sup> (c'est-à-dire 1&nbsp;073&nbsp;741&nbsp;824&nbsp;) :  \n",
    ">320&nbsp;000&nbsp;000&nbsp;000&nbsp;/&nbsp;1&nbsp;073&nbsp;741&nbsp;824&nbsp;=&nbsp;**298 Gio** ... et voilà, tout s'explique !\n",
    "\n",
    "**Pour le fabricant de disque dur :**\n",
    "\n",
    "| Nom       | symbole | valeur                   |\n",
    "|-----------|---------|--------------------------|\n",
    "| kilooctet | Ko      | 10<sup>3</sup> = 1 000 octets             |\n",
    "| megaoctet | Mo      | 10<sup>6</sup> = 1 000 000 octets         |\n",
    "| gigaoctet | Go      | 10<sup>9</sup> = 1 000 000 000 octets     |\n",
    "| teraoctet | To      | 10<sup>12</sup> = 1 000 000 000 000 octets |\n",
    "\n",
    "**Pour Windows :**\n",
    "\n",
    "| symbole | valeur                   |\n",
    "|---------|--------------------------|\n",
    "| Kio      | 2<sup>10</sup> = 1 024 octets             |\n",
    "| Mio      | 2<sup>20</sup> = 1 048 576 octets         |\n",
    "| Gio      | 2<sup>30</sup> =1&nbsp;073&nbsp;741&nbsp;824 octets     |\n",
    "| Tio      | 2<sup>40</sup> = 1 099 511 627 776 octets |\n",
    "\n",
    "Dans notre exemple : Le disque de 320Go apparaît comme 298Go, et la calculatrice affiche 298/320 = 0.93 donc on évalue la « perte » à 7%.  \n",
    "\n",
    "**Questions :**   \n",
    "<span class=\"enonce\">a/ Sur la boite de mon disque dur est écrit : \"capacité : 8 To\". Quelle taille va afficher Windows ?</span> ........  \n",
    "\n",
    "<span class=\"enonce\">b/ Windows affiche une taille de clé USB : 7.45 Gio. Quelle est la capacité notée par le fabricant ?</span> ........\n",
    "\n",
    "<span class=\"enonce\">c/ La « perte » de capacité est-elle constante (à 7%) ou varie-t-elle selon la taille du disque dur ?</span> ........ "
   ]
  },
  {
   "cell_type": "markdown",
   "metadata": {},
   "source": [
    "## Exercice : binaire => décimal\n",
    "1°/ a/ **QCM :** Convertir cette écriture binaire `00101001` en décimal :    \n",
    " &nbsp; &nbsp;  &nbsp; &nbsp; *A/ 29  &nbsp; &nbsp; B/ 25 &nbsp; &nbsp; C/ 21 &nbsp; &nbsp; D/ 41*  \n",
    " &nbsp; &nbsp; b/ **Auto-correction :** Lancer l'instruction `int(\"00101001\",2)` ci-dessous. Ou bien l'évaluation de  `0b00101001`"
   ]
  },
  {
   "cell_type": "code",
   "execution_count": 257,
   "metadata": {},
   "outputs": [
    {
     "data": {
      "text/plain": [
       "41"
      ]
     },
     "execution_count": 257,
     "metadata": {},
     "output_type": "execute_result"
    }
   ],
   "source": [
    "0b00101001"
   ]
  },
  {
   "cell_type": "markdown",
   "metadata": {},
   "source": [
    "2°/ a/ **QCM :** Convertir cette écriture binaire `1111111` en décimal :    \n",
    " &nbsp; &nbsp;  &nbsp; &nbsp; *A/ 128  &nbsp; &nbsp; B/ 127 &nbsp; &nbsp; C/ 256 &nbsp; &nbsp; D/ 128*  \n",
    " &nbsp; &nbsp; b/ **Auto-correction :** Lancer l'instruction `int(\"1111111\",2)` ou `0b1111111` ci-dessus."
   ]
  },
  {
   "cell_type": "markdown",
   "metadata": {},
   "source": [
    "## Exercice : addition binaire\n",
    "1°/ a/ **QCM :** Calculer en écriture binaire cette somme : `0011011` + `00101111` :    \n",
    " &nbsp; &nbsp;  &nbsp; &nbsp; *A/ 111001  &nbsp; &nbsp; B/ 1000000 &nbsp; &nbsp; C/ 1001000 &nbsp; &nbsp; D/ 1001010*  \n",
    " &nbsp; &nbsp; b/ **Auto-correction :** Lancer l'instruction `bin(0b0011011 + 0b00101111)` ci-dessous."
   ]
  },
  {
   "cell_type": "code",
   "execution_count": 258,
   "metadata": {},
   "outputs": [
    {
     "data": {
      "text/plain": [
       "'0b1001010'"
      ]
     },
     "execution_count": 258,
     "metadata": {},
     "output_type": "execute_result"
    }
   ],
   "source": [
    "bin(0b0011011 + 0b00101111)"
   ]
  },
  {
   "cell_type": "markdown",
   "metadata": {},
   "source": [
    "2°/ a/ **QCM :** Calculer en écriture binaire cette somme : `0011110` + `01101110` :    \n",
    " &nbsp; &nbsp;  &nbsp; &nbsp; *A/ 1100110  &nbsp; &nbsp; B/ 10000110 &nbsp; &nbsp; C/ 10001100 &nbsp; &nbsp; D/ 10001010*  \n",
    " &nbsp; &nbsp; b/ **Auto-correction :** Lancer l'instruction `bin(0b0011110 + 0b01101110)` ci-dessous."
   ]
  },
  {
   "cell_type": "code",
   "execution_count": 259,
   "metadata": {},
   "outputs": [
    {
     "data": {
      "text/plain": [
       "'0b10001100'"
      ]
     },
     "execution_count": 259,
     "metadata": {},
     "output_type": "execute_result"
    }
   ],
   "source": [
    "bin(0b0011110 + 0b01101110)"
   ]
  },
  {
   "cell_type": "markdown",
   "metadata": {},
   "source": [
    "# Hexadécimal\n",
    "## Exercice : binaire <=> hexadécimal\n",
    "1°/ a/ **QCM :** Convertir cette écriture binaire `01111001` en hexadécimal :    \n",
    " &nbsp; &nbsp;  &nbsp; &nbsp; *A/ 79  &nbsp; &nbsp; B/ A9 &nbsp; &nbsp; C/ 121 &nbsp; &nbsp; D/ on ne peut pas écrire `01111001` en hexadécimal*  \n",
    " &nbsp; &nbsp; b/ **Auto-correction :** Lancer l'évaluation `hex(0b1111001)` ci-dessous."
   ]
  },
  {
   "cell_type": "code",
   "execution_count": 260,
   "metadata": {},
   "outputs": [
    {
     "data": {
      "text/plain": [
       "'0x79'"
      ]
     },
     "execution_count": 260,
     "metadata": {},
     "output_type": "execute_result"
    }
   ],
   "source": [
    "hex(0b1111001)"
   ]
  },
  {
   "cell_type": "markdown",
   "metadata": {},
   "source": [
    "2°/ a/ **QCM :** Convertir cette écriture binaire `11110110001` en hexadécimal :    \n",
    " &nbsp; &nbsp;  &nbsp; &nbsp; *A/ B1  &nbsp; &nbsp; B/ 7B1 &nbsp; &nbsp; C/ 91 &nbsp; &nbsp; D/ aucune des réponses précédentes*  \n",
    " &nbsp; &nbsp; b/ **Auto-correction :** Lancer l'instruction `hex(0b11110110001)` ci-dessous."
   ]
  },
  {
   "cell_type": "code",
   "execution_count": 261,
   "metadata": {},
   "outputs": [
    {
     "data": {
      "text/plain": [
       "'0x7b1'"
      ]
     },
     "execution_count": 261,
     "metadata": {},
     "output_type": "execute_result"
    }
   ],
   "source": [
    "hex(0b11110110001)"
   ]
  },
  {
   "cell_type": "markdown",
   "metadata": {},
   "source": [
    "3°/ a/ **QCM :** Convertir cette écriture hexadécimale `4FA2` en binaire :    \n",
    " &nbsp; &nbsp;  &nbsp; &nbsp; *A/ 100111110100010  &nbsp; &nbsp; B/ 100111010100001 &nbsp; &nbsp; C/ 1000111110100010 &nbsp; &nbsp; D/ aucune des réponses précédentes*  \n",
    " &nbsp; &nbsp; b/ **Auto-correction :** Lancer l'évaluation `bin(0x4FA2)` ci-dessous."
   ]
  },
  {
   "cell_type": "code",
   "execution_count": 262,
   "metadata": {},
   "outputs": [
    {
     "data": {
      "text/plain": [
       "'0b100111110100010'"
      ]
     },
     "execution_count": 262,
     "metadata": {},
     "output_type": "execute_result"
    }
   ],
   "source": [
    "bin(0x4FA2)"
   ]
  },
  {
   "cell_type": "markdown",
   "metadata": {},
   "source": [
    "4°/ a/ **QCM :** Convertir cette écriture hexadécimale `2004` en binaire :    \n",
    " &nbsp; &nbsp;  &nbsp; &nbsp; *A/ 0010000000000001  &nbsp; &nbsp; B/ 10000000000010 &nbsp; &nbsp; C/ 10000000000100 &nbsp; &nbsp; D/ aucune des réponses précédentes*  \n",
    " &nbsp; &nbsp; b/ **Auto-correction :** Lancer l'évaluation `bin(0x2004)` ci-dessous."
   ]
  },
  {
   "cell_type": "code",
   "execution_count": 263,
   "metadata": {},
   "outputs": [
    {
     "data": {
      "text/plain": [
       "'0b10000000000100'"
      ]
     },
     "execution_count": 263,
     "metadata": {},
     "output_type": "execute_result"
    }
   ],
   "source": [
    "bin(0x2004)"
   ]
  },
  {
   "cell_type": "markdown",
   "metadata": {},
   "source": [
    "## Exercice : décimal <=> hexadécimal\n",
    "**QCM :** Quel calcul permet de convertir l'écriture hexadécimale `C35A` en décimal :    \n",
    " &nbsp; &nbsp;  &nbsp; &nbsp; A/ 11x16<sup>3</sup> + 3x16<sup>2</sup> + 5x16<sup>1</sup> + 10x16<sup>0</sup>  \n",
    " &nbsp; &nbsp; &nbsp; &nbsp;  B/ 12x16<sup>3</sup> + 3x16<sup>2</sup> + 5x16<sup>1</sup> + 10x16  \n",
    " &nbsp; &nbsp; &nbsp; &nbsp;  C/ 11x16<sup>1</sup> + 3x16<sup>2</sup> + 5x16<sup>3</sup> + 10x16<sup>4</sup>  \n",
    " &nbsp; &nbsp; &nbsp; &nbsp;  D/ 12x16<sup>1</sup> + 3x16<sup>2</sup> + 5x16<sup>3</sup> + 10x16    "
   ]
  },
  {
   "cell_type": "markdown",
   "metadata": {},
   "source": [
    "## Exercice : les couleurs\n",
    " **QCM :**  Les affirmations suivantes concernent l'écriture hexadécimale d'une couleur RVB sous la forme `#xxxxxx`.  \n",
    " Une seule proposition est vraie, laquelle ?  \n",
    " \n",
    "a/ #FF0000 est une teinte bleue.  \n",
    "b/ #414141 est une teinte de couleur grise.  \n",
    "c/ On peut coder au maximum 2<sup>6</sup> couleurs dans ce système de couleur.  \n",
    "d/ #000000 signifie que la couleur est transparente.  "
   ]
  },
  {
   "cell_type": "markdown",
   "metadata": {},
   "source": [
    "# Octal\n",
    "## Exercice : algo décimal => octal\n",
    "a/ **QCM :** Une seule des fonctions suivantes renvoie l'écriture octale de l'entier `n` entré en paramètre.    \n",
    "b/ **Auto-correction :** Lancer le programme : `octal(243)` doit renvoyer `\"363\"`."
   ]
  },
  {
   "cell_type": "code",
   "execution_count": 1,
   "metadata": {},
   "outputs": [
    {
     "ename": "TypeError",
     "evalue": "unsupported operand type(s) for //: 'str' and 'int'",
     "output_type": "error",
     "traceback": [
      "\u001b[1;31m---------------------------------------------------------------------------\u001b[0m",
      "\u001b[1;31mTypeError\u001b[0m                                 Traceback (most recent call last)",
      "Input \u001b[1;32mIn [1]\u001b[0m, in \u001b[0;36m<cell line: 11>\u001b[1;34m()\u001b[0m\n\u001b[0;32m      8\u001b[0m         n \u001b[38;5;241m=\u001b[39m q\n\u001b[0;32m      9\u001b[0m     \u001b[38;5;28;01mreturn\u001b[39;00m mot\n\u001b[1;32m---> 11\u001b[0m \u001b[43moctal\u001b[49m\u001b[43m(\u001b[49m\u001b[38;5;124;43m'\u001b[39;49m\u001b[38;5;124;43m5\u001b[39;49m\u001b[38;5;124;43m'\u001b[39;49m\u001b[43m)\u001b[49m\n",
      "Input \u001b[1;32mIn [1]\u001b[0m, in \u001b[0;36moctal\u001b[1;34m(n)\u001b[0m\n\u001b[0;32m      3\u001b[0m mot \u001b[38;5;241m=\u001b[39m \u001b[38;5;124m\"\u001b[39m\u001b[38;5;124m\"\u001b[39m\n\u001b[0;32m      4\u001b[0m \u001b[38;5;28;01mwhile\u001b[39;00m n \u001b[38;5;241m!=\u001b[39m \u001b[38;5;241m0\u001b[39m:\n\u001b[1;32m----> 5\u001b[0m     q \u001b[38;5;241m=\u001b[39m \u001b[43mn\u001b[49m\u001b[43m \u001b[49m\u001b[38;5;241;43m/\u001b[39;49m\u001b[38;5;241;43m/\u001b[39;49m\u001b[43m \u001b[49m\u001b[38;5;241;43m8\u001b[39;49m\n\u001b[0;32m      6\u001b[0m     r \u001b[38;5;241m=\u001b[39m n \u001b[38;5;241m%\u001b[39m \u001b[38;5;241m8\u001b[39m\n\u001b[0;32m      7\u001b[0m     mot \u001b[38;5;241m=\u001b[39m \u001b[38;5;28mstr\u001b[39m(r) \u001b[38;5;241m+\u001b[39m mot\n",
      "\u001b[1;31mTypeError\u001b[0m: unsupported operand type(s) for //: 'str' and 'int'"
     ]
    }
   ],
   "source": [
    "## Réponse A\n",
    "def octal(n):\n",
    "    mot = \"\"\n",
    "    while n != 0:\n",
    "        q = n // 8\n",
    "        r = n % 8\n",
    "        mot = str(r) + mot\n",
    "        n = q\n",
    "    return mot\n",
    "\n",
    "octal('5')"
   ]
  },
  {
   "cell_type": "code",
   "execution_count": 10,
   "metadata": {},
   "outputs": [
    {
     "ename": "TypeError",
     "evalue": "unsupported operand type(s) for //: 'str' and 'int'",
     "output_type": "error",
     "traceback": [
      "\u001b[1;31m---------------------------------------------------------------------------\u001b[0m",
      "\u001b[1;31mTypeError\u001b[0m                                 Traceback (most recent call last)",
      "Input \u001b[1;32mIn [10]\u001b[0m, in \u001b[0;36m<cell line: 11>\u001b[1;34m()\u001b[0m\n\u001b[0;32m      8\u001b[0m         n \u001b[38;5;241m=\u001b[39m q\n\u001b[0;32m      9\u001b[0m     \u001b[38;5;28;01mreturn\u001b[39;00m mot\n\u001b[1;32m---> 11\u001b[0m \u001b[43moctal\u001b[49m\u001b[43m(\u001b[49m\u001b[38;5;124;43m'\u001b[39;49m\u001b[38;5;124;43m4\u001b[39;49m\u001b[38;5;124;43m'\u001b[39;49m\u001b[43m)\u001b[49m\n",
      "Input \u001b[1;32mIn [10]\u001b[0m, in \u001b[0;36moctal\u001b[1;34m(n)\u001b[0m\n\u001b[0;32m      3\u001b[0m mot \u001b[38;5;241m=\u001b[39m \u001b[38;5;124m\"\u001b[39m\u001b[38;5;124m\"\u001b[39m\n\u001b[0;32m      4\u001b[0m \u001b[38;5;28;01mwhile\u001b[39;00m n \u001b[38;5;241m!=\u001b[39m \u001b[38;5;241m0\u001b[39m:\n\u001b[1;32m----> 5\u001b[0m     q \u001b[38;5;241m=\u001b[39m \u001b[43mn\u001b[49m\u001b[43m \u001b[49m\u001b[38;5;241;43m/\u001b[39;49m\u001b[38;5;241;43m/\u001b[39;49m\u001b[43m \u001b[49m\u001b[38;5;241;43m8\u001b[39;49m\n\u001b[0;32m      6\u001b[0m     r \u001b[38;5;241m=\u001b[39m n \u001b[38;5;241m%\u001b[39m \u001b[38;5;241m16\u001b[39m\n\u001b[0;32m      7\u001b[0m     mot \u001b[38;5;241m=\u001b[39m mot \u001b[38;5;241m+\u001b[39m \u001b[38;5;28mstr\u001b[39m(r)\n",
      "\u001b[1;31mTypeError\u001b[0m: unsupported operand type(s) for //: 'str' and 'int'"
     ]
    }
   ],
   "source": [
    "## Réponse B\n",
    "def octal(n):\n",
    "    mot = \"\"\n",
    "    while n != 0:\n",
    "        q = n // 8\n",
    "        r = n % 16\n",
    "        mot = mot + str(r)\n",
    "        n = q\n",
    "    return mot\n",
    "\n",
    "octal('4')"
   ]
  },
  {
   "cell_type": "code",
   "execution_count": 7,
   "metadata": {},
   "outputs": [
    {
     "ename": "TypeError",
     "evalue": "'>' not supported between instances of 'str' and 'int'",
     "output_type": "error",
     "traceback": [
      "\u001b[1;31m---------------------------------------------------------------------------\u001b[0m",
      "\u001b[1;31mTypeError\u001b[0m                                 Traceback (most recent call last)",
      "Input \u001b[1;32mIn [7]\u001b[0m, in \u001b[0;36m<cell line: 11>\u001b[1;34m()\u001b[0m\n\u001b[0;32m      8\u001b[0m         n \u001b[38;5;241m=\u001b[39m q\n\u001b[0;32m      9\u001b[0m     \u001b[38;5;28;01mreturn\u001b[39;00m mot\n\u001b[1;32m---> 11\u001b[0m \u001b[43moctal\u001b[49m\u001b[43m(\u001b[49m\u001b[38;5;124;43m'\u001b[39;49m\u001b[38;5;124;43m5\u001b[39;49m\u001b[38;5;124;43m'\u001b[39;49m\u001b[43m)\u001b[49m\n",
      "Input \u001b[1;32mIn [7]\u001b[0m, in \u001b[0;36moctal\u001b[1;34m(n)\u001b[0m\n\u001b[0;32m      2\u001b[0m \u001b[38;5;28;01mdef\u001b[39;00m \u001b[38;5;21moctal\u001b[39m(n):\n\u001b[0;32m      3\u001b[0m     mot \u001b[38;5;241m=\u001b[39m \u001b[38;5;124m\"\u001b[39m\u001b[38;5;124m\"\u001b[39m\n\u001b[1;32m----> 4\u001b[0m     \u001b[38;5;28;01mwhile\u001b[39;00m \u001b[43mn\u001b[49m\u001b[43m \u001b[49m\u001b[38;5;241;43m>\u001b[39;49m\u001b[43m \u001b[49m\u001b[38;5;241;43m0\u001b[39;49m:\n\u001b[0;32m      5\u001b[0m         q \u001b[38;5;241m=\u001b[39m n \u001b[38;5;241m/\u001b[39m\u001b[38;5;241m/\u001b[39m \u001b[38;5;241m16\u001b[39m\n\u001b[0;32m      6\u001b[0m         r \u001b[38;5;241m=\u001b[39m n \u001b[38;5;241m%\u001b[39m \u001b[38;5;241m16\u001b[39m\n",
      "\u001b[1;31mTypeError\u001b[0m: '>' not supported between instances of 'str' and 'int'"
     ]
    }
   ],
   "source": [
    "## Réponse C\n",
    "def octal(n):\n",
    "    mot = \"\"\n",
    "    while n > 0:\n",
    "        q = n // 16\n",
    "        r = n % 16\n",
    "        mot = str(r)\n",
    "        n = q\n",
    "    return mot\n",
    "\n",
    "octal('5')"
   ]
  },
  {
   "cell_type": "code",
   "execution_count": 4,
   "metadata": {},
   "outputs": [
    {
     "ename": "TypeError",
     "evalue": "'>' not supported between instances of 'str' and 'int'",
     "output_type": "error",
     "traceback": [
      "\u001b[1;31m---------------------------------------------------------------------------\u001b[0m",
      "\u001b[1;31mTypeError\u001b[0m                                 Traceback (most recent call last)",
      "Input \u001b[1;32mIn [4]\u001b[0m, in \u001b[0;36m<cell line: 10>\u001b[1;34m()\u001b[0m\n\u001b[0;32m      7\u001b[0m         n \u001b[38;5;241m=\u001b[39m n \u001b[38;5;241m/\u001b[39m\u001b[38;5;241m/\u001b[39m \u001b[38;5;241m8\u001b[39m\n\u001b[0;32m      8\u001b[0m     \u001b[38;5;28;01mreturn\u001b[39;00m mot\n\u001b[1;32m---> 10\u001b[0m \u001b[43moctal\u001b[49m\u001b[43m(\u001b[49m\u001b[38;5;124;43m'\u001b[39;49m\u001b[38;5;124;43m5\u001b[39;49m\u001b[38;5;124;43m'\u001b[39;49m\u001b[43m)\u001b[49m\n",
      "Input \u001b[1;32mIn [4]\u001b[0m, in \u001b[0;36moctal\u001b[1;34m(n)\u001b[0m\n\u001b[0;32m      2\u001b[0m \u001b[38;5;28;01mdef\u001b[39;00m \u001b[38;5;21moctal\u001b[39m(n):\n\u001b[0;32m      3\u001b[0m     mot \u001b[38;5;241m=\u001b[39m \u001b[38;5;124m\"\u001b[39m\u001b[38;5;124m\"\u001b[39m\n\u001b[1;32m----> 4\u001b[0m     \u001b[38;5;28;01mwhile\u001b[39;00m \u001b[43mn\u001b[49m\u001b[43m \u001b[49m\u001b[38;5;241;43m>\u001b[39;49m\u001b[43m \u001b[49m\u001b[38;5;241;43m0\u001b[39;49m:\n\u001b[0;32m      5\u001b[0m         r \u001b[38;5;241m=\u001b[39m n \u001b[38;5;241m%\u001b[39m \u001b[38;5;241m8\u001b[39m\n\u001b[0;32m      6\u001b[0m         mot \u001b[38;5;241m=\u001b[39m \u001b[38;5;28mstr\u001b[39m(r)\n",
      "\u001b[1;31mTypeError\u001b[0m: '>' not supported between instances of 'str' and 'int'"
     ]
    }
   ],
   "source": [
    "## Réponse D\n",
    "def octal(n):\n",
    "    mot = \"\"\n",
    "    while n > 0:\n",
    "        r = n % 8\n",
    "        mot = str(r)\n",
    "        n = n // 8\n",
    "    return mot\n",
    "\n",
    "octal('5')"
   ]
  },
  {
   "cell_type": "markdown",
   "metadata": {},
   "source": [
    "## Exercice : droits linux\n",
    "1°/  **QCM :**  Les droits d'un fichier linux sont : 671.\n",
    "\n",
    "a/ L'utilisateur a le droit d'exécuter ce fichier.  \n",
    "b/ Le groupe n'a pas le droit de modifier ce fichier.  \n",
    "c/ Les autres personnes ont le droit de lecture.  \n",
    "d/ Les autres personnes ont le droit d'exécuter ce fichier.  \n",
    "\n",
    "---\n",
    "\n",
    "2°/  **QCM :** Les droits d'un fichier linux sont : 540.\n",
    "\n",
    "a/ L'utilisateur a le droit d'exécuter ce fichier.  \n",
    "b/ L'utilisateur a le droit de modifier ce fichier.  \n",
    "c/ Le groupe a le droit de modifier ce fichier.  \n",
    "d/ Les autres personnes ont le droit de lecture.  "
   ]
  },
  {
   "cell_type": "raw",
   "metadata": {},
   "source": []
  }
 ],
 "metadata": {
  "kernelspec": {
   "display_name": "Python 3 (ipykernel)",
   "language": "python",
   "name": "python3"
  },
  "language_info": {
   "codemirror_mode": {
    "name": "ipython",
    "version": 3
   },
   "file_extension": ".py",
   "mimetype": "text/x-python",
   "name": "python",
   "nbconvert_exporter": "python",
   "pygments_lexer": "ipython3",
   "version": "3.11.0"
  }
 },
 "nbformat": 4,
 "nbformat_minor": 4
}

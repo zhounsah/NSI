{
 "cells": [
  {
   "cell_type": "markdown",
   "id": "29b11319",
   "metadata": {},
   "source": [
    "##### Binaire, hexadécimal, octal\n",
    "**Tous les exercices sont à faire à la main.**\n",
    "\n",
    "## Exercice 1 : Du binaire du décimal\n",
    "Compter jusqu'à 10(décimal) en binaire : 0 -> 0, 1 -> 1, 2 -> ..., 3 -> ..., etc.  \n",
    "Convertir en décimal : 0100110  "
   ]
  },
  {
   "cell_type": "code",
   "execution_count": 8,
   "id": "3dbe72c4",
   "metadata": {
    "scrolled": true
   },
   "outputs": [
    {
     "name": "stdout",
     "output_type": "stream",
     "text": [
      "0b0\n",
      "0b1\n",
      "0b10\n",
      "0b11\n",
      "0b100\n",
      "0b101\n",
      "0b110\n",
      "0b111\n",
      "0b1000\n",
      "0b1001\n",
      "0b1010\n"
     ]
    }
   ],
   "source": [
    "for i in range(11):\n",
    "    print(bin(i))"
   ]
  },
  {
   "cell_type": "code",
   "execution_count": 2,
   "id": "d9c07494",
   "metadata": {},
   "outputs": [
    {
     "name": "stdout",
     "output_type": "stream",
     "text": [
      "38\n"
     ]
    }
   ],
   "source": [
    "print(int(\"0100110\", 2))"
   ]
  },
  {
   "cell_type": "markdown",
   "id": "2b2181cf",
   "metadata": {},
   "source": [
    "##  Exercice 2 : Du décimal au binaire\n",
    "Convertir en binaire :\n",
    "- par la méthode de la somme des puissances de 2 : 356  \n",
    "- par la méthode des divisions successives 204  "
   ]
  },
  {
   "cell_type": "code",
   "execution_count": 49,
   "id": "e707a76b",
   "metadata": {},
   "outputs": [
    {
     "data": {
      "text/plain": [
       "'101100100'"
      ]
     },
     "execution_count": 49,
     "metadata": {},
     "output_type": "execute_result"
    }
   ],
   "source": [
    "def binaire1(n):\n",
    "    if n == 0:\n",
    "        return \"\"\n",
    "    mot = \"1\"\n",
    "    p = 0\n",
    "    #On cherche la puissance de 2 la plus élevée dans n\n",
    "    while 2**(p+1) <= n:\n",
    "        p += 1\n",
    "    n = n - 2**p\n",
    "    loop = p - 1\n",
    "    for i in range(p):\n",
    "        if n >= 2**loop:\n",
    "            mot += \"1\"\n",
    "            n = n - 2**loop\n",
    "        else:\n",
    "            mot += \"0\"\n",
    "        loop = loop - 1\n",
    "    return mot\n",
    "binaire1(356)"
   ]
  },
  {
   "cell_type": "code",
   "execution_count": 53,
   "id": "0ab122c9",
   "metadata": {},
   "outputs": [
    {
     "data": {
      "text/plain": [
       "'11001100'"
      ]
     },
     "execution_count": 53,
     "metadata": {},
     "output_type": "execute_result"
    }
   ],
   "source": [
    "def binaire2(n):\n",
    "    reste = 0\n",
    "    mot = \"\"\n",
    "    while n != 0:\n",
    "        reste = n % 2\n",
    "        n = n // 2\n",
    "        mot = str(reste) + mot\n",
    "    return mot\n",
    "binaire2(204)"
   ]
  },
  {
   "cell_type": "markdown",
   "id": "2dabc94a",
   "metadata": {},
   "source": [
    "##  Exercice 3 : Addition binaire\n",
    "Faire l'addition binaire suivante : 01 + 01 puis donner l'addition décimale correspondante. \n",
    "10  \n",
    "Faire l'addition binaire suivante : 110011 + 111100 = 1101111"
   ]
  },
  {
   "cell_type": "markdown",
   "id": "c565998f",
   "metadata": {},
   "source": [
    "##  Exercice 4 : Hexadécimal\n",
    "On prend le binaire : 00011100.  \n",
    "- Donner son écriture en hexadécimal 1C  \n",
    "- Donner sa valeur en décimal 28  "
   ]
  },
  {
   "cell_type": "markdown",
   "id": "f4be0b67",
   "metadata": {},
   "source": [
    "##  Exercice 5 : Binaire - Hexadécimal - Décimal\n",
    "On donne la couleur dont le code en hexadécimal est : #6667AB. La convertir en code RVB.  \n",
    "66 = 01100110 = 2 + 4 + 32 + 64 = 102  \n",
    "67 = 01100111 = 1 + 2 + 4 + 32 + 64 = 103  \n",
    "AB = 11001101 = 1 + 4 + 8 + 64 + 128 = 205  \n",
    "\n",
    "On donne la couleur dont le code RVB est (206,86,126). La convertir en code hexadécimal.  \n",
    "206 = 11001110 = 2 + 4 + 8 + 64 + 128 = AC  \n",
    "86  = 01010110 = 2 + 4 + 16 + 64 = 56  \n",
    "126 = 01111110 = 2 + 4 + 8 + 16 + 32 + 64 = 7E  "
   ]
  },
  {
   "cell_type": "markdown",
   "id": "2697f46e",
   "metadata": {},
   "source": [
    "## Octal\n",
    "\n",
    "##  Exercice 6 : Droits Linux\n",
    "Convertir en droits \"rwx\" le droit octal 755 et expliquer les droits conférés.  \n",
    "0 111 101 101  \n",
    "f rwx r0x r0x  \n",
    "fichier  \n",
    "proprio : lire, ecrire, executer  \n",
    "groupe : lire, executer  \n",
    "others : lire, executer  \n",
    "L'utilisateur d'un fichier souhaite  :\n",
    " - avoir des droits en lecture et en écriture, \n",
    " - donner seulement des droits de lecture au groupe \n",
    " - donner des droits de lecture et d'exécution aux autres.   \n",
    "0 110 100 101 en binaire  \n",
    "Quel code en droits octal doit-il choisir ? 645  en octal"
   ]
  },
  {
   "cell_type": "markdown",
   "id": "6450118b",
   "metadata": {},
   "source": [
    "##  Exercice 7 : Code Ascii\n",
    "En utilisant la table ASCII du BN, décoder le message suivant donné en **hexadécimal** : 42-61-63-5F-32-30-32-34  \n",
    "Bac_2023  \n",
    "##  Exercice 8 : Encodage des caractères\n",
    "Chercher ce que sont : la norme ISO-8859-1 et le standard Unicode.  \n",
    "codage des caracteres imprimables de l'US ASCII  \n",
    "Unicode jeu de caracteres universel\n",
    "Citer leurs avantages et inconvénients par rapport au code ASCII.  \n",
    "ASCII :\n",
    "-seulement 255 caracteres  \n",
    "-mais tres standardisé\n",
    "UNICODE :\n",
    "-tous les caracteres\n",
    "-peu standardise"
   ]
  },
  {
   "cell_type": "code",
   "execution_count": null,
   "id": "33672e5f",
   "metadata": {},
   "outputs": [],
   "source": []
  }
 ],
 "metadata": {
  "kernelspec": {
   "display_name": "Python 3 (ipykernel)",
   "language": "python",
   "name": "python3"
  },
  "language_info": {
   "codemirror_mode": {
    "name": "ipython",
    "version": 3
   },
   "file_extension": ".py",
   "mimetype": "text/x-python",
   "name": "python",
   "nbconvert_exporter": "python",
   "pygments_lexer": "ipython3",
   "version": "3.11.0"
  }
 },
 "nbformat": 4,
 "nbformat_minor": 5
}

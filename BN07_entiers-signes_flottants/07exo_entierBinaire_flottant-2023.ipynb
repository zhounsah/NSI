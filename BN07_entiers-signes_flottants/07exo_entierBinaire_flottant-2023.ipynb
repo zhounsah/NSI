{
 "cells": [
  {
   "cell_type": "markdown",
   "metadata": {},
   "source": [
    "##### Entier négatif\n",
    "\n",
    "# QCM\n",
    "## Question 1\n",
    "**QCM :**  Soit x l'entier 21, donc x = 21  \n",
    "En représentation binaire signée sur 5 bits par la méthode du complément à 2,   \n",
    "quelle affirmation est vraie ?\n",
    "\n",
    "Réponse A : x et son opposé -x ne peuvent pas être représentés.   \n",
    "Réponse B : x est représenté par `10101` et son opposé -x est représenté par `01010` .         \n",
    "Réponse C : x est représenté par `10101` et son opposé -x ne peut pas être représenté.  \n",
    "Réponse D : x est représenté par `10101` et son opposé -x est représenté par `01011`.\n",
    "\n",
    "Votre réponse : A\n",
    "\n",
    "&nbsp;\n",
    "<details><summary>Cliquer ici pour obtenir la solution</summary> Réponse A </details>"
   ]
  },
  {
   "cell_type": "markdown",
   "metadata": {},
   "source": [
    "## Question 2\n",
    "**QCM :**  Parmi les affirmations suivantes, une seule est vraie, laquelle ?   \n",
    "\n",
    "a/ Si un entier est pair, alors son écriture binaire se termine par 0.  \n",
    "b/ Pour multiplier un entier par 2, il suffit d'ajouter un 1 à gauche de son écriture binaire.  \n",
    "c/ Pour additionner 2 entiers, il suffit de concaténer leurs écritures binaires.   \n",
    "d/ L'entier 0 a 2 écritures binaires pour les entiers signés : `00000000` et `11111111`.\n",
    "\n",
    "Votre réponse : A\n",
    "\n",
    "&nbsp;\n",
    "<details><summary>Cliquer ici pour obtenir la solution</summary> Réponse A </details>"
   ]
  },
  {
   "cell_type": "markdown",
   "metadata": {},
   "source": [
    "## Question 3 \n",
    "**QCM :**  En écriture binaire signée d'un entier signé (avec la méthode du complément à 2), quelle affirmation est vraie ?  \n",
    "\n",
    "a/ Sur un octet, l'entier maximum est 255.   \n",
    "b/ Sur 8 bits, l'entier maximum est l'opposé de l'entier minimum.  \n",
    "c/ Sur 8 bits, l'entier minimum est -127.  \n",
    "d/ Sur 4 bits, on peut coder 16 entiers.\n",
    "\n",
    "Votre réponse : D\n",
    "\n",
    "&nbsp;\n",
    "<details><summary>Cliquer ici pour obtenir la solution</summary> Réponse D </details>"
   ]
  },
  {
   "cell_type": "markdown",
   "metadata": {},
   "source": [
    "## Question 4\n",
    "**QCM :** En représentation binaire signée sur 8 bits, on pose x = `01011011`.  \n",
    "Voici plusieurs propositions et une seule est vraie :\n",
    "\n",
    "Réponse A : son opposé est -x = `10100101` et son double est 2x = `10110111` et son écriture hexadécimale est `5B` .     \n",
    "Réponse B : son opposé est -x = `10100100` et son double est 2x = `10110110` et son écriture hexadécimale est `5B` .   \n",
    "Réponse C : son opposé est -x = `10100100` et son double est 2x = `10110111` et son écriture hexadécimale est `5B` .  \n",
    "Réponse D : aucune des 3 propositions précédentes.\n",
    "\n",
    "Votre réponse : B\n",
    "\n",
    "**Auto-correction** : "
   ]
  },
  {
   "cell_type": "code",
   "execution_count": 1,
   "metadata": {},
   "outputs": [
    {
     "name": "stdout",
     "output_type": "stream",
     "text": [
      "le complément à 2 de -x sur 8 bits : 0b10100101\n",
      "écriture binaire de 2x : 0b10110110\n",
      "écriture hexadécimale de 2x : 0x5b\n"
     ]
    }
   ],
   "source": [
    "x = 0b01011011\n",
    "print(\"le complément à 2 de -x sur 8 bits :\", bin(-x & 0b11111111))\n",
    "print(\"écriture binaire de 2x :\", bin(2*x))\n",
    "print(\"écriture hexadécimale de 2x :\", hex(x))"
   ]
  },
  {
   "cell_type": "markdown",
   "metadata": {},
   "source": [
    "# Contexte de l'addition binaire\n",
    "Voici 2 contextes dans lesquels, le microprocesseur doit faire une addition binaire sur 8 bits.\n",
    "\n",
    "## Un contexte non-signé\n",
    "Kevin collectionne les timbres. Il en possède 132.   \n",
    "Puis, lors d'une exposition, il fait l'acquisition de 58 nouveaux timbres (une folie !).  \n",
    "\n",
    "a/ Traduire ces données en binaire :  132 = `10000100` et 58 = `111010`  \n",
    "\n",
    "b/ Effectuer l'addition binaire sur 8 bits des 2 écriture précédentes : 132+58  =  `10111110`\n",
    "\n",
    "c/ Convertir cette écriture binaire dans le système décimal, et vérifier que cela correspond à \"132 + 58\". \n",
    "\n",
    "**Auto-correction** :"
   ]
  },
  {
   "cell_type": "code",
   "execution_count": 2,
   "metadata": {},
   "outputs": [
    {
     "name": "stdout",
     "output_type": "stream",
     "text": [
      "a/ 132 = 0b10000100 et 58 = 0b111010\n",
      "b/c/ 132+58 = 0b10111110\n"
     ]
    }
   ],
   "source": [
    "print(\"a/ 132 =\", bin(132), \"et 58 =\", bin(58))\n",
    "print(\"b/c/ 132+58 =\", bin(132+58))"
   ]
  },
  {
   "cell_type": "markdown",
   "metadata": {},
   "source": [
    "## Un contexte signé\n",
    "Cette fois, Kevin est inquiet pour son compte en banque.  \n",
    "Effectivement, son solde, en notation binaire signée sur 8 bits, est `1000 0100` donc il a bien compris qu'il était dans le négatif !  \n",
    "Il décide donc d'effectuer un petit travail rémunéré et apporte la somme `0011 1010` à son compte.  \n",
    "\n",
    "a/ Pour calculer le nouveau solde du compte de Kevin :  \n",
    "Effectuer l'addition binaire sur 8 bits des 2 écritures binaires.  \n",
    "`1000 0100` + `0011 1010`  = `1011 1110 ==> 0100 0001 ==> 0100 0010`\n",
    "\n",
    "b/ Convertir ce résultat obtenu (binaire signé) dans le système décimal : -66\n",
    "\n",
    "c/ Vérifions si on obtient le même résultat dans le système décimal ?   \n",
    "Convertissons d'abord : `1000 0100` = -124 et `0011 1010` = 58   \n",
    "Puis la somme = 192\n",
    "\n",
    "**Conclusion** : \n",
    "<div class = alert-danger>\n",
    "Le microprocesseur n'a pas besoin de connaître le contexte pour effectuer les opérations.  \n",
    "    \n",
    "Que les écritures binaires soient signées ou pas, l'addition est correcte dans les 2 situations.   \n",
    "La méthode du complément à 2 permet un gain de temps pour la machine !\n",
    "</div>"
   ]
  },
  {
   "cell_type": "markdown",
   "metadata": {},
   "source": [
    "**Exercice 1:**\n",
    "\n",
    "1°/ **Peut-on représenter -15 sur 4 bits par la méthode du complément à 2.**  \n",
    "   -15 = `impossible`\n",
    "\n",
    "2°/ **Représenter 4 et -5 sur 4 bits.**  \n",
    "   4 = `0100` et -5 = `1011`\n",
    "\n",
    "3°/ **a/ Additionner en binaire 4 et -5.**  \n",
    "   b/ Vérifier que la représentation décimale est -1.  \n",
    "\n",
    "4°/ **Quels sont les plus grands et plus petits entiers positifs que l'on puisse représenter sur 4 bits signés.**\n",
    "\n",
    "   | &nbsp;                           | en binaire 4 bits signés | en système décimal |\n",
    "   |:--------------------------------:|:------------------------:|:-------------------|\n",
    "   | le plus **petit** entier positif |    $0000$                 |       $0$          |\n",
    "   | le plus **grand** entier positif |    $0111$                 |       $7$          |\n",
    "\n",
    "5°/ **Idem pour les entiers strictement négatifs :**\n",
    "\n",
    "   | &nbsp;                           | en binaire 4 bits signés | en système décimal |\n",
    "   |:--------------------------------:|:------------------------:|:-------------------|\n",
    "   | le plus **petit** entier négatif |    $1000$                 |      $-8$          |\n",
    "   | le plus **grand** entier négatif |    $0111$                 |      $-1$          |\n",
    "\n",
    "6°/ **Quel intervalle d'entiers signés peuvent être codés sur 4 bits ?**  \n",
    "   [-8;7]"
   ]
  },
  {
   "cell_type": "markdown",
   "metadata": {},
   "source": [
    "## Exercice 2\n",
    "\n",
    "Kevin a converti une écriture binaire en écriture décimale, il a obtenu 138.  \n",
    "Cependant, son professeur lui fait remarqué qu'il s'agissait d'une représentation signée, et que par conséquent le nombre est négatif.\n",
    "\n",
    "Quel est ce nombre négatif ? 138 = 10001010"
   ]
  },
  {
   "cell_type": "markdown",
   "metadata": {},
   "source": [
    "##### Flottant"
   ]
  },
  {
   "cell_type": "markdown",
   "metadata": {},
   "source": [
    "# QCM sur les flottants\n",
    "\n",
    "## Question 5\n",
    "**QCM :** Voici 4 flottants exprimés avec les séparateurs d'usage :  \n",
    "\n",
    "a = | `1` | `01100101` | `00101101001110101100101`|  \n",
    "b = | `0` | `10101100` | `00001001101010111101111`|  \n",
    "c = | `0` | `00101100` | `00001001101010111101111`|  \n",
    "d = | `1` | `01100101` | `00001001101010111101111`|  \n",
    "\n",
    "**Quelle affirmation est vraie ?**  \n",
    "A/ a < d < b < c  \n",
    "B/ d < a < c < b  \n",
    "C/ b < c < a < d  \n",
    "D/ aucune de ces 3 propositions  \n",
    "\n",
    "Réponse : D\n",
    "\n",
    "&nbsp;\n",
    "<details><summary>Cliquer ici pour obtenir la solution</summary> Réponse D : a<d<c<b </details>\n"
   ]
  },
  {
   "cell_type": "markdown",
   "metadata": {},
   "source": [
    "## Question 6\n",
    "**QCM :** Un réel x s'écrit `11,11` en base deux.  \n",
    "Quelle est son écriture en base dix :  \n",
    "\n",
    "A/ 3,3  \n",
    "B/ 3,75  \n",
    "C/ 75,75  \n",
    "D/ 75,3\n",
    "\n",
    "Réponse : B\n",
    "\n",
    "&nbsp;\n",
    "<details><summary>Cliquer ici pour obtenir la solution</summary> Réponse B </details>"
   ]
  },
  {
   "cell_type": "markdown",
   "metadata": {},
   "source": [
    "## Question 7\n",
    "**QCM :** Après le code ci-dessous :\n",
    "\n",
    "A/ les valeurs désignées par a et b sont égales; et idem pour c et d.   \n",
    "B/ les valeurs désignées par a et b ne sont pas égales; mais c == d.  \n",
    "B/ les valeurs désignées par a et b sont égales; mais c != d.  \n",
    "A/ les valeurs désignées par a et b ne sont pas égales; et idem pour c et d.  \n",
    "\n",
    "**Auto-correction** : "
   ]
  },
  {
   "cell_type": "code",
   "execution_count": 3,
   "metadata": {},
   "outputs": [
    {
     "name": "stdout",
     "output_type": "stream",
     "text": [
      "a == b : False \n",
      "et c == d : True\n"
     ]
    }
   ],
   "source": [
    "a = 1 - 1 + 10**(-40)\n",
    "b = 10**(-40) + 1 - 1\n",
    "c = 1 - 1 + 2**(-40)\n",
    "d = 2**(-40) + 1 - 1\n",
    "\n",
    "print(\"a == b :\", a == b, \"\\net c == d :\", c == d)"
   ]
  },
  {
   "cell_type": "markdown",
   "metadata": {},
   "source": [
    "# Exercices d'application sur les flottants\n",
    "\n",
    "## Exercice 3\n",
    "**Déterminer la mantisse et l'exposant, puis écrire la mantisse en binaire** :   \n",
    "**a/  0,3125**   \n",
    "mantisse = 3.125 &nbsp; exposant = -2 &nbsp; mantisse en binaire = 1,01  \n",
    "Vérification : [https://www.binaryconvert.com/result_float.html?decimal=048046051049050053](https://www.binaryconvert.com/result_float.html?decimal=048046051049050053)\n",
    "\n",
    "**b/  0,125**   \n",
    "mantisse = 1.25 &nbsp; exposant = -3 &nbsp; mantisse en binaire = 1,.......  \n",
    "Vérification : [https://www.binaryconvert.com/result_float.html?decimal=048046049050053](https://www.binaryconvert.com/result_float.html?decimal=048046049050053)\n",
    "\n",
    "**c/  0,2** (arrêter lorsqu'il n'y a plus de place sur la feuille)  \n",
    "mantisse = 2 &nbsp; exposant = -1 &nbsp; mantisse en binaire = 1,.......  \n",
    "Vérification : [https://www.binaryconvert.com/result_float.html?decimal=048046050](https://www.binaryconvert.com/result_float.html?decimal=048046050)"
   ]
  },
  {
   "cell_type": "markdown",
   "metadata": {},
   "source": [
    "## Exercice 4\n",
    "En 1991, lors de la première « Guerre du Golfe », les américains utilisaient des antimis-\n",
    "siles Patriot afin d’intercepter les missiles irakiens. Le 25 février, un missile irakien ne fut pas\n",
    "intercepté et entraîna la mort de 28 soldats américains. Une enquête gouvernementale mis en évidence une erreur humaine doublée d’une erreur d’arrondi dans l’écriture binaire du nombre 0,1.\n",
    "En effet, tous les dixièmes de secondes, la batterie antimissile émet un signal permettant de compter le temps écoulé. Or l’écriture de 0,1 en binaire est inexacte :\n",
    "0, 110 = 0, 000110011001100110011...\n",
    "1. La batterie antimissile code les nombres décimaux en ne gardant que 23 décimales. Quelle est la valeur exacte du nombre 0,00011001100110011001100 ?\n",
    "\n",
    "2. Quelle est l’erreur par rapport à 0,1 ?\n",
    "\n",
    "Normalement la batterie devait être réinitialisée tous les jours. Après l’accident on constata qu’elle n’avait pas été éteinte depuis plus de 100 heures.\n",
    "3. Combien de cycle de 0,1 secondes se déroulent en 100 heures ?\n",
    "\n",
    "4. Quelle était l’erreur cumulée de l’horloge ?\n",
    "\n",
    "5. Sachant qu’un missile Scud se déplace à environ 1 600 m/s, quelle fut l’erreur d’estimation sur la position du missile ?\n",
    "\n",
    "\n",
    "Pour en savoir plus sur des erreurs célèbres dues à la conversion et au dépassement : https://www-users.cse.umn.edu/~arnold/disasters/disasters.html  \n",
    "*Issu d'un exercice de N.Reveret*"
   ]
  },
  {
   "cell_type": "markdown",
   "metadata": {},
   "source": [
    "## Exercice 5\n",
    "**1°/ Convertir -243,25 en écriture binaire simple précision :**\n",
    "\n",
    "| signe | Exposant  |      Mantisse        |\n",
    "|-------|:---------:|:--------------------:|\n",
    "| 1 bit |  8 bits   |       23 bits        |\n",
    "| `.`   | `.......` | `..................` |\n",
    "\n",
    "**2°/ Convertir cette écriture binaire en écriture hexadécimale.**\n",
    "\n",
    "Vérification sur : [https://www.binaryconvert.com/result_float.html?decimal=045050052051046050053](https://www.binaryconvert.com/result_float.html?decimal=045050052051046050053)"
   ]
  },
  {
   "cell_type": "markdown",
   "metadata": {},
   "source": [
    "## Exercice 6\n",
    "1°/ Convertir l'écriture hexadécimale simple précision du flottant `41440000` en binaire.\n",
    "\n",
    "2°/ Puis en écriture décimale.\n",
    "\n",
    "Vérification sur : [https://www.binaryconvert.com/result_float.html?hexadecimal=41440000](https://www.binaryconvert.com/result_float.html?hexadecimal=41440000)\n"
   ]
  },
  {
   "cell_type": "markdown",
   "metadata": {},
   "source": [
    "# Hors-programme : Pour aller plus loin sur la simple précision\n",
    "## L'infini et le Zéro\n",
    "\n",
    "L'exposant -127 codé `0000 0000` est réservé pour le ZERO et les nombres non normalisés (ci-dessous).  \n",
    "\n",
    "L'exposant 128 codé `1111 1111` est réservé pour l'INFINI (infini positif et infini\n",
    "négatif).  \n",
    "\n",
    "| signe | Exposant| Mantisse | Nombre |\n",
    "|:-----:|:-------:|:--------:|:--------|\n",
    "|   0   |   0     |    0     | +0 |\n",
    "|   1   |   0     |    0     | -0 |\n",
    "|   0   |   255   |    0     | + infini |\n",
    "|   1   |   255   |    0     | - infini |\n",
    "\n",
    "\n",
    "## Les nombres non normalisés\n",
    "\n",
    "### Définition\n",
    "Un nombre est dit dénormalisé si son exposant = 0 et sa mantisse ≠ 0.\n",
    "\n",
    "Alors la formule de calcul est définie différemment :  \n",
    "En simple précision c'est : valeur = signe × 0,mantisse × 2<sup>-126</sup>  \n",
    "\n",
    "Cette formule permet d'avoir davantage de chiffres significatifs (une meilleure précision)\n",
    "\n",
    "La représentation binaire :\n",
    "\n",
    "| signe  |Exposant |Mantisse |               Nombre                         |\n",
    "|:------:|:-------:|:-------:|:---------------------------------------------|\n",
    "|    0   |     0   |    m    |   signe × 0,mantisse × 2<sup>-126</sup>      |\n",
    "\n",
    "### Exemple :\n",
    "Le plus grand nombre dénormalisé est :\n",
    "\n",
    "| signe  |Exposant |Mantisse |               Nombre                         |\n",
    "|:------:|:-------:|:-------:|:---------------------------------------------|\n",
    "|    0   | `0000 0000` | `111 1111 1111 1111 1111 1111`| 1,17549421 × 10<sup>-38</sup> |\n",
    "\n",
    "valeur = signe × 0,mantisse × 2<sup>-126</sup>   \n",
    "= `0.11111111111111111111111` * 2<sup>-126</sup>  \n",
    "= `111 1111 1111 1111 1111 1111` * 2<sup>-23</sup> * 2<sup>-126</sup>"
   ]
  },
  {
   "cell_type": "code",
   "execution_count": null,
   "metadata": {},
   "outputs": [],
   "source": [
    "0b11111111111111111111111 * 2**(-23-126)"
   ]
  }
 ],
 "metadata": {
  "kernelspec": {
   "display_name": "Python 3 (ipykernel)",
   "language": "python",
   "name": "python3"
  },
  "language_info": {
   "codemirror_mode": {
    "name": "ipython",
    "version": 3
   },
   "file_extension": ".py",
   "mimetype": "text/x-python",
   "name": "python",
   "nbconvert_exporter": "python",
   "pygments_lexer": "ipython3",
   "version": "3.9.1"
  }
 },
 "nbformat": 4,
 "nbformat_minor": 2
}

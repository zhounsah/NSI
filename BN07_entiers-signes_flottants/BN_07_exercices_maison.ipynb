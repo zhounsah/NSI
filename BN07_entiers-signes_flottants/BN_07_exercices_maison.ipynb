{
 "cells": [
  {
   "cell_type": "markdown",
   "id": "2649ab66",
   "metadata": {},
   "source": [
    "## Exercice 1\n",
    "1) Quelle est la représentation du plus plus petit nombre flottant codé sur 32 bits sachant que son exposant décalé maximal est strictement inférieur à 255?  \n",
    "\n",
    "|signe| Exposant | Mantisse|  \n",
    "|-------|:-----:|:---------:|  \n",
    "|1 bit | 8 bits | 23 bits |  \n",
    "| `` <br><br><br>| `` <br><br><br> | `` <br><br> |  \n",
    "\n",
    "2) Quelle est la valeur décimale de ce nombre ?"
   ]
  },
  {
   "cell_type": "markdown",
   "id": "570098b4",
   "metadata": {},
   "source": [
    "## Exercice 2\n",
    "1) Quelle est la représentation du plus petit nombre flottant positif codé sur 32 bits sachant que son exposant décalé minimal est strictement supérieur à 0?  \n",
    "\n",
    "|signe| Exposant | Mantisse|  \n",
    "|-------|:-----:|:---------:|  \n",
    "|1 bit | 8 bits | 23 bits |  \n",
    "| `` <br><br><br>| `` <br><br><br> | `` <br>|  \n",
    "\n",
    "2) Quelle est la valeur décimale de ce nombre ?"
   ]
  }
 ],
 "metadata": {
  "kernelspec": {
   "display_name": "Python 3 (ipykernel)",
   "language": "python",
   "name": "python3"
  },
  "language_info": {
   "codemirror_mode": {
    "name": "ipython",
    "version": 3
   },
   "file_extension": ".py",
   "mimetype": "text/x-python",
   "name": "python",
   "nbconvert_exporter": "python",
   "pygments_lexer": "ipython3",
   "version": "3.11.0"
  }
 },
 "nbformat": 4,
 "nbformat_minor": 5
}

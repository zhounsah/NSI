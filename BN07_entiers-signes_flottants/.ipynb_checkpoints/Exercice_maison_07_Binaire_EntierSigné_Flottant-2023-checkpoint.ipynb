{
 "cells": [
  {
   "cell_type": "markdown",
   "id": "64eadf93",
   "metadata": {},
   "source": [
    "# Nombres entiers signés\n",
    "\n",
    "## Exercice 1 :\n",
    "1. Parmi les nombres binaires suivants, lesquels correspondent à un nombre entier négatif codé sur 8 bits ?\n",
    "\n",
    "        a. 11011001 => 00100110 => 00100111 => -39\n",
    "        b. 01000000\n",
    "        c. 10101100 => 01010011 => 01010100 => -84\n",
    "        d. 00001111\n",
    "2. Combien valent ces nombres négatifs ?"
   ]
  },
  {
   "cell_type": "markdown",
   "id": "f32d8686",
   "metadata": {},
   "source": [
    "## Exercice 2 \n",
    "Donner l’écriture binaire sur 8 bits des nombres suivants :\n",
    "\n",
    "    a. 109 = 1101101\n",
    "    b. -109 => \n",
    "    c. -46 => 00101110 => 11010001 => 11010010"
   ]
  },
  {
   "cell_type": "markdown",
   "id": "f569b1ad",
   "metadata": {},
   "source": [
    "# Nombres flottants\n",
    "## Exercice 1\n",
    "On rappelle que :\n",
    "* `000100,11` = 2<sup>2</sup> + 2<sup>-1</sup> + 2<sup>-2</sup> = 4.75\n",
    "\n",
    "Convertir en base 10 les nombres binaires suivants : $0,11_2$  et  $111, 101_2$"
   ]
  },
  {
   "cell_type": "markdown",
   "id": "f21b365d",
   "metadata": {},
   "source": [
    "## Exercice 2\n",
    "Convertir en binaire : 10,375 et 5,5"
   ]
  },
  {
   "cell_type": "markdown",
   "id": "8f42938c",
   "metadata": {},
   "source": [
    "## Exercice 3\n",
    "1) Quelle est la représentation du plus plus petit nombre flottant codé sur 32 bits sachant que son exposant décalé maximal est strictement inférieur à 255?  \n",
    "\n",
    "|signe| Exposant | Mantisse|  \n",
    "|-------|:-----:|:---------:|  \n",
    "|1 bit | 8 bits | 23 bits |  \n",
    "| `` <br><br><br>| `` <br><br><br> | `` <br><br> |  \n",
    "\n",
    "2) Quelle est la valeur décimale de ce nombre ?"
   ]
  },
  {
   "cell_type": "markdown",
   "id": "10297546",
   "metadata": {},
   "source": [
    "## Exercice 4\n",
    "1) Quelle est la représentation du plus petit nombre flottant positif codé sur 32 bits sachant que son exposant décalé minimal est strictement supérieur à 0?  \n",
    "\n",
    "|signe| Exposant | Mantisse|  \n",
    "|-------|:-----:|:---------:|  \n",
    "|1 bit | 8 bits | 23 bits |  \n",
    "| `` <br><br><br>| `` <br><br><br> | `` <br>|  \n",
    "\n",
    "2) Quelle est la valeur décimale de ce nombre ?"
   ]
  }
 ],
 "metadata": {
  "kernelspec": {
   "display_name": "Python 3 (ipykernel)",
   "language": "python",
   "name": "python3"
  },
  "language_info": {
   "codemirror_mode": {
    "name": "ipython",
    "version": 3
   },
   "file_extension": ".py",
   "mimetype": "text/x-python",
   "name": "python",
   "nbconvert_exporter": "python",
   "pygments_lexer": "ipython3",
   "version": "3.11.0"
  }
 },
 "nbformat": 4,
 "nbformat_minor": 5
}
